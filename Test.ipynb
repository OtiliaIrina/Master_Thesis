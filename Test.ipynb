{
 "cells": [
  {
   "cell_type": "markdown",
   "id": "11981dc3-aa76-44b1-9254-bb0582347a37",
   "metadata": {},
   "source": [
    "# Test"
   ]
  },
  {
   "cell_type": "code",
   "execution_count": 28,
   "id": "022a059d-1824-4511-b69f-cdc4f58fc739",
   "metadata": {},
   "outputs": [],
   "source": [
    "import astropy.io.fits as fits\n",
    "import numpy as np\n",
    "from numpy import array\n",
    "\n",
    "from scipy.integrate import quad\n",
    "import scipy.integrate as integrate\n",
    "from scipy.optimize import curve_fit\n",
    "from scipy import stats\n",
    "\n",
    "from astropy.coordinates import SkyCoord, match_coordinates_sky\n",
    "from astropy import units as u\n",
    "from astropy.table import Table,join\n",
    "import os\n",
    "import matplotlib.pyplot as plt\n",
    "from astropy.cosmology import FlatLambdaCDM\n",
    "from astropy.cosmology import Planck15\n",
    "import treecorr\n",
    "\n",
    "\n",
    "#import arviz as az\n",
    "#import pandas as pd\n",
    "import pymc as pm\n",
    "from pymc import HalfCauchy, Model, Normal, sample\n",
    "\n",
    "%matplotlib inline\n",
    "\n",
    "import halomod as hm\n",
    "import hmf\n",
    "\n",
    "import astropy.io.fits as pyfits\n",
    "import copy\n",
    "import sys"
   ]
  },
  {
   "cell_type": "code",
   "execution_count": 29,
   "id": "98a17fa6-1cf7-4d7c-bbc5-0ff0d3d80b9c",
   "metadata": {},
   "outputs": [],
   "source": [
    "import package.subsample \n",
    "import package.subsample_analysis \n",
    "import package.correlation_function \n",
    "import package.cosmology\n",
    "import package.bias_calculator"
   ]
  },
  {
   "cell_type": "code",
   "execution_count": 30,
   "id": "921f18ed-4ba2-4108-9686-7183707f4544",
   "metadata": {},
   "outputs": [],
   "source": [
    "directory_SN_X3 = \"/home/astro/manasoi7/Master_Thesis/Results/SN-X3\"\n",
    "directory_SN_C3 = \"/home/astro/manasoi7/Master_Thesis/Results/SN-C3\"\n",
    "directory_SN_E2 = \"/home/astro/manasoi7/Master_Thesis/Results/SN-E2\" \n",
    "directory_COSMOS = \"/home/astro/manasoi7/Master_Thesis/Results/COSMOS\" \n",
    "\n",
    "\n",
    "home_dir = os.path.expanduser('~')\n",
    "thesis_path = os.path.join(home_dir, 'Master_Thesis', 'DATA')\n",
    "res = os.path.join(home_dir, 'Master_Thesis', 'Results')"
   ]
  },
  {
   "cell_type": "code",
   "execution_count": 31,
   "id": "a90ea50b-bf36-484a-893d-f5c1e3d2a929",
   "metadata": {
    "tags": []
   },
   "outputs": [
    {
     "name": "stderr",
     "output_type": "stream",
     "text": [
      "/tmp/ipykernel_694749/2348830911.py:4: UserWarning: loadtxt: input contained no data: \"/home/astro/manasoi7/Master_Thesis/Results/SN-C3/sm_biases.txt\"\n",
      "  C3 = np.loadtxt(directory_SN_C3 + '/sm_biases.txt', delimiter=',')\n"
     ]
    }
   ],
   "source": [
    "COSMOS = np.loadtxt(directory_COSMOS + '/sm_biases.txt', delimiter=',')\n",
    "X3 = np.loadtxt(directory_SN_X3 + '/sm_biases.txt', delimiter=',')\n",
    "E2 = np.loadtxt(directory_SN_E2 + '/sm_biases.txt', delimiter=',')\n",
    "C3 = np.loadtxt(directory_SN_C3 + '/sm_biases.txt', delimiter=',')\n"
   ]
  },
  {
   "cell_type": "code",
   "execution_count": 32,
   "id": "9d3f044a-bdff-4671-af04-cfcaf8250691",
   "metadata": {},
   "outputs": [],
   "source": [
    "config = {\n",
    "    'min_sep':  0.003,\n",
    "    'max_sep': 1.78,\n",
    "    'bin_size': 0.1,\n",
    "    'sep_units': 'degrees',\n",
    "    'var_method': 'bootstrap'  # or 'jackknife'\n",
    "}"
   ]
  },
  {
   "cell_type": "code",
   "execution_count": 33,
   "id": "47c6a585-28d1-470a-89be-5571907a0d17",
   "metadata": {},
   "outputs": [],
   "source": [
    "\n",
    "column_sums = []\n",
    "w_thetas= []\n",
    "\n",
    "for i in range(21):\n",
    "\n",
    "    data_SN_E2 = np.loadtxt(os.path.join(directory_SN_E2, f\"SN_E2_{i}.txt\"), comments='#')\n",
    "    data_SN_C3 = np.loadtxt(f\"output_file_{i}.txt\", comments='#')\n",
    "    data_SN_X3 = np.loadtxt(os.path.join(directory_SN_X3, f\"SN_X3_{i}.txt\"), comments='#')\n",
    "    data_COSMOS = np.loadtxt(os.path.join(directory_COSMOS, f\"COSMOS_{i}.txt\"), comments='#')\n",
    "\n",
    "\n",
    "    sum_dd = np.sum([data_SN_E2[:, 5], data_SN_C3[:, 5], data_SN_X3[:, 5], data_COSMOS[:, 5]], axis=0)\n",
    "    sum_rr = np.sum([data_SN_E2[:, 6], data_SN_C3[:, 6], data_SN_X3[:, 6], data_COSMOS[:, 6]], axis=0)\n",
    "    sum_dr = np.sum([data_SN_E2[:, 7], data_SN_C3[:, 7], data_SN_X3[:, 7], data_COSMOS[:, 7]], axis=0)\n",
    "    \n",
    "    w_theta = (sum_dd - 2 * sum_dr + sum_rr) / sum_rr\n",
    "    w_thetas.append(w_theta)\n",
    "    \n",
    "    column_sums.append({\n",
    "        'catalog_index': i,\n",
    "        'sum_dd': sum_dd,\n",
    "        'sum_rr': sum_rr,\n",
    "        'sum_dr': sum_dr,\n",
    "        'w_theta': w_theta\n",
    "        \n",
    "    })\n",
    "    \n",
    "    \n",
    "    \"\"\"\n",
    "for result in column_sums:\n",
    "    print(f\"Subsample {result['catalog_index']}:\")\n",
    "    #print(f\"  Sum of dd : {result['sum_dd']}\")\n",
    "    #print(f\"  Sum of rr : {result['sum_rr']}\")\n",
    "    #print(f\"  Sum of dr : {result['sum_dr']}\")\n",
    "    print(f\"  Sum of w_theta : {result['w_theta']}\")\n",
    "    print()\"\"\"\n"
   ]
  },
  {
   "cell_type": "code",
   "execution_count": 34,
   "id": "8b862422-21ea-485a-bf98-36b48f306fc9",
   "metadata": {
    "tags": []
   },
   "outputs": [
    {
     "name": "stdout",
     "output_type": "stream",
     "text": [
      "[0.0031496 0.0035157 0.0038613 0.0042923 0.0046872 0.0052279 0.0057686\n",
      " 0.0063273 0.0069717 0.0077592 0.0085964 0.009459  0.010501  0.011552\n",
      " 0.012762  0.014109  0.015653  0.017178  0.019063  0.021046  0.023245\n",
      " 0.025652  0.028375  0.031369  0.034682  0.038257  0.042353  0.046737\n",
      " 0.051626  0.057008  0.063032  0.069668  0.076917  0.084993  0.093922\n",
      " 0.10384   0.11464   0.12674   0.14006   0.15475   0.17102   0.18886\n",
      " 0.20861   0.2306    0.25477   0.28149   0.31114   0.34361   0.37974\n",
      " 0.41949   0.46352   0.51214   0.56581   0.62515   0.69094   0.76312\n",
      " 0.84318   0.93156   1.0286    1.1357    1.2544    1.381     1.5249\n",
      " 1.6799   ]\n"
     ]
    }
   ],
   "source": [
    "z_values = np.arange(0.3, 1.1, 0.1) \n",
    "theta = data_SN_E2[:, 1]\n",
    "print(theta)"
   ]
  },
  {
   "cell_type": "code",
   "execution_count": 35,
   "id": "3abc6e18-3cec-417b-a9b3-f0989cb56ce0",
   "metadata": {
    "tags": []
   },
   "outputs": [
    {
     "data": {
      "text/plain": [
       "'variance = np.var(w_thetas, axis=0)\\nstd_devs = np.sqrt(variance)\\n\\n\\nx = theta\\ny = w_thetas\\nsigma = std_devs\\n\\n\\n\\nfor i in range(21):\\n\\n    with pm.Model() as model:\\n        # Define RR pair counts as data\\n        rr = pm.Data(\"rr\", sum_rr, dims=\"observation\")\\n        \\n        # Define priors\\n        A = HalfCauchy(\"A\", 0.5)\\n        delta = Normal(\\'delta\\', -0.8, sigma=2.0)\\n        \\n        # Compute intrinsic clustering correction\\n        IC = pm.math.sum(A * (x ** delta) * rr) / pm.math.sum(rr)\\n        y_pred = A * (theta ** delta) - IC\\n        \\n        # Define likelihood\\n        likelihood = Normal(\"y\", mu=y_pred, sigma=sigma, observed=y, dims=\"observation\")\\n            # Inference!\\n        # draw 3000 posterior samples using NUTS sampling\\n        idata = sample(1000, tune=4000)\\n        \\n\\n\\n\\n\\nfor i in range(21):\\n    A_median = np.median(idata.posterior[\"A\"].values)\\n    delta_median = np.median(idata.posterior[\"delta\"].values)\\n\\n            # Print the results\\n    print(f\"Subsample {i}: A median = {A_median:.3f}, delta median = {delta_median:.3f}\")\\n\\n'"
      ]
     },
     "execution_count": 35,
     "metadata": {},
     "output_type": "execute_result"
    }
   ],
   "source": [
    "\"\"\"variance = np.var(w_thetas, axis=0)\n",
    "std_devs = np.sqrt(variance)\n",
    "\n",
    "\n",
    "x = theta\n",
    "y = w_thetas\n",
    "sigma = std_devs\n",
    "\n",
    "\n",
    "\n",
    "for i in range(21):\n",
    "\n",
    "    with pm.Model() as model:\n",
    "        # Define RR pair counts as data\n",
    "        rr = pm.Data(\"rr\", sum_rr, dims=\"observation\")\n",
    "        \n",
    "        # Define priors\n",
    "        A = HalfCauchy(\"A\", 0.5)\n",
    "        delta = Normal('delta', -0.8, sigma=2.0)\n",
    "        \n",
    "        # Compute intrinsic clustering correction\n",
    "        IC = pm.math.sum(A * (x ** delta) * rr) / pm.math.sum(rr)\n",
    "        y_pred = A * (theta ** delta) - IC\n",
    "        \n",
    "        # Define likelihood\n",
    "        likelihood = Normal(\"y\", mu=y_pred, sigma=sigma, observed=y, dims=\"observation\")\n",
    "            # Inference!\n",
    "        # draw 3000 posterior samples using NUTS sampling\n",
    "        idata = sample(1000, tune=4000)\n",
    "        \n",
    "\n",
    "\n",
    "\n",
    "\n",
    "for i in range(21):\n",
    "    A_median = np.median(idata.posterior[\"A\"].values)\n",
    "    delta_median = np.median(idata.posterior[\"delta\"].values)\n",
    "\n",
    "            # Print the results\n",
    "    print(f\"Subsample {i}: A median = {A_median:.3f}, delta median = {delta_median:.3f}\")\n",
    "\n",
    "\"\"\"\n"
   ]
  },
  {
   "cell_type": "code",
   "execution_count": 36,
   "id": "25e20d48-8bc6-4ffe-8568-81c57d54a649",
   "metadata": {
    "tags": []
   },
   "outputs": [
    {
     "name": "stderr",
     "output_type": "stream",
     "text": [
      "/tmp/ipykernel_694749/4265396073.py:7: UserWarning: No artists with labels found to put in legend.  Note that artists whose label start with an underscore are ignored when legend() is called with no argument.\n",
      "  plt.legend()\n"
     ]
    },
    {
     "data": {
      "image/png": "[encoded data removed]",
      "text/plain": [
       "<Figure size 640x480 with 1 Axes>"
      ]
     },
     "metadata": {},
     "output_type": "display_data"
    }
   ],
   "source": [
    "mask = (theta >= 0.1) & (theta <= 0.4)\n",
    "plt.scatter(theta[mask], w_thetas[4][mask])\n",
    "plt.xlabel(r' $ \\theta$ (degrees)')\n",
    "plt.ylabel(r' $w(\\theta)$')\n",
    "plt.yscale('log')\n",
    "plt.xscale('log')\n",
    "plt.legend()\n",
    "plt.show()"
   ]
  },
  {
   "cell_type": "code",
   "execution_count": 37,
   "id": "c01751c9-41f6-4bb9-83ca-26532fabfff2",
   "metadata": {
    "tags": []
   },
   "outputs": [
    {
     "name": "stdout",
     "output_type": "stream",
     "text": [
      "64\n",
      "64\n"
     ]
    }
   ],
   "source": [
    "nz = hm.integrate_corr.flat_z_dist(np.min(z_values), np.max(z_values))\n",
    "gg = hm.integrate_corr.AngularCF(nz,nz,theta_min= np.min(theta)*np.pi/180 ,theta_max=np.max(theta)*np.pi/180 ,theta_num = len(theta),zmin=np.min(z_values),zmax=np.max(z_values),z=np.mean(z_values),p_of_z=True)\n",
    "gg.hod_params = {\"M_min\":13.27, \"M_1\": 14.6, \"alpha\":1.}\n",
    "\n",
    "## With mask\n",
    "#gg.theta_min = np.min(theta[mask])*np.pi/180\n",
    "#gg.theta_max = np.max(theta[mask])*np.pi/180\n",
    "\n",
    "print(len(gg.theta*180/np.pi))\n",
    "print(len(theta))"
   ]
  },
  {
   "cell_type": "code",
   "execution_count": 39,
   "id": "95fc7396-c183-448e-8805-ea7082e8ffab",
   "metadata": {
    "tags": []
   },
   "outputs": [],
   "source": [
    "IC = []\n",
    "ws= []\n",
    "\n",
    "\n",
    "for i, result in enumerate(column_sums): \n",
    "    theta = np.array(theta)\n",
    "    sum_rr = np.array(result['sum_rr'])\n",
    "    \n",
    "    # Integral Constraint\n",
    "    IC_tmp = np.sum(gg.angular_corr_gal[i]* sum_rr[i])/np.sum(sum_rr[i])\n",
    "    IC.append(IC_tmp)\n",
    "    \n",
    "    #!!! this here is approximative, i need to find the amplitude and delta for each of the subsample, i tried above (with pymc) but has failed till now\n",
    "    w_fit = 2 * 1e-2 * theta**(-0.8)\n",
    "    w_IC = np.sum(w_fit * sum_rr[i] / np.sum(sum_rr)) \n",
    "    w = w_thetas[i] - w_IC  # w_measured + w_IC \n",
    "    ws.append(w) \n",
    "    \n"
   ]
  },
  {
   "cell_type": "code",
   "execution_count": 92,
   "id": "af717ede-8695-4799-864f-2a7ffc366e52",
   "metadata": {
    "tags": []
   },
   "outputs": [
    {
     "data": {
      "text/plain": [
       "'sums = []\\nw_thetas_SN_E2 = []\\nw_thetas_SN_C3 = []\\nw_thetas_SN_X3 = []\\nw_thetas_COSMOS = []\\n\\nfor i in range(21):\\n\\n\\n    # Calculate sum for each field\\n    sum_dd_SN_E2 = data_SN_E2[:, 5]\\n    sum_rr_SN_E2 = data_SN_E2[:, 6]\\n    sum_dr_SN_E2 = data_SN_E2[:, 7]\\n    \\n    w_theta_SN_E2 = (sum_dd_SN_E2 - 2 * sum_dr_SN_E2 + sum_rr_SN_E2) / sum_rr_SN_E2\\n    w_thetas_SN_E2.append(w_theta_SN_E2)\\n\\n    sum_dd_SN_C3 = data_SN_C3[:, 5]\\n    sum_rr_SN_C3 = data_SN_C3[:, 6]\\n    sum_dr_SN_C3 = data_SN_C3[:, 7]\\n    \\n    w_theta_SN_C3 = (sum_dd_SN_C3 - 2 * sum_dr_SN_C3 + sum_rr_SN_C3) / sum_rr_SN_C3\\n    w_thetas_SN_C3.append(w_theta_SN_C3)\\n\\n    sum_dd_SN_X3 = data_SN_X3[:, 5]\\n    sum_rr_SN_X3 = data_SN_X3[:, 6]\\n    sum_dr_SN_X3 = data_SN_X3[:, 7]\\n    \\n    w_theta_SN_X3 = (sum_dd_SN_X3 - 2 * sum_dr_SN_X3 + sum_rr_SN_X3) / sum_rr_SN_X3\\n    w_thetas_SN_X3.append(w_theta_SN_X3)\\n\\n    sum_dd_COSMOS = data_COSMOS[:, 5]\\n    sum_rr_COSMOS = data_COSMOS[:, 6]\\n    sum_dr_COSMOS = data_COSMOS[:, 7]\\n    \\n    w_theta_COSMOS = (sum_dd_COSMOS - 2 * sum_dr_COSMOS + sum_rr_COSMOS) / sum_rr_COSMOS\\n    w_thetas_COSMOS.append(w_theta_COSMOS)\\n    \\n    \\n\\n\\n# Example output for verification\\nfor i in range(21):\\n    print(f\"Sample {i}:Error = {w_theta_errors[i]}\")\\n\\n    # Store sums and w_theta for each catalog\\n    sums.append({\\n        \\'catalog_index\\': i,\\n        \\'sum_dd_SN_E2\\': sum_dd_SN_E2,\\n        \\'sum_rr_SN_E2\\': sum_rr_SN_E2,\\n        \\'sum_dr_SN_E2\\': sum_dr_SN_E2,\\n        \\'w_theta_SN_E2\\': w_theta_SN_E2,\\n        \\n        \\'sum_dd_SN_C3\\': sum_dd_SN_C3,\\n        \\'sum_rr_SN_C3\\': sum_rr_SN_C3,\\n        \\'sum_dr_SN_C3\\': sum_dr_SN_C3,\\n        \\'w_theta_SN_C3\\': w_theta_SN_C3,\\n        \\n        \\'sum_dd_SN_X3\\': sum_dd_SN_X3,\\n        \\'sum_rr_SN_X3\\': sum_rr_SN_X3,\\n        \\'sum_dr_SN_X3\\': sum_dr_SN_X3,\\n        \\'w_theta_SN_X3\\': w_theta_SN_X3,\\n        \\n        \\'sum_dd_COSMOS\\': sum_dd_COSMOS,\\n        \\'sum_rr_COSMOS\\': sum_rr_COSMOS,\\n        \\'sum_dr_COSMOS\\': sum_dr_COSMOS,\\n        \\'w_theta_COSMOS\\': w_theta_COSMOS\\n    })\\n    \\n\\n\\n# Print the results for each catalog\\nfor result in sums:\\n    print(f\"Subsample {result[\\'catalog_index\\']}:\")\\n    print(f\"  w_theta_SN_E2: {result[\\'w_theta_SN_E2\\']}\")\\n    print(f\"  w_theta_SN_C3: {result[\\'w_theta_SN_C3\\']}\")\\n    print(f\"  w_theta_SN_X3: {result[\\'w_theta_SN_X3\\']}\")\\n    print(f\"  w_theta_COSMOS: {result[\\'w_theta_COSMOS\\']}\")\\n    print()\\n\\n\\nfor i, result in enumerate(sums): \\n    print(f\"Subsample {result[\\'catalog_index\\']+1}:\")\\n\\n    \\n    plt.scatter(theta, w_theta_SN_E2, marker=\\'o\\', label=\\'without IC\\', color=\\'blue\\')  # without IC\\n\\n    plt.yscale(\\'log\\')\\n    plt.xscale(\\'log\\')\\n    plt.xlabel(\\'Separation (r) [deg]\\')\\n    plt.ylabel(\\'Correlation Function\\')\\n    plt.legend()\\n    plt.title(\\'w_theta_SN_E2\\')\\n    plt.grid(True)\\n    plt.show()\\n    \\n    \\n'"
      ]
     },
     "execution_count": 92,
     "metadata": {},
     "output_type": "execute_result"
    }
   ],
   "source": [
    "\"\"\"sums = []\n",
    "w_thetas_SN_E2 = []\n",
    "w_thetas_SN_C3 = []\n",
    "w_thetas_SN_X3 = []\n",
    "w_thetas_COSMOS = []\n",
    "\n",
    "for i in range(21):\n",
    "\n",
    "\n",
    "    # Calculate sum for each field\n",
    "    sum_dd_SN_E2 = data_SN_E2[:, 5]\n",
    "    sum_rr_SN_E2 = data_SN_E2[:, 6]\n",
    "    sum_dr_SN_E2 = data_SN_E2[:, 7]\n",
    "    \n",
    "    w_theta_SN_E2 = (sum_dd_SN_E2 - 2 * sum_dr_SN_E2 + sum_rr_SN_E2) / sum_rr_SN_E2\n",
    "    w_thetas_SN_E2.append(w_theta_SN_E2)\n",
    "\n",
    "    sum_dd_SN_C3 = data_SN_C3[:, 5]\n",
    "    sum_rr_SN_C3 = data_SN_C3[:, 6]\n",
    "    sum_dr_SN_C3 = data_SN_C3[:, 7]\n",
    "    \n",
    "    w_theta_SN_C3 = (sum_dd_SN_C3 - 2 * sum_dr_SN_C3 + sum_rr_SN_C3) / sum_rr_SN_C3\n",
    "    w_thetas_SN_C3.append(w_theta_SN_C3)\n",
    "\n",
    "    sum_dd_SN_X3 = data_SN_X3[:, 5]\n",
    "    sum_rr_SN_X3 = data_SN_X3[:, 6]\n",
    "    sum_dr_SN_X3 = data_SN_X3[:, 7]\n",
    "    \n",
    "    w_theta_SN_X3 = (sum_dd_SN_X3 - 2 * sum_dr_SN_X3 + sum_rr_SN_X3) / sum_rr_SN_X3\n",
    "    w_thetas_SN_X3.append(w_theta_SN_X3)\n",
    "\n",
    "    sum_dd_COSMOS = data_COSMOS[:, 5]\n",
    "    sum_rr_COSMOS = data_COSMOS[:, 6]\n",
    "    sum_dr_COSMOS = data_COSMOS[:, 7]\n",
    "    \n",
    "    w_theta_COSMOS = (sum_dd_COSMOS - 2 * sum_dr_COSMOS + sum_rr_COSMOS) / sum_rr_COSMOS\n",
    "    w_thetas_COSMOS.append(w_theta_COSMOS)\n",
    "    \n",
    "    \n",
    "\n",
    "\n",
    "# Example output for verification\n",
    "for i in range(21):\n",
    "    print(f\"Sample {i}:Error = {w_theta_errors[i]}\")\n",
    "\n",
    "    # Store sums and w_theta for each catalog\n",
    "    sums.append({\n",
    "        'catalog_index': i,\n",
    "        'sum_dd_SN_E2': sum_dd_SN_E2,\n",
    "        'sum_rr_SN_E2': sum_rr_SN_E2,\n",
    "        'sum_dr_SN_E2': sum_dr_SN_E2,\n",
    "        'w_theta_SN_E2': w_theta_SN_E2,\n",
    "        \n",
    "        'sum_dd_SN_C3': sum_dd_SN_C3,\n",
    "        'sum_rr_SN_C3': sum_rr_SN_C3,\n",
    "        'sum_dr_SN_C3': sum_dr_SN_C3,\n",
    "        'w_theta_SN_C3': w_theta_SN_C3,\n",
    "        \n",
    "        'sum_dd_SN_X3': sum_dd_SN_X3,\n",
    "        'sum_rr_SN_X3': sum_rr_SN_X3,\n",
    "        'sum_dr_SN_X3': sum_dr_SN_X3,\n",
    "        'w_theta_SN_X3': w_theta_SN_X3,\n",
    "        \n",
    "        'sum_dd_COSMOS': sum_dd_COSMOS,\n",
    "        'sum_rr_COSMOS': sum_rr_COSMOS,\n",
    "        'sum_dr_COSMOS': sum_dr_COSMOS,\n",
    "        'w_theta_COSMOS': w_theta_COSMOS\n",
    "    })\n",
    "    \n",
    "\n",
    "\n",
    "# Print the results for each catalog\n",
    "for result in sums:\n",
    "    print(f\"Subsample {result['catalog_index']}:\")\n",
    "    print(f\"  w_theta_SN_E2: {result['w_theta_SN_E2']}\")\n",
    "    print(f\"  w_theta_SN_C3: {result['w_theta_SN_C3']}\")\n",
    "    print(f\"  w_theta_SN_X3: {result['w_theta_SN_X3']}\")\n",
    "    print(f\"  w_theta_COSMOS: {result['w_theta_COSMOS']}\")\n",
    "    print()\n",
    "\n",
    "\n",
    "for i, result in enumerate(sums): \n",
    "    print(f\"Subsample {result['catalog_index']+1}:\")\n",
    "\n",
    "    \n",
    "    plt.scatter(theta, w_theta_SN_E2, marker='o', label='without IC', color='blue')  # without IC\n",
    "\n",
    "    plt.yscale('log')\n",
    "    plt.xscale('log')\n",
    "    plt.xlabel('Separation (r) [deg]')\n",
    "    plt.ylabel('Correlation Function')\n",
    "    plt.legend()\n",
    "    plt.title('w_theta_SN_E2')\n",
    "    plt.grid(True)\n",
    "    plt.show()\n",
    "    \n",
    "    \n",
    "\"\"\"\n"
   ]
  },
  {
   "cell_type": "code",
   "execution_count": 107,
   "id": "6061bd07-aff5-48b2-9c06-ce0ff82e634c",
   "metadata": {
    "tags": []
   },
   "outputs": [
    {
     "data": {
      "text/plain": [
       "'# Example output for verification\\nfor i in range(5):  # Show first 5 samples\\n    print(f\"Sample {i}:\")\\n    print(f\"  SN_E2 w(θ) = {w_thetas_SN_E2[i]}, Error = {w_theta_errors_SN_E2[i]}\")\\n    print(f\"  SN_C3 w(θ) = {w_thetas_SN_C3[i]}, Error = {w_theta_errors_SN_C3[i]}\")\\n    print(f\"  SN_X3 w(θ) = {w_thetas_SN_X3[i]}, Error = {w_theta_errors_SN_X3[i]}\")\\n    print(f\"  COSMOS w(θ) = {w_thetas_COSMOS[i]}, Error = {w_theta_errors_COSMOS[i]}\")\\n'"
      ]
     },
     "execution_count": 107,
     "metadata": {},
     "output_type": "execute_result"
    }
   ],
   "source": [
    "w_thetas_SN_E2, w_theta_errors_SN_E2 = [], []\n",
    "w_thetas_SN_C3, w_theta_errors_SN_C3 = [], []\n",
    "w_thetas_SN_X3, w_theta_errors_SN_X3 = [], []\n",
    "w_thetas_COSMOS, w_theta_errors_COSMOS = [], []\n",
    "\n",
    "for i in range(21):\n",
    "    # --- SN_E2 ---\n",
    "    sum_dd_SN_E2 = data_SN_E2[:, 5]\n",
    "    sum_rr_SN_E2 = data_SN_E2[:, 6]\n",
    "    sum_dr_SN_E2 = data_SN_E2[:, 7]\n",
    "\n",
    "    w_theta_SN_E2 = (sum_dd_SN_E2 - 2 * sum_dr_SN_E2 + sum_rr_SN_E2) / sum_rr_SN_E2\n",
    "    w_thetas_SN_E2.append(w_theta_SN_E2)\n",
    "\n",
    "    # Error calculation for SN_E2\n",
    "    fractional_error_SN_E2 = 1 / np.sqrt(sum_dd_SN_E2)\n",
    "    errorbars_SN_E2 = fractional_error_SN_E2 * (sum_dd_SN_E2 / sum_rr_SN_E2)\n",
    "    w_theta_errors_SN_E2.append(errorbars_SN_E2)\n",
    "\n",
    "    # --- SN_C3 ---\n",
    "    sum_dd_SN_C3 = data_SN_C3[:, 5]\n",
    "    sum_rr_SN_C3 = data_SN_C3[:, 6]\n",
    "    sum_dr_SN_C3 = data_SN_C3[:, 7]\n",
    "\n",
    "    w_theta_SN_C3 = (sum_dd_SN_C3 - 2 * sum_dr_SN_C3 + sum_rr_SN_C3) / sum_rr_SN_C3\n",
    "    w_thetas_SN_C3.append(w_theta_SN_C3)\n",
    "\n",
    "    # Error calculation for SN_C3\n",
    "    fractional_error_SN_C3 = 1 / np.sqrt(sum_dd_SN_C3)\n",
    "    errorbars_SN_C3 = fractional_error_SN_C3 * (sum_dd_SN_C3 / sum_rr_SN_C3)\n",
    "    w_theta_errors_SN_C3.append(errorbars_SN_C3)\n",
    "\n",
    "    # --- SN_X3 ---\n",
    "    sum_dd_SN_X3 = data_SN_X3[:, 5]\n",
    "    sum_rr_SN_X3 = data_SN_X3[:, 6]\n",
    "    sum_dr_SN_X3 = data_SN_X3[:, 7]\n",
    "\n",
    "    w_theta_SN_X3 = (sum_dd_SN_X3 - 2 * sum_dr_SN_X3 + sum_rr_SN_X3) / sum_rr_SN_X3\n",
    "    w_thetas_SN_X3.append(w_theta_SN_X3)\n",
    "\n",
    "    # Error calculation for SN_X3\n",
    "    fractional_error_SN_X3 = 1 / np.sqrt(sum_dd_SN_X3)\n",
    "    errorbars_SN_X3 = fractional_error_SN_X3 * (sum_dd_SN_X3 / sum_rr_SN_X3)\n",
    "    w_theta_errors_SN_X3.append(errorbars_SN_X3)\n",
    "\n",
    "    # --- COSMOS ---\n",
    "    sum_dd_COSMOS = data_COSMOS[:, 5]\n",
    "    sum_rr_COSMOS = data_COSMOS[:, 6]\n",
    "    sum_dr_COSMOS = data_COSMOS[:, 7]\n",
    "\n",
    "    w_theta_COSMOS = (sum_dd_COSMOS - 2 * sum_dr_COSMOS + sum_rr_COSMOS) / sum_rr_COSMOS\n",
    "    w_thetas_COSMOS.append(w_theta_COSMOS)\n",
    "\n",
    "    # Error calculation for COSMOS\n",
    "    fractional_error_COSMOS = 1 / np.sqrt(sum_dd_COSMOS)\n",
    "    errorbars_COSMOS = fractional_error_COSMOS * (sum_dd_COSMOS / sum_rr_COSMOS)\n",
    "    w_theta_errors_COSMOS.append(errorbars_COSMOS)\n",
    "\n",
    "\"\"\"# Example output for verification\n",
    "for i in range(5):  # Show first 5 samples\n",
    "    print(f\"Sample {i}:\")\n",
    "    print(f\"  SN_E2 w(θ) = {w_thetas_SN_E2[i]}, Error = {w_theta_errors_SN_E2[i]}\")\n",
    "    print(f\"  SN_C3 w(θ) = {w_thetas_SN_C3[i]}, Error = {w_theta_errors_SN_C3[i]}\")\n",
    "    print(f\"  SN_X3 w(θ) = {w_thetas_SN_X3[i]}, Error = {w_theta_errors_SN_X3[i]}\")\n",
    "    print(f\"  COSMOS w(θ) = {w_thetas_COSMOS[i]}, Error = {w_theta_errors_COSMOS[i]}\")\n",
    "\"\"\""
   ]
  },
  {
   "cell_type": "code",
   "execution_count": 109,
   "id": "0fa63df3-c18b-4eb6-85ad-35e79f370c52",
   "metadata": {
    "tags": []
   },
   "outputs": [
    {
     "ename": "ValueError",
     "evalue": "'x' and 'y' must have the same size",
     "output_type": "error",
     "traceback": [
      "\u001b[0;31m---------------------------------------------------------------------------\u001b[0m",
      "\u001b[0;31mValueError\u001b[0m                                Traceback (most recent call last)",
      "Cell \u001b[0;32mIn[109], line 1\u001b[0m\n\u001b[0;32m----> 1\u001b[0m plt\u001b[38;5;241m.\u001b[39merrorbar(theta,w_thetas_SN_X3, yerr\u001b[38;5;241m=\u001b[39mw_theta_errors_SN_X3, fmt\u001b[38;5;241m=\u001b[39m\u001b[38;5;124m'\u001b[39m\u001b[38;5;124mo\u001b[39m\u001b[38;5;124m'\u001b[39m, color\u001b[38;5;241m=\u001b[39m\u001b[38;5;124m'\u001b[39m\u001b[38;5;124mblue\u001b[39m\u001b[38;5;124m'\u001b[39m, capsize\u001b[38;5;241m=\u001b[39m\u001b[38;5;241m4\u001b[39m, markersize\u001b[38;5;241m=\u001b[39m\u001b[38;5;241m5\u001b[39m)\n",
      "File \u001b[0;32m~/.conda/envs/project/lib/python3.12/site-packages/matplotlib/pyplot.py:3246\u001b[0m, in \u001b[0;36merrorbar\u001b[0;34m(x, y, yerr, xerr, fmt, ecolor, elinewidth, capsize, barsabove, lolims, uplims, xlolims, xuplims, errorevery, capthick, data, **kwargs)\u001b[0m\n\u001b[1;32m   3225\u001b[0m \u001b[38;5;129m@_copy_docstring_and_deprecators\u001b[39m(Axes\u001b[38;5;241m.\u001b[39merrorbar)\n\u001b[1;32m   3226\u001b[0m \u001b[38;5;28;01mdef\u001b[39;00m \u001b[38;5;21merrorbar\u001b[39m(\n\u001b[1;32m   3227\u001b[0m     x: \u001b[38;5;28mfloat\u001b[39m \u001b[38;5;241m|\u001b[39m ArrayLike,\n\u001b[0;32m   (...)\u001b[0m\n\u001b[1;32m   3244\u001b[0m     \u001b[38;5;241m*\u001b[39m\u001b[38;5;241m*\u001b[39mkwargs,\n\u001b[1;32m   3245\u001b[0m ) \u001b[38;5;241m-\u001b[39m\u001b[38;5;241m>\u001b[39m ErrorbarContainer:\n\u001b[0;32m-> 3246\u001b[0m     \u001b[38;5;28;01mreturn\u001b[39;00m gca()\u001b[38;5;241m.\u001b[39merrorbar(\n\u001b[1;32m   3247\u001b[0m         x,\n\u001b[1;32m   3248\u001b[0m         y,\n\u001b[1;32m   3249\u001b[0m         yerr\u001b[38;5;241m=\u001b[39myerr,\n\u001b[1;32m   3250\u001b[0m         xerr\u001b[38;5;241m=\u001b[39mxerr,\n\u001b[1;32m   3251\u001b[0m         fmt\u001b[38;5;241m=\u001b[39mfmt,\n\u001b[1;32m   3252\u001b[0m         ecolor\u001b[38;5;241m=\u001b[39mecolor,\n\u001b[1;32m   3253\u001b[0m         elinewidth\u001b[38;5;241m=\u001b[39melinewidth,\n\u001b[1;32m   3254\u001b[0m         capsize\u001b[38;5;241m=\u001b[39mcapsize,\n\u001b[1;32m   3255\u001b[0m         barsabove\u001b[38;5;241m=\u001b[39mbarsabove,\n\u001b[1;32m   3256\u001b[0m         lolims\u001b[38;5;241m=\u001b[39mlolims,\n\u001b[1;32m   3257\u001b[0m         uplims\u001b[38;5;241m=\u001b[39muplims,\n\u001b[1;32m   3258\u001b[0m         xlolims\u001b[38;5;241m=\u001b[39mxlolims,\n\u001b[1;32m   3259\u001b[0m         xuplims\u001b[38;5;241m=\u001b[39mxuplims,\n\u001b[1;32m   3260\u001b[0m         errorevery\u001b[38;5;241m=\u001b[39merrorevery,\n\u001b[1;32m   3261\u001b[0m         capthick\u001b[38;5;241m=\u001b[39mcapthick,\n\u001b[1;32m   3262\u001b[0m         \u001b[38;5;241m*\u001b[39m\u001b[38;5;241m*\u001b[39m({\u001b[38;5;124m\"\u001b[39m\u001b[38;5;124mdata\u001b[39m\u001b[38;5;124m\"\u001b[39m: data} \u001b[38;5;28;01mif\u001b[39;00m data \u001b[38;5;129;01mis\u001b[39;00m \u001b[38;5;129;01mnot\u001b[39;00m \u001b[38;5;28;01mNone\u001b[39;00m \u001b[38;5;28;01melse\u001b[39;00m {}),\n\u001b[1;32m   3263\u001b[0m         \u001b[38;5;241m*\u001b[39m\u001b[38;5;241m*\u001b[39mkwargs,\n\u001b[1;32m   3264\u001b[0m     )\n",
      "File \u001b[0;32m~/.conda/envs/project/lib/python3.12/site-packages/matplotlib/__init__.py:1473\u001b[0m, in \u001b[0;36m_preprocess_data.<locals>.inner\u001b[0;34m(ax, data, *args, **kwargs)\u001b[0m\n\u001b[1;32m   1470\u001b[0m \u001b[38;5;129m@functools\u001b[39m\u001b[38;5;241m.\u001b[39mwraps(func)\n\u001b[1;32m   1471\u001b[0m \u001b[38;5;28;01mdef\u001b[39;00m \u001b[38;5;21minner\u001b[39m(ax, \u001b[38;5;241m*\u001b[39margs, data\u001b[38;5;241m=\u001b[39m\u001b[38;5;28;01mNone\u001b[39;00m, \u001b[38;5;241m*\u001b[39m\u001b[38;5;241m*\u001b[39mkwargs):\n\u001b[1;32m   1472\u001b[0m     \u001b[38;5;28;01mif\u001b[39;00m data \u001b[38;5;129;01mis\u001b[39;00m \u001b[38;5;28;01mNone\u001b[39;00m:\n\u001b[0;32m-> 1473\u001b[0m         \u001b[38;5;28;01mreturn\u001b[39;00m func(\n\u001b[1;32m   1474\u001b[0m             ax,\n\u001b[1;32m   1475\u001b[0m             \u001b[38;5;241m*\u001b[39m\u001b[38;5;28mmap\u001b[39m(sanitize_sequence, args),\n\u001b[1;32m   1476\u001b[0m             \u001b[38;5;241m*\u001b[39m\u001b[38;5;241m*\u001b[39m{k: sanitize_sequence(v) \u001b[38;5;28;01mfor\u001b[39;00m k, v \u001b[38;5;129;01min\u001b[39;00m kwargs\u001b[38;5;241m.\u001b[39mitems()})\n\u001b[1;32m   1478\u001b[0m     bound \u001b[38;5;241m=\u001b[39m new_sig\u001b[38;5;241m.\u001b[39mbind(ax, \u001b[38;5;241m*\u001b[39margs, \u001b[38;5;241m*\u001b[39m\u001b[38;5;241m*\u001b[39mkwargs)\n\u001b[1;32m   1479\u001b[0m     auto_label \u001b[38;5;241m=\u001b[39m (bound\u001b[38;5;241m.\u001b[39marguments\u001b[38;5;241m.\u001b[39mget(label_namer)\n\u001b[1;32m   1480\u001b[0m                   \u001b[38;5;129;01mor\u001b[39;00m bound\u001b[38;5;241m.\u001b[39mkwargs\u001b[38;5;241m.\u001b[39mget(label_namer))\n",
      "File \u001b[0;32m~/.conda/envs/project/lib/python3.12/site-packages/matplotlib/axes/_axes.py:3633\u001b[0m, in \u001b[0;36mAxes.errorbar\u001b[0;34m(self, x, y, yerr, xerr, fmt, ecolor, elinewidth, capsize, barsabove, lolims, uplims, xlolims, xuplims, errorevery, capthick, **kwargs)\u001b[0m\n\u001b[1;32m   3631\u001b[0m x, y \u001b[38;5;241m=\u001b[39m np\u001b[38;5;241m.\u001b[39matleast_1d(x, y)  \u001b[38;5;66;03m# Make sure all the args are iterable.\u001b[39;00m\n\u001b[1;32m   3632\u001b[0m \u001b[38;5;28;01mif\u001b[39;00m \u001b[38;5;28mlen\u001b[39m(x) \u001b[38;5;241m!=\u001b[39m \u001b[38;5;28mlen\u001b[39m(y):\n\u001b[0;32m-> 3633\u001b[0m     \u001b[38;5;28;01mraise\u001b[39;00m \u001b[38;5;167;01mValueError\u001b[39;00m(\u001b[38;5;124m\"\u001b[39m\u001b[38;5;124m'\u001b[39m\u001b[38;5;124mx\u001b[39m\u001b[38;5;124m'\u001b[39m\u001b[38;5;124m and \u001b[39m\u001b[38;5;124m'\u001b[39m\u001b[38;5;124my\u001b[39m\u001b[38;5;124m'\u001b[39m\u001b[38;5;124m must have the same size\u001b[39m\u001b[38;5;124m\"\u001b[39m)\n\u001b[1;32m   3635\u001b[0m everymask \u001b[38;5;241m=\u001b[39m \u001b[38;5;28mself\u001b[39m\u001b[38;5;241m.\u001b[39m_errorevery_to_mask(x, errorevery)\n\u001b[1;32m   3637\u001b[0m label \u001b[38;5;241m=\u001b[39m kwargs\u001b[38;5;241m.\u001b[39mpop(\u001b[38;5;124m\"\u001b[39m\u001b[38;5;124mlabel\u001b[39m\u001b[38;5;124m\"\u001b[39m, \u001b[38;5;28;01mNone\u001b[39;00m)\n",
      "\u001b[0;31mValueError\u001b[0m: 'x' and 'y' must have the same size"
     ]
    }
   ],
   "source": [
    "plt.errorbar(theta,w_thetas_SN_X3, yerr=w_theta_errors_SN_X3, fmt='o', color='blue', capsize=4, markersize=5)"
   ]
  },
  {
   "cell_type": "markdown",
   "id": "8d1ea43d-8bca-4484-9dc5-7c8dbbcf4e09",
   "metadata": {},
   "source": [
    "### Computing the Galaxy Bias with the Integral Constraint\n",
    "\n",
    "Galaxy bias \\( b \\) describes how galaxies trace the underlying matter distribution and is crucial for connecting observed galaxy clustering to the underlying dark matter field.\n",
    "\n",
    "When estimating galaxy bias, we typically use the two-point correlation function $ \\xi_g(r)$ of galaxies and compare it to the matter correlation function $ \\xi_m(r) $ via:\n",
    "\n",
    "$\n",
    "b^2(r) = \\frac{\\xi_g(r)}{\\xi_m(r)}\n",
    "$\n",
    "\n",
    "However, observational constraints, such as the **integral constraint (IC)**, can introduce systematics in the measurement of $ \\xi_g(r)$. The integral constraint arises because observational surveys measure fluctuations relative to the mean density in the finite survey volume, rather than the true mean density. The measured galaxy correlation function $ \\xi_g^{\\text{obs}}(r) $ is biased by a constant offset:\n",
    "\n",
    "$\n",
    "\\xi_g^{\\text{obs}}(r) = \\xi_g(r) - C\n",
    "$\n",
    "\n",
    "\n",
    "This term accounts for the fact that the mean density of galaxies in the finite volume is used as an estimate of the true mean.\n"
   ]
  },
  {
   "cell_type": "code",
   "execution_count": 41,
   "id": "33d81c7d-2d37-4ff6-8704-4ede7b4d3150",
   "metadata": {
    "tags": []
   },
   "outputs": [
    {
     "data": {
      "text/plain": [
       "'\\n# w_g(theta)= b**2 * w_dm(theta)\\n# w_g_obs(theta)= w_g(theta) - IC\\n\\ndef w_model(wdm, b):\\n\\n    wg_no_ic = wdm * b**2  # Initial model without IC correction\\n    \\n    IC = np.sum(wg_no_ic * sum_rr)/np.sum(sum_rr)  # Integral constraint correction\\n    \\n    wg_model = wg_no_ic - IC # Apply correction\\n    \\n    return wg_model[mask]\\n'"
      ]
     },
     "execution_count": 41,
     "metadata": {},
     "output_type": "execute_result"
    }
   ],
   "source": [
    "\"\"\"\n",
    "# w_g(theta)= b**2 * w_dm(theta)\n",
    "# w_g_obs(theta)= w_g(theta) - IC\n",
    "\n",
    "def w_model(wdm, b):\n",
    "\n",
    "    wg_no_ic = wdm * b**2  # Initial model without IC correction\n",
    "    \n",
    "    IC = np.sum(wg_no_ic * sum_rr)/np.sum(sum_rr)  # Integral constraint correction\n",
    "    \n",
    "    wg_model = wg_no_ic - IC # Apply correction\n",
    "    \n",
    "    return wg_model[mask]\n",
    "\"\"\""
   ]
  },
  {
   "cell_type": "code",
   "execution_count": 106,
   "id": "3dfb9b87-09e0-4e5f-bf0e-2de8221c69b4",
   "metadata": {
    "tags": []
   },
   "outputs": [
    {
     "name": "stdout",
     "output_type": "stream",
     "text": [
      " SN-C3: Bias = 1.550 ± 1.306\n",
      " SN-E2: Bias = 1.615 ± 1.087\n",
      " SN-X3: Bias = 2.002 ± 0.815\n",
      " COSMOS: Bias = 1.234 ± 1.224\n"
     ]
    }
   ],
   "source": [
    "\n",
    "# Integral Constraint Calculation\n",
    "def IC(wg_no_ic, rr):\n",
    "    return np.sum(wg_no_ic * rr) / np.sum(rr)\n",
    "\n",
    "# Model Function\n",
    "def model(wdm, b, IC_value):\n",
    "    wg_no_ic = wdm * b**2  # Initial model without IC correction\n",
    "    wg_model = wg_no_ic - IC_value  # Apply correction\n",
    "    return wg_model[mask]\n",
    "\n",
    "# Calculate IC values for each dataset\n",
    "IC_SNC3 = IC(gg.angular_corr_gal, sum_rr_SN_C3)\n",
    "IC_SNE2 = IC(gg.angular_corr_gal, sum_rr_SN_E2)\n",
    "IC_SNX3 = IC(gg.angular_corr_gal, sum_rr_SN_X3)\n",
    "IC_COSMOS = IC(gg.angular_corr_gal, sum_rr_COSMOS)\n",
    "\n",
    "# List of IC values corresponding to each subsample\n",
    "IC_list = [IC_SNC3, IC_SNE2, IC_SNX3, IC_COSMOS]\n",
    "w_theta_errors= [ w_theta_errors_SN_C3, w_theta_errors_SN_E2, w_theta_errors_SN_X3, w_theta_errors_COSMOS]\n",
    "names = [ 'SN-C3', 'SN-E2','SN-X3','COSMOS',]\n",
    "\n",
    "b = []   # Bias values\n",
    "be = []  # Bias errors\n",
    "\n",
    "for i in range(4): \n",
    "    matter_corr = gg.angular_corr_matter          # Theoretical matter correlation\n",
    "    galaxy_corr = w_thetas[i]                      # Observed galaxy correlation\n",
    "    IC_value = IC_list[i]                          # Corresponding IC correction\n",
    "\n",
    "    errors = (1 / np.sqrt(sum_dd[i])) * (galaxy_corr + 1)\n",
    "\n",
    "    # Define a lambda function to pass IC_value as a fixed parameter\n",
    "    #model_with_IC = lambda wdm, b: model(wdm, b, IC_value)\n",
    "\n",
    "    # Curve fitting\n",
    "    popt, pcov = curve_fit(model_with_IC, matter_corr, galaxy_corr[mask], \n",
    "                           sigma=errors[mask], absolute_sigma=True, p0=[1.0])\n",
    "\n",
    "    # Extract bias and error\n",
    "    bias = popt[0]\n",
    "    bias_error = np.sqrt(np.diag(pcov))[0]\n",
    "\n",
    "    b.append(bias)\n",
    "    be.append(bias_error)\n",
    "\n",
    "    print(f\" {names[i]}: Bias = {bias:.3f} ± {bias_error:.3f}\")\n",
    "    \n"
   ]
  },
  {
   "cell_type": "code",
   "execution_count": 104,
   "id": "2b34ceb4-7729-4b0b-a29a-5921aba3559c",
   "metadata": {
    "tags": []
   },
   "outputs": [
    {
     "name": "stdout",
     "output_type": "stream",
     "text": [
      " SN-C3\n"
     ]
    },
    {
     "data": {
      "image/png": "[encoded data removed]",
      "text/plain": [
       "<Figure size 800x600 with 1 Axes>"
      ]
     },
     "metadata": {},
     "output_type": "display_data"
    },
    {
     "data": {
      "image/png": "[encoded data removed]",
      "text/plain": [
       "<Figure size 800x600 with 1 Axes>"
      ]
     },
     "metadata": {},
     "output_type": "display_data"
    },
    {
     "name": "stdout",
     "output_type": "stream",
     "text": [
      " SN-E2\n"
     ]
    },
    {
     "data": {
      "image/png": "[encoded data removed]",
      "text/plain": [
       "<Figure size 800x600 with 1 Axes>"
      ]
     },
     "metadata": {},
     "output_type": "display_data"
    },
    {
     "name": "stdout",
     "output_type": "stream",
     "text": [
      " SN-X3\n"
     ]
    },
    {
     "data": {
      "image/png": "[encoded data removed]",
      "text/plain": [
       "<Figure size 800x600 with 1 Axes>"
      ]
     },
     "metadata": {},
     "output_type": "display_data"
    },
    {
     "name": "stdout",
     "output_type": "stream",
     "text": [
      " COSMOS\n"
     ]
    },
    {
     "ename": "ValueError",
     "evalue": "'yerr' (shape: (4, 21, 64)) must be a scalar or a 1D or (2, n) array-like whose shape matches 'y' (shape: (64,))",
     "output_type": "error",
     "traceback": [
      "\u001b[0;31m---------------------------------------------------------------------------\u001b[0m",
      "\u001b[0;31mValueError\u001b[0m                                Traceback (most recent call last)",
      "Cell \u001b[0;32mIn[104], line 11\u001b[0m\n\u001b[1;32m      7\u001b[0m plt\u001b[38;5;241m.\u001b[39mplot(theta, gg\u001b[38;5;241m.\u001b[39mangular_corr_matter \u001b[38;5;241m*\u001b[39m b[i]\u001b[38;5;241m*\u001b[39m\u001b[38;5;241m*\u001b[39m\u001b[38;5;241m2\u001b[39m \u001b[38;5;241m-\u001b[39m IC_list[i], \n\u001b[1;32m      8\u001b[0m          label\u001b[38;5;241m=\u001b[39m\u001b[38;5;124m'\u001b[39m\u001b[38;5;124mBias Fit\u001b[39m\u001b[38;5;124m'\u001b[39m, color\u001b[38;5;241m=\u001b[39m\u001b[38;5;124m'\u001b[39m\u001b[38;5;124mgreen\u001b[39m\u001b[38;5;124m'\u001b[39m, linewidth\u001b[38;5;241m=\u001b[39m\u001b[38;5;241m2\u001b[39m)\n\u001b[1;32m     10\u001b[0m \u001b[38;5;66;03m# Observed data without IC correction\u001b[39;00m\n\u001b[0;32m---> 11\u001b[0m plt\u001b[38;5;241m.\u001b[39merrorbar(theta, w_thetas[i], yerr\u001b[38;5;241m=\u001b[39mw_theta_errors[i], \n\u001b[1;32m     12\u001b[0m              fmt\u001b[38;5;241m=\u001b[39m\u001b[38;5;124m'\u001b[39m\u001b[38;5;124mo\u001b[39m\u001b[38;5;124m'\u001b[39m, color\u001b[38;5;241m=\u001b[39m\u001b[38;5;124m'\u001b[39m\u001b[38;5;124mblue\u001b[39m\u001b[38;5;124m'\u001b[39m, capsize\u001b[38;5;241m=\u001b[39m\u001b[38;5;241m4\u001b[39m, markersize\u001b[38;5;241m=\u001b[39m\u001b[38;5;241m5\u001b[39m)\n\u001b[1;32m     14\u001b[0m \u001b[38;5;66;03m# Observed data with mask applied\u001b[39;00m\n\u001b[1;32m     15\u001b[0m plt\u001b[38;5;241m.\u001b[39merrorbar(theta[mask], w_thetas[i][mask], yerr\u001b[38;5;241m=\u001b[39mw_theta_errors[i][mask], \n\u001b[1;32m     16\u001b[0m              fmt\u001b[38;5;241m=\u001b[39m\u001b[38;5;124m'\u001b[39m\u001b[38;5;124mo\u001b[39m\u001b[38;5;124m'\u001b[39m, color\u001b[38;5;241m=\u001b[39m\u001b[38;5;124m'\u001b[39m\u001b[38;5;124morange\u001b[39m\u001b[38;5;124m'\u001b[39m,  capsize\u001b[38;5;241m=\u001b[39m\u001b[38;5;241m4\u001b[39m, markersize\u001b[38;5;241m=\u001b[39m\u001b[38;5;241m6\u001b[39m)\n",
      "File \u001b[0;32m~/.conda/envs/project/lib/python3.12/site-packages/matplotlib/pyplot.py:3246\u001b[0m, in \u001b[0;36merrorbar\u001b[0;34m(x, y, yerr, xerr, fmt, ecolor, elinewidth, capsize, barsabove, lolims, uplims, xlolims, xuplims, errorevery, capthick, data, **kwargs)\u001b[0m\n\u001b[1;32m   3225\u001b[0m \u001b[38;5;129m@_copy_docstring_and_deprecators\u001b[39m(Axes\u001b[38;5;241m.\u001b[39merrorbar)\n\u001b[1;32m   3226\u001b[0m \u001b[38;5;28;01mdef\u001b[39;00m \u001b[38;5;21merrorbar\u001b[39m(\n\u001b[1;32m   3227\u001b[0m     x: \u001b[38;5;28mfloat\u001b[39m \u001b[38;5;241m|\u001b[39m ArrayLike,\n\u001b[0;32m   (...)\u001b[0m\n\u001b[1;32m   3244\u001b[0m     \u001b[38;5;241m*\u001b[39m\u001b[38;5;241m*\u001b[39mkwargs,\n\u001b[1;32m   3245\u001b[0m ) \u001b[38;5;241m-\u001b[39m\u001b[38;5;241m>\u001b[39m ErrorbarContainer:\n\u001b[0;32m-> 3246\u001b[0m     \u001b[38;5;28;01mreturn\u001b[39;00m gca()\u001b[38;5;241m.\u001b[39merrorbar(\n\u001b[1;32m   3247\u001b[0m         x,\n\u001b[1;32m   3248\u001b[0m         y,\n\u001b[1;32m   3249\u001b[0m         yerr\u001b[38;5;241m=\u001b[39myerr,\n\u001b[1;32m   3250\u001b[0m         xerr\u001b[38;5;241m=\u001b[39mxerr,\n\u001b[1;32m   3251\u001b[0m         fmt\u001b[38;5;241m=\u001b[39mfmt,\n\u001b[1;32m   3252\u001b[0m         ecolor\u001b[38;5;241m=\u001b[39mecolor,\n\u001b[1;32m   3253\u001b[0m         elinewidth\u001b[38;5;241m=\u001b[39melinewidth,\n\u001b[1;32m   3254\u001b[0m         capsize\u001b[38;5;241m=\u001b[39mcapsize,\n\u001b[1;32m   3255\u001b[0m         barsabove\u001b[38;5;241m=\u001b[39mbarsabove,\n\u001b[1;32m   3256\u001b[0m         lolims\u001b[38;5;241m=\u001b[39mlolims,\n\u001b[1;32m   3257\u001b[0m         uplims\u001b[38;5;241m=\u001b[39muplims,\n\u001b[1;32m   3258\u001b[0m         xlolims\u001b[38;5;241m=\u001b[39mxlolims,\n\u001b[1;32m   3259\u001b[0m         xuplims\u001b[38;5;241m=\u001b[39mxuplims,\n\u001b[1;32m   3260\u001b[0m         errorevery\u001b[38;5;241m=\u001b[39merrorevery,\n\u001b[1;32m   3261\u001b[0m         capthick\u001b[38;5;241m=\u001b[39mcapthick,\n\u001b[1;32m   3262\u001b[0m         \u001b[38;5;241m*\u001b[39m\u001b[38;5;241m*\u001b[39m({\u001b[38;5;124m\"\u001b[39m\u001b[38;5;124mdata\u001b[39m\u001b[38;5;124m\"\u001b[39m: data} \u001b[38;5;28;01mif\u001b[39;00m data \u001b[38;5;129;01mis\u001b[39;00m \u001b[38;5;129;01mnot\u001b[39;00m \u001b[38;5;28;01mNone\u001b[39;00m \u001b[38;5;28;01melse\u001b[39;00m {}),\n\u001b[1;32m   3263\u001b[0m         \u001b[38;5;241m*\u001b[39m\u001b[38;5;241m*\u001b[39mkwargs,\n\u001b[1;32m   3264\u001b[0m     )\n",
      "File \u001b[0;32m~/.conda/envs/project/lib/python3.12/site-packages/matplotlib/__init__.py:1473\u001b[0m, in \u001b[0;36m_preprocess_data.<locals>.inner\u001b[0;34m(ax, data, *args, **kwargs)\u001b[0m\n\u001b[1;32m   1470\u001b[0m \u001b[38;5;129m@functools\u001b[39m\u001b[38;5;241m.\u001b[39mwraps(func)\n\u001b[1;32m   1471\u001b[0m \u001b[38;5;28;01mdef\u001b[39;00m \u001b[38;5;21minner\u001b[39m(ax, \u001b[38;5;241m*\u001b[39margs, data\u001b[38;5;241m=\u001b[39m\u001b[38;5;28;01mNone\u001b[39;00m, \u001b[38;5;241m*\u001b[39m\u001b[38;5;241m*\u001b[39mkwargs):\n\u001b[1;32m   1472\u001b[0m     \u001b[38;5;28;01mif\u001b[39;00m data \u001b[38;5;129;01mis\u001b[39;00m \u001b[38;5;28;01mNone\u001b[39;00m:\n\u001b[0;32m-> 1473\u001b[0m         \u001b[38;5;28;01mreturn\u001b[39;00m func(\n\u001b[1;32m   1474\u001b[0m             ax,\n\u001b[1;32m   1475\u001b[0m             \u001b[38;5;241m*\u001b[39m\u001b[38;5;28mmap\u001b[39m(sanitize_sequence, args),\n\u001b[1;32m   1476\u001b[0m             \u001b[38;5;241m*\u001b[39m\u001b[38;5;241m*\u001b[39m{k: sanitize_sequence(v) \u001b[38;5;28;01mfor\u001b[39;00m k, v \u001b[38;5;129;01min\u001b[39;00m kwargs\u001b[38;5;241m.\u001b[39mitems()})\n\u001b[1;32m   1478\u001b[0m     bound \u001b[38;5;241m=\u001b[39m new_sig\u001b[38;5;241m.\u001b[39mbind(ax, \u001b[38;5;241m*\u001b[39margs, \u001b[38;5;241m*\u001b[39m\u001b[38;5;241m*\u001b[39mkwargs)\n\u001b[1;32m   1479\u001b[0m     auto_label \u001b[38;5;241m=\u001b[39m (bound\u001b[38;5;241m.\u001b[39marguments\u001b[38;5;241m.\u001b[39mget(label_namer)\n\u001b[1;32m   1480\u001b[0m                   \u001b[38;5;129;01mor\u001b[39;00m bound\u001b[38;5;241m.\u001b[39mkwargs\u001b[38;5;241m.\u001b[39mget(label_namer))\n",
      "File \u001b[0;32m~/.conda/envs/project/lib/python3.12/site-packages/matplotlib/axes/_axes.py:3731\u001b[0m, in \u001b[0;36mAxes.errorbar\u001b[0;34m(self, x, y, yerr, xerr, fmt, ecolor, elinewidth, capsize, barsabove, lolims, uplims, xlolims, xuplims, errorevery, capthick, **kwargs)\u001b[0m\n\u001b[1;32m   3729\u001b[0m     np\u001b[38;5;241m.\u001b[39mbroadcast_to(err, (\u001b[38;5;241m2\u001b[39m, \u001b[38;5;28mlen\u001b[39m(dep)))\n\u001b[1;32m   3730\u001b[0m \u001b[38;5;28;01mexcept\u001b[39;00m \u001b[38;5;167;01mValueError\u001b[39;00m:\n\u001b[0;32m-> 3731\u001b[0m     \u001b[38;5;28;01mraise\u001b[39;00m \u001b[38;5;167;01mValueError\u001b[39;00m(\n\u001b[1;32m   3732\u001b[0m         \u001b[38;5;124mf\u001b[39m\u001b[38;5;124m\"\u001b[39m\u001b[38;5;124m'\u001b[39m\u001b[38;5;132;01m{\u001b[39;00mdep_axis\u001b[38;5;132;01m}\u001b[39;00m\u001b[38;5;124merr\u001b[39m\u001b[38;5;124m'\u001b[39m\u001b[38;5;124m (shape: \u001b[39m\u001b[38;5;132;01m{\u001b[39;00mnp\u001b[38;5;241m.\u001b[39mshape(err)\u001b[38;5;132;01m}\u001b[39;00m\u001b[38;5;124m) must be a \u001b[39m\u001b[38;5;124m\"\u001b[39m\n\u001b[1;32m   3733\u001b[0m         \u001b[38;5;124mf\u001b[39m\u001b[38;5;124m\"\u001b[39m\u001b[38;5;124mscalar or a 1D or (2, n) array-like whose shape matches \u001b[39m\u001b[38;5;124m\"\u001b[39m\n\u001b[1;32m   3734\u001b[0m         \u001b[38;5;124mf\u001b[39m\u001b[38;5;124m\"\u001b[39m\u001b[38;5;124m'\u001b[39m\u001b[38;5;132;01m{\u001b[39;00mdep_axis\u001b[38;5;132;01m}\u001b[39;00m\u001b[38;5;124m'\u001b[39m\u001b[38;5;124m (shape: \u001b[39m\u001b[38;5;132;01m{\u001b[39;00mnp\u001b[38;5;241m.\u001b[39mshape(dep)\u001b[38;5;132;01m}\u001b[39;00m\u001b[38;5;124m)\u001b[39m\u001b[38;5;124m\"\u001b[39m) \u001b[38;5;28;01mfrom\u001b[39;00m \u001b[38;5;28;01mNone\u001b[39;00m\n\u001b[1;32m   3735\u001b[0m \u001b[38;5;28;01mif\u001b[39;00m err\u001b[38;5;241m.\u001b[39mdtype \u001b[38;5;129;01mis\u001b[39;00m np\u001b[38;5;241m.\u001b[39mdtype(\u001b[38;5;28mobject\u001b[39m) \u001b[38;5;129;01mand\u001b[39;00m np\u001b[38;5;241m.\u001b[39many(err \u001b[38;5;241m==\u001b[39m \u001b[38;5;28;01mNone\u001b[39;00m):  \u001b[38;5;66;03m# noqa: E711\u001b[39;00m\n\u001b[1;32m   3736\u001b[0m     \u001b[38;5;28;01mraise\u001b[39;00m \u001b[38;5;167;01mValueError\u001b[39;00m(\n\u001b[1;32m   3737\u001b[0m         \u001b[38;5;124mf\u001b[39m\u001b[38;5;124m\"\u001b[39m\u001b[38;5;124m'\u001b[39m\u001b[38;5;132;01m{\u001b[39;00mdep_axis\u001b[38;5;132;01m}\u001b[39;00m\u001b[38;5;124merr\u001b[39m\u001b[38;5;124m'\u001b[39m\u001b[38;5;124m must not contain None. \u001b[39m\u001b[38;5;124m\"\u001b[39m\n\u001b[1;32m   3738\u001b[0m         \u001b[38;5;124m\"\u001b[39m\u001b[38;5;124mUse NaN if you want to skip a value.\u001b[39m\u001b[38;5;124m\"\u001b[39m)\n",
      "\u001b[0;31mValueError\u001b[0m: 'yerr' (shape: (4, 21, 64)) must be a scalar or a 1D or (2, n) array-like whose shape matches 'y' (shape: (64,))"
     ]
    }
   ],
   "source": [
    "\n",
    "for i in range(4):\n",
    "    print(f\" {names[i]}\")\n",
    "\n",
    "    plt.figure(figsize=(8, 6))  # Larger figure for clarity\n",
    "\n",
    "    # Bias fit line\n",
    "    plt.plot(theta, gg.angular_corr_matter * b[i]**2 - IC_list[i], \n",
    "             label='Bias Fit', color='green', linewidth=2)\n",
    "\n",
    "    # Observed data without IC correction\n",
    "    plt.errorbar(theta, w_thetas[i], yerr=w_theta_errors[i], \n",
    "                 fmt='o', color='blue', capsize=4, markersize=5)\n",
    "\n",
    "    # Observed data with mask applied\n",
    "    plt.errorbar(theta[mask], w_thetas[i][mask], yerr=w_theta_errors[i][mask], \n",
    "                 fmt='o', color='orange',  capsize=4, markersize=6)\n",
    "\n",
    "    plt.xscale('log')\n",
    "    plt.yscale('log')\n",
    "    plt.xlabel('Separation (θ) [deg]', fontsize=12)\n",
    "    plt.ylabel('Correlation Function w(θ)', fontsize=12)\n",
    "    plt.title({names[i]}, fontsize=14)\n",
    "    plt.grid(True)\n",
    "    plt.show()\n"
   ]
  },
  {
   "cell_type": "code",
   "execution_count": 96,
   "id": "9f74b0fa-c55d-4179-b182-db92d6725242",
   "metadata": {
    "tags": []
   },
   "outputs": [
    {
     "data": {
      "text/plain": [
       "'# Integral Constraint Calculation\\ndef IC(wg_no_ic, rr):\\n    return np.sum(wg_no_ic * rr) / np.sum(rr)\\n\\n# Model Function with Dynamic IC Calculation\\ndef model(wdm, b, rr, angular_corr_gal):\\n    wg_no_ic = wdm * b**2                   # Initial model without IC correction\\n    IC_value = IC(angular_corr_gal, rr)     # Recalculate IC dynamically\\n    wg_model = wg_no_ic - IC_value          # Apply IC correction\\n    return wg_model[mask]                   # Apply mask if necessary\\n\\n# Data for each field\\nrr_list = [sum_rr_SN_C3, sum_rr_SN_E2, sum_rr_SN_X3, sum_rr_COSMOS]  # Random pair counts\\nangular_corr_gal_list = []\\n\\nfor i in range(4):\\n    angular_corr_gal_list.append(gg.angular_corr_gal[i])  \\n\\n    \\n    \\n# Lists to store bias values and errors\\nb = []\\nbe = []\\n\\nfor i in range(4):\\n    matter_corr = gg.angular_corr_matter    # Theoretical matter correlation function\\n    galaxy_corr = w_thetas[i]               # Observed galaxy correlation function\\n    rr = rr_list[i]                         # Random-random pairs for this field\\n    angular_corr_gal = angular_corr_gal_list[i]  # Angular correlation data\\n\\n    errors = (1 / np.sqrt(sum_dd[i])) * (galaxy_corr + 1)  # Error estimation\\n\\n    # Curve fitting with IC recalculated inside the model\\n    model_with_dynamic_IC = lambda wdm, b: model(wdm, b, rr, angular_corr_gal)\\n\\n    # Curve fit to determine bias\\n    popt, pcov = curve_fit(model_with_dynamic_IC, matter_corr, galaxy_corr[mask], \\n                           sigma=errors[mask], absolute_sigma=True, p0=[1.0])\\n\\n    # Extract bias and its error\\n    bias = popt[0]\\n    bias_error = np.sqrt(np.diag(pcov))[0]\\n\\n    b.append(bias)\\n    be.append(bias_error)\\n\\n    print(f\"Subsample {i + 1}: Bias = {bias:.3f} ± {bias_error:.3f}\")\\n'"
      ]
     },
     "execution_count": 96,
     "metadata": {},
     "output_type": "execute_result"
    }
   ],
   "source": [
    "\"\"\"# Integral Constraint Calculation\n",
    "def IC(wg_no_ic, rr):\n",
    "    return np.sum(wg_no_ic * rr) / np.sum(rr)\n",
    "\n",
    "# Model Function with Dynamic IC Calculation\n",
    "def model(wdm, b, rr, angular_corr_gal):\n",
    "    wg_no_ic = wdm * b**2                   # Initial model without IC correction\n",
    "    IC_value = IC(angular_corr_gal, rr)     # Recalculate IC dynamically\n",
    "    wg_model = wg_no_ic - IC_value          # Apply IC correction\n",
    "    return wg_model[mask]                   # Apply mask if necessary\n",
    "\n",
    "# Data for each field\n",
    "rr_list = [sum_rr_SN_C3, sum_rr_SN_E2, sum_rr_SN_X3, sum_rr_COSMOS]  # Random pair counts\n",
    "angular_corr_gal_list = []\n",
    "\n",
    "for i in range(4):\n",
    "    angular_corr_gal_list.append(gg.angular_corr_gal[i])  \n",
    "\n",
    "    \n",
    "    \n",
    "# Lists to store bias values and errors\n",
    "b = []\n",
    "be = []\n",
    "\n",
    "for i in range(4):\n",
    "    matter_corr = gg.angular_corr_matter    # Theoretical matter correlation function\n",
    "    galaxy_corr = w_thetas[i]               # Observed galaxy correlation function\n",
    "    rr = rr_list[i]                         # Random-random pairs for this field\n",
    "    angular_corr_gal = angular_corr_gal_list[i]  # Angular correlation data\n",
    "\n",
    "    errors = (1 / np.sqrt(sum_dd[i])) * (galaxy_corr + 1)  # Error estimation\n",
    "\n",
    "    # Curve fitting with IC recalculated inside the model\n",
    "    model_with_dynamic_IC = lambda wdm, b: model(wdm, b, rr, angular_corr_gal)\n",
    "\n",
    "    # Curve fit to determine bias\n",
    "    popt, pcov = curve_fit(model_with_dynamic_IC, matter_corr, galaxy_corr[mask], \n",
    "                           sigma=errors[mask], absolute_sigma=True, p0=[1.0])\n",
    "\n",
    "    # Extract bias and its error\n",
    "    bias = popt[0]\n",
    "    bias_error = np.sqrt(np.diag(pcov))[0]\n",
    "\n",
    "    b.append(bias)\n",
    "    be.append(bias_error)\n",
    "\n",
    "    print(f\"Subsample {i + 1}: Bias = {bias:.3f} ± {bias_error:.3f}\")\n",
    "\"\"\""
   ]
  },
  {
   "cell_type": "code",
   "execution_count": null,
   "id": "7c3d550b-d903-4093-a8f9-dcb9ae4a3d01",
   "metadata": {
    "tags": []
   },
   "outputs": [],
   "source": [
    "biases = []\n",
    "bias_errors = []\n",
    "    \n",
    "for i, result in enumerate(column_sums): \n",
    "\n",
    "    matter_corr = gg.angular_corr_matter  # Matter correlation function (theoretical values)\n",
    "    galaxy_corr =  w_thetas[i] # Galaxy correlation function (observed values)\n",
    "\n",
    "\n",
    "    errors = (1 / np.sqrt(sum_dd[i])) * (galaxy_corr+1)\n",
    "    \n",
    "\n",
    "    # Fit the model\n",
    "    popt, pcov = curve_fit(w_model, matter_corr, galaxy_corr[mask], sigma=errors[mask], absolute_sigma=True, p0=1.0)\n",
    "\n",
    "    # Extract the bias and its error\n",
    "    bias = popt[0]  # Best-fit bias for this subsample\n",
    "    bias_error = np.sqrt(np.diag(pcov))[0]  # Uncertainty in bias\n",
    "\n",
    "    biases.append(bias)\n",
    "    bias_errors.append(bias_error)\n",
    "\n",
    "    print(f\"Subsample {i + 1}:Bias: {bias:.3f} ± {bias_error:.3f}\")\n",
    "\n"
   ]
  },
  {
   "cell_type": "code",
   "execution_count": null,
   "id": "2cede0a3-7f65-40fb-accd-5e7471be70cc",
   "metadata": {},
   "outputs": [],
   "source": []
  },
  {
   "cell_type": "code",
   "execution_count": null,
   "id": "d1e93cc9-453f-43df-ba02-38c4c222bcf5",
   "metadata": {
    "tags": []
   },
   "outputs": [],
   "source": [
    "for i, result in enumerate(column_sums): \n",
    "    print(f\"Subsample {result['catalog_index']+1}:\")\n",
    "    IC = np.sum( gg.angular_corr_matter*biases[i]**2 * sum_rr)/np.sum(sum_rr)\n",
    "\n",
    "    plt.loglog(theta, gg.angular_corr_gal, label=r'$\\xi_g(r)$', color='r')\n",
    "    plt.loglog(theta, gg.angular_corr_matter, label=r'$\\xi_m(r)$', color='k')\n",
    "    plt.loglog(theta, gg.angular_corr_matter*biases[i]**2 -IC, label=r'Bias fit', color='g', marker='.')\n",
    "    \n",
    "    plt.scatter(theta, w_thetas[i], marker='o', label='without IC', color='blue')  # without IC\n",
    "    plt.scatter(theta[mask], w_thetas[i][mask], marker='o', color='orange')  \n",
    "\n",
    "    plt.xlabel('Separation (r) [deg]')\n",
    "    plt.ylabel('Correlation Function')\n",
    "    plt.legend()\n",
    "    plt.title('Galaxy Bias and Correlation Functions')\n",
    "    plt.grid(True)\n",
    "    plt.show()"
   ]
  },
  {
   "cell_type": "code",
   "execution_count": null,
   "id": "55b57c0a-9e3a-44e5-bce6-1e4031223849",
   "metadata": {
    "tags": []
   },
   "outputs": [],
   "source": [
    "\"\"\"for i, result in enumerate(column_sums): \n",
    "    print(f\"Subsample {result['catalog_index']}:\")\n",
    "\n",
    "    plt.scatter(theta,ws[i], label='IC corrected', color='orange')  #!!! this here for y-axis is approximative, i need to find the amplitude and delta for each of the subsample, i tried above (with pymc) but has failed till now\n",
    "\n",
    "    plt.scatter(theta, w_thetas[i], marker='o', label='without IC', color='blue')  # without IC\n",
    "    \n",
    "    plt.plot(gg.theta*180/np.pi, gg.angular_corr_matter,'k-', label='CF of DM')\n",
    "    plt.plot(gg.theta*180/np.pi, gg.angular_corr_gal, 'r-', label='HOD fit')\n",
    "    \n",
    "    #plt.plot(gg.theta*180/np.pi, (gg.angular_corr_matter-IC[i])*(biases[i])**2, color='forestgreen',label='Fit for bias with IC')\n",
    "    plt.plot(gg.theta*180/np.pi, gg.angular_corr_matter*(biases[i]**2), color='forestgreen',label='Fit for bias with IC')\n",
    "\n",
    "    \n",
    "\n",
    "    plt.xscale(\"log\")\n",
    "    plt.yscale(\"log\")\n",
    "    plt.xlabel(\"theta\")\n",
    "    plt.ylabel(\"w_theta\")\n",
    "    plt.legend()\n",
    "    plt.show()\"\"\"\n"
   ]
  },
  {
   "cell_type": "code",
   "execution_count": null,
   "id": "e2076695-78d8-45dd-ac75-60268c747fdf",
   "metadata": {
    "tags": []
   },
   "outputs": [],
   "source": [
    "subsamples = []\n",
    "z_mean_range = []\n",
    "SM_mean_range = []\n",
    "\n",
    "for i in range(len(z_values) - 1):\n",
    "    z_min = z_values[i]\n",
    "    z_max = z_values[i + 1]\n",
    "    z_mean = (z_min + z_max) / 2\n",
    "    z_mean_range.append(z_mean)\n",
    "\n",
    "    for j in range(len(SM_range) - 1):\n",
    "        SM_min = SM_range[j]\n",
    "        SM_max = SM_range[j + 1]\n",
    "        SM_mean = (SM_min + SM_max) / 2\n",
    "        SM_mean_range.append(SM_mean)"
   ]
  },
  {
   "cell_type": "code",
   "execution_count": null,
   "id": "994f83fb-61c3-4d3c-be62-d70cec2d4144",
   "metadata": {
    "tags": []
   },
   "outputs": [],
   "source": [
    "    \n",
    "z_values = np.arange(0.3, 1.1, 0.1)  ### be careful about completness issues, maybe stop at 0.4 for high SM\n",
    "\n",
    "#SM_range = np.linspace(9.5, 11, num=2) # High SM\n",
    "#SM_range = np.linspace(8, 9.5, num=2) #Low SM\n",
    "SM_range = np.linspace(8, 11, num=4) # diff SM\n",
    "m = np.unique(SM_mean_range) # Get the unique SM values\n",
    "z= z_mean_range\n",
    "\n",
    "print('len(m):',len(m))\n",
    "print('len(z):',len(z))\n",
    "\n",
    "zm=np.meshgrid(m,z)\n",
    "np.array(zm)\n",
    "zm=np.array(zm).reshape(2,-1)\n",
    "zm[:,0]\n",
    "\n",
    "\n",
    "avg_bias = np.reshape(biases, (len(z), len(m))).T\n",
    "\n",
    "avg_bias_error= np.reshape(bias_errors, (len(z), len(m))).T\n",
    "\n",
    "plt.figure(figsize=(10, 8)) \n",
    "\n",
    "for i in range(len(m)):\n",
    "    plt.errorbar(z, avg_bias[i], yerr= avg_bias_error[i], label=f\" SM = {m[i]:.2f}\",marker='o',capsize=7)\n",
    "    #plt.plot(z, avg_bias[i],  label=f\" SM = {m[i]:.2f}\",marker='o')\n",
    "plt.title('Average Bias vs. Redshift (for the 4 fields)')\n",
    "plt.xlabel('Redshift')\n",
    "plt.ylabel('Average Bias')\n",
    "plt.grid(True)\n",
    "plt.legend()\n",
    "plt.savefig(os.path.join(res,'Avgerage_bias'))\n",
    "plt.show()"
   ]
  },
  {
   "cell_type": "code",
   "execution_count": null,
   "id": "b6ede97e-cde4-4959-892a-5955e8f3fbf1",
   "metadata": {
    "tags": []
   },
   "outputs": [],
   "source": [
    "\n",
    "COSMOS_reshaped = np.reshape(np.array(COSMOS[:, 1]), (len(z), len(m))).T  \n",
    "X3_reshaped = np.reshape(np.array(X3[:, 1]), (len(z), len(m))).T  \n",
    "E2_reshaped = np.reshape(np.array(E2[:, 1]), (len(z), len(m))).T  \n",
    "C3_reshaped = np.reshape(np.array(C3[:, 1]), (len(z), len(m))).T  "
   ]
  },
  {
   "cell_type": "code",
   "execution_count": null,
   "id": "701c28fb-8bea-422c-b606-a1ac92abf851",
   "metadata": {
    "tags": []
   },
   "outputs": [],
   "source": [
    "i_max = np.argmax(m)\n",
    "plt.figure(figsize=(10, 8)) \n",
    "\n",
    "plt.errorbar(z, avg_bias[i_max], yerr= avg_bias_error[i_max], label=f\"Average\", color= 'black',marker='o',capsize=7)\n",
    "\n",
    "plt.errorbar(z, C3_reshaped[i_max], yerr=C3[:, 2][i_max], label=f\"SN-C3: SM = {m[i_max]:.2f}\",marker=\"^\", linestyle='dashed',capsize=7)\n",
    "plt.errorbar(z, COSMOS_reshaped[i_max], yerr=COSMOS[:, 2][i_max], label=f\"COSMOS:SM = {m[i_max]:.2f}\", marker='o', capsize=7)\n",
    "plt.errorbar(z, X3_reshaped[i_max],yerr=X3[:, 2][i_max],  label=f\"X3: SM = {m[i_max]:.2f}\",marker=\"D\",linestyle='dotted',capsize=7)\n",
    "plt.errorbar(z, E2_reshaped[i_max],yerr=E2[:, 2][i_max],  label=f\"E3: SM = {m[i_max]:.2f}\",marker=\"X\",linestyle='dashdot',capsize=7)\n",
    "\n",
    "\n",
    "\n",
    "# Add labels, title, grid, and legend\n",
    "plt.xlabel(\"Redshift (z)\")\n",
    "plt.ylabel(r\"Bias\")\n",
    "plt.title(r\"Bias vs Redshift (Maximum Stellar Mass)\")\n",
    "plt.grid(True)\n",
    "plt.legend()\n",
    "\n",
    "# Show the plot\n",
    "plt.show()"
   ]
  },
  {
   "cell_type": "code",
   "execution_count": null,
   "id": "99be4b88-0bd7-4b35-b274-68eb469657e1",
   "metadata": {
    "tags": []
   },
   "outputs": [],
   "source": [
    "i_min = np.argmin(m)\n",
    "plt.figure(figsize=(10, 8)) \n",
    "\n",
    "plt.errorbar(z, avg_bias[i_min], yerr= avg_bias_error[i_min], label=f\"Average\", color= 'black',marker='o',capsize=7)\n",
    "\n",
    "plt.errorbar(z, C3_reshaped[i_min], yerr=C3[:, 2][i_min], label=f\"SN-C3: SM = {m[i_min]:.2f}\",marker=\"^\", linestyle='dashed',capsize=7)\n",
    "plt.errorbar(z, COSMOS_reshaped[i_min], yerr=COSMOS[:, 2][i_min], label=f\"COSMOS:SM = {m[i_min]:.2f}\", marker='o', capsize=7)\n",
    "plt.errorbar(z, X3_reshaped[i_min],yerr=X3[:, 2][i_min],  label=f\"X3: SM = {m[i_min]:.2f}\",marker=\"D\",linestyle='dotted',capsize=7)\n",
    "plt.errorbar(z, E2_reshaped[i_min],yerr=E2[:, 2][i_min],  label=f\"E3: SM = {m[i_min]:.2f}\",marker=\"X\",linestyle='dashdot',capsize=7)\n",
    "\n",
    "\n",
    "\n",
    "plt.xlabel(\"Redshift (z)\")\n",
    "plt.ylabel(r\"Bias\")\n",
    "plt.title(r\"Bias vs Redshift (Minimum Stellar Mass)\")\n",
    "plt.grid(True)\n",
    "plt.legend()\n",
    "\n",
    "# Show the plot\n",
    "plt.show()"
   ]
  },
  {
   "cell_type": "code",
   "execution_count": null,
   "id": "e30f6e09-8e9a-494c-9b2a-d0ee01190091",
   "metadata": {
    "tags": []
   },
   "outputs": [],
   "source": [
    "i_middle = len(m) // 2  # Middle index of m\n",
    "\n",
    "plt.figure(figsize=(10, 8))\n",
    "\n",
    "plt.errorbar(z, avg_bias[i_middle], yerr=avg_bias_error[i_middle], label=f\"Average\", color='black', marker='o', capsize=7)\n",
    "\n",
    "plt.errorbar(z, C3_reshaped[i_middle], yerr=C3[:, 2][i_middle], label=f\"SN-C3: SM = {m[i_middle]:.2f}\", marker=\"^\", linestyle='dashed', capsize=7)\n",
    "plt.errorbar(z, COSMOS_reshaped[i_middle], yerr=COSMOS[:, 2][i_middle], label=f\"COSMOS: SM = {m[i_middle]:.2f}\", marker='o', capsize=7)\n",
    "plt.errorbar(z, X3_reshaped[i_middle], yerr=X3[:, 2][i_middle], label=f\"X3: SM = {m[i_middle]:.2f}\", marker=\"D\", linestyle='dotted', capsize=7)\n",
    "plt.errorbar(z, E2_reshaped[i_middle], yerr=E2[:, 2][i_middle], label=f\"E3: SM = {m[i_middle]:.2f}\", marker=\"X\", linestyle='dashdot', capsize=7)\n",
    "\n",
    "plt.xlabel(\"Redshift (z)\")\n",
    "plt.ylabel(r\"Bias\")\n",
    "plt.title(r\"Bias vs Redshift (Middle Stellar Mass)\")\n",
    "plt.grid(True)\n",
    "plt.legend()\n",
    "plt.show()\n"
   ]
  },
  {
   "cell_type": "code",
   "execution_count": null,
   "id": "f15ac0f8-48a5-4663-8277-b3525da54eda",
   "metadata": {
    "tags": []
   },
   "outputs": [],
   "source": [
    "plt.figure(figsize=(10, 8)) \n",
    "\n",
    "for i in range(len(m)):\n",
    "    plt.errorbar(z, avg_bias[i], yerr= avg_bias_error[i], label=f\"Average\",marker='o', color= 'black',capsize=7)\n",
    "\n",
    "    plt.errorbar(z, COSMOS_reshaped[i],yerr=COSMOS[:, 2][i],  label=f\"COSMOS: SM = {m[i]:.2f}\",marker='o',capsize=7)\n",
    "    plt.errorbar(z, X3_reshaped[i],yerr=X3[:, 2][i],  label=f\"X3: SM = {m[i]:.2f}\",marker=\"D\",linestyle='dotted',capsize=7)\n",
    "    plt.errorbar(z, E2_reshaped[i],yerr=E2[:, 2][i],  label=f\"E2: SM = {m[i]:.2f}\",marker=\"X\",linestyle='dashdot',capsize=7)\n",
    "    \n",
    "plt.xlabel(\"Redshift (z)\")\n",
    "plt.ylabel(r\"Bias\")\n",
    "plt.title(r\"Bias vs. Redshift (Different Stellar Mass Ranges)\")\n",
    "plt.grid(True)\n",
    "plt.legend()\n",
    "plt.savefig(os.path.join(res,\"Bias_vs_z_for_diff_SM.png\"))\n",
    "\n",
    "plt.show()"
   ]
  },
  {
   "cell_type": "code",
   "execution_count": null,
   "id": "46160bdf-e023-4799-9b66-d25ecf44307d",
   "metadata": {},
   "outputs": [],
   "source": []
  },
  {
   "cell_type": "code",
   "execution_count": null,
   "id": "eb79d31e-d179-48d1-973f-2e1d340ae617",
   "metadata": {},
   "outputs": [],
   "source": []
  },
  {
   "cell_type": "code",
   "execution_count": null,
   "id": "fe4c7df5-be36-4450-a18d-36e16f6c5386",
   "metadata": {},
   "outputs": [],
   "source": []
  },
  {
   "cell_type": "code",
   "execution_count": null,
   "id": "82aa2f4b-077b-494b-aaf4-7bb286df6caa",
   "metadata": {},
   "outputs": [],
   "source": []
  }
 ],
 "metadata": {
  "kernelspec": {
   "display_name": "project",
   "language": "python",
   "name": "project"
  },
  "language_info": {
   "codemirror_mode": {
    "name": "ipython",
    "version": 3
   },
   "file_extension": ".py",
   "mimetype": "text/x-python",
   "name": "python",
   "nbconvert_exporter": "python",
   "pygments_lexer": "ipython3",
   "version": "3.12.7"
  }
 },
 "nbformat": 4,
 "nbformat_minor": 5
}
