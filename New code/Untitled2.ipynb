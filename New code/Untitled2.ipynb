{
 "cells": [
  {
   "cell_type": "code",
   "execution_count": null,
   "id": "0b4f3a03-d980-4e29-86d3-a2347121881b",
   "metadata": {},
   "outputs": [],
   "source": [
    "import astropy.io.fits as fits\n",
    "import numpy as np\n",
    "from scipy.integrate import quad\n",
    "import scipy.integrate as integrate\n",
    "from scipy.optimize import curve_fit\n",
    "from astropy.coordinates import SkyCoord\n",
    "from astropy import units as u\n",
    "from astropy.table import Table, join\n",
    "import os\n",
    "import matplotlib.pyplot as plt\n",
    "from astropy.cosmology import FlatLambdaCDM\n",
    "import halomod as hm\n",
    "import hmf\n",
    "import treecorr\n",
    "import DarkVerse as dv\n",
    "\n",
    "# Define directories\n",
    "home_dir = os.path.expanduser('~')\n",
    "directory_SN_X3 = \"/home/astro/manasoi7/Master_Thesis/Results/SN-X3\"\n",
    "directory_SN_C3 = \"/home/astro/manasoi7/Master_Thesis/Results/SN-C3\"\n",
    "directory_SN_E2 = \"/home/astro/manasoi7/Master_Thesis/Results/SN-E2\"\n",
    "directory_COSMOS = \"/home/astro/manasoi7/Master_Thesis/Results/COSMOS\"\n",
    "res = os.path.join(home_dir, 'Master_Thesis', 'Results')\n",
    "thesis_path = os.path.join(home_dir, 'Master_Thesis', 'DATA')\n",
    "\n",
    "# Catalog: read and remove stars (kNN_CLASS == 2)\n",
    "fits_file_path = os.path.join(thesis_path, \"DES_DF_SN-C3_sbi_output.fits\")\n",
    "t = Table.read(fits_file_path)\n",
    "t = t[t['kNN_CLASS'] != 2]   # <-- remove stars\n",
    "\n",
    "# Masked catalog: read and remove stars\n",
    "masked_file_path = os.path.join(thesis_path, \"SN-C3_masked_cat.fits\")\n",
    "t3 = Table.read(masked_file_path)\n",
    "t3 = t3[t3['kNN_CLASS'] != 2]   # <-- remove stars\n",
    "\n",
    "# Join in one table\n",
    "t = join(t, t3, keys='id')\n",
    "t.rename_column('mode_z', 'z')\n",
    "t.rename_column('mode_mass', 'SM')\n",
    "\n",
    "# Load randoms: read and remove stars\n",
    "fits_random = os.path.join(thesis_path, \"SN-C3_randoms_ugriz_trim_video.fits\")\n",
    "t2 = Table.read(fits_random)\n",
    "randoms = t2[t2['kNN_CLASS'] != 2]   # <-- remove stars\n",
    "\n",
    "# Define Correlation Function Configuration\n",
    "config = {\n",
    "    'min_sep': 0.003,\n",
    "    'max_sep': 1.78,\n",
    "    'bin_size': 0.1,\n",
    "    'sep_units': 'degrees',\n",
    "    'var_method': 'shot'   # alternative: 'bootstrap', but much slower\n",
    "}\n",
    "\n"
   ]
  },
  {
   "cell_type": "code",
   "execution_count": null,
   "id": "c3792ea2-b972-43fa-8573-5f61ac29bff7",
   "metadata": {},
   "outputs": [],
   "source": [
    "t"
   ]
  },
  {
   "cell_type": "code",
   "execution_count": null,
   "id": "c5033f8f-6e66-41eb-80f4-de2a464762aa",
   "metadata": {},
   "outputs": [],
   "source": []
  }
 ],
 "metadata": {
  "kernelspec": {
   "display_name": "project",
   "language": "python",
   "name": "project"
  },
  "language_info": {
   "codemirror_mode": {
    "name": "ipython",
    "version": 3
   },
   "file_extension": ".py",
   "mimetype": "text/x-python",
   "name": "python",
   "nbconvert_exporter": "python",
   "pygments_lexer": "ipython3",
   "version": "3.12.7"
  }
 },
 "nbformat": 4,
 "nbformat_minor": 5
}
