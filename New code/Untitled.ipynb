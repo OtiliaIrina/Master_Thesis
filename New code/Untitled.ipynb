{
 "cells": [
  {
   "cell_type": "code",
   "execution_count": 8,
   "id": "b28bbb98-592b-49fc-a88f-2c12a73a399c",
   "metadata": {
    "tags": []
   },
   "outputs": [],
   "source": [
    "import astropy.io.fits as fits\n",
    "import numpy as np\n",
    "from scipy.integrate import quad\n",
    "import scipy.integrate as integrate\n",
    "from scipy.optimize import curve_fit\n",
    "from astropy.coordinates import SkyCoord\n",
    "from astropy import units as u\n",
    "from astropy.table import Table, join\n",
    "import os\n",
    "import matplotlib.pyplot as plt\n",
    "from astropy.cosmology import FlatLambdaCDM\n",
    "import halomod as hm\n",
    "import hmf\n",
    "import treecorr\n",
    "\n",
    "\n",
    "\n",
    "\n",
    "\n"
   ]
  },
  {
   "cell_type": "code",
   "execution_count": 9,
   "id": "1ec6eaee-7822-4619-95b7-9f8db51ea09f",
   "metadata": {
    "tags": []
   },
   "outputs": [],
   "source": [
    "import DarkVerse as dv\n"
   ]
  },
  {
   "cell_type": "code",
   "execution_count": 10,
   "id": "0029ce81-8a7f-4a54-b9b7-9abf4ec58bb9",
   "metadata": {
    "tags": []
   },
   "outputs": [
    {
     "ename": "ValueError",
     "evalue": "Input arrays have zero length",
     "output_type": "error",
     "traceback": [
      "\u001b[0;31m---------------------------------------------------------------------------\u001b[0m",
      "\u001b[0;31mValueError\u001b[0m                                Traceback (most recent call last)",
      "Cell \u001b[0;32mIn[10], line 36\u001b[0m\n\u001b[1;32m     33\u001b[0m SM_min, SM_max \u001b[38;5;241m=\u001b[39m \u001b[38;5;241m1e10\u001b[39m, \u001b[38;5;241m5e10\u001b[39m\n\u001b[1;32m     35\u001b[0m \u001b[38;5;66;03m# Apply Subsample\u001b[39;00m\n\u001b[0;32m---> 36\u001b[0m subsample \u001b[38;5;241m=\u001b[39m dv\u001b[38;5;241m.\u001b[39mSubsample(catalog\u001b[38;5;241m=\u001b[39mt, z_min\u001b[38;5;241m=\u001b[39mz_min, z_max\u001b[38;5;241m=\u001b[39mz_max, SM_min\u001b[38;5;241m=\u001b[39mSM_min, SM_max\u001b[38;5;241m=\u001b[39mSM_max)\n\u001b[1;32m     38\u001b[0m \u001b[38;5;66;03m# Get Results\u001b[39;00m\n\u001b[1;32m     39\u001b[0m results \u001b[38;5;241m=\u001b[39m subsample\u001b[38;5;241m.\u001b[39mget_results()\n",
      "File \u001b[0;32m~/Master_Thesis/Code/New code/DarkVerse/subsample.py:30\u001b[0m, in \u001b[0;36mSubsample.__init__\u001b[0;34m(self, catalog, z_min, z_max, SM_min, SM_max, w_theta, theta)\u001b[0m\n\u001b[1;32m     28\u001b[0m \u001b[38;5;66;03m# Measure correlation function if data is available\u001b[39;00m\n\u001b[1;32m     29\u001b[0m \u001b[38;5;28;01mif\u001b[39;00m \u001b[38;5;28mself\u001b[39m\u001b[38;5;241m.\u001b[39mw_theta \u001b[38;5;129;01mis\u001b[39;00m \u001b[38;5;28;01mNone\u001b[39;00m \u001b[38;5;129;01mor\u001b[39;00m \u001b[38;5;28mself\u001b[39m\u001b[38;5;241m.\u001b[39mtheta \u001b[38;5;129;01mis\u001b[39;00m \u001b[38;5;28;01mNone\u001b[39;00m:\n\u001b[0;32m---> 30\u001b[0m     \u001b[38;5;28mself\u001b[39m\u001b[38;5;241m.\u001b[39mmeasure_w_theta()\n\u001b[1;32m     32\u001b[0m \u001b[38;5;66;03m# Fit power-law model\u001b[39;00m\n\u001b[1;32m     33\u001b[0m \u001b[38;5;28mself\u001b[39m\u001b[38;5;241m.\u001b[39mfit_power_law()\n",
      "File \u001b[0;32m~/Master_Thesis/Code/New code/DarkVerse/subsample.py:56\u001b[0m, in \u001b[0;36mSubsample.measure_w_theta\u001b[0;34m(self)\u001b[0m\n\u001b[1;32m     48\u001b[0m config \u001b[38;5;241m=\u001b[39m {\n\u001b[1;32m     49\u001b[0m     \u001b[38;5;124m'\u001b[39m\u001b[38;5;124mmin_sep\u001b[39m\u001b[38;5;124m'\u001b[39m: \u001b[38;5;241m0.01\u001b[39m,  \u001b[38;5;66;03m# Minimum separation in degrees\u001b[39;00m\n\u001b[1;32m     50\u001b[0m     \u001b[38;5;124m'\u001b[39m\u001b[38;5;124mmax_sep\u001b[39m\u001b[38;5;124m'\u001b[39m: \u001b[38;5;241m1.0\u001b[39m,   \u001b[38;5;66;03m# Maximum separation in degrees\u001b[39;00m\n\u001b[1;32m     51\u001b[0m     \u001b[38;5;124m'\u001b[39m\u001b[38;5;124mnbins\u001b[39m\u001b[38;5;124m'\u001b[39m: \u001b[38;5;241m10\u001b[39m,      \u001b[38;5;66;03m# Number of bins\u001b[39;00m\n\u001b[1;32m     52\u001b[0m     \u001b[38;5;124m'\u001b[39m\u001b[38;5;124msep_units\u001b[39m\u001b[38;5;124m'\u001b[39m: \u001b[38;5;124m'\u001b[39m\u001b[38;5;124mdegrees\u001b[39m\u001b[38;5;124m'\u001b[39m\n\u001b[1;32m     53\u001b[0m }\n\u001b[1;32m     55\u001b[0m \u001b[38;5;66;03m# Generate TreeCorr catalogs\u001b[39;00m\n\u001b[0;32m---> 56\u001b[0m data_cat \u001b[38;5;241m=\u001b[39m treecorr\u001b[38;5;241m.\u001b[39mCatalog(ra\u001b[38;5;241m=\u001b[39m\u001b[38;5;28mself\u001b[39m\u001b[38;5;241m.\u001b[39mfiltered_catalog[\u001b[38;5;124m'\u001b[39m\u001b[38;5;124mra\u001b[39m\u001b[38;5;124m'\u001b[39m], dec\u001b[38;5;241m=\u001b[39m\u001b[38;5;28mself\u001b[39m\u001b[38;5;241m.\u001b[39mfiltered_catalog[\u001b[38;5;124m'\u001b[39m\u001b[38;5;124mdec\u001b[39m\u001b[38;5;124m'\u001b[39m],\n\u001b[1;32m     57\u001b[0m                             ra_units\u001b[38;5;241m=\u001b[39m\u001b[38;5;124m'\u001b[39m\u001b[38;5;124mdegrees\u001b[39m\u001b[38;5;124m'\u001b[39m, dec_units\u001b[38;5;241m=\u001b[39m\u001b[38;5;124m'\u001b[39m\u001b[38;5;124mdegrees\u001b[39m\u001b[38;5;124m'\u001b[39m, npatch\u001b[38;5;241m=\u001b[39m\u001b[38;5;241m50\u001b[39m)\n\u001b[1;32m     59\u001b[0m \u001b[38;5;66;03m# Generate random catalog for comparison\u001b[39;00m\n\u001b[1;32m     60\u001b[0m random_cat \u001b[38;5;241m=\u001b[39m treecorr\u001b[38;5;241m.\u001b[39mCatalog(ra\u001b[38;5;241m=\u001b[39mnp\u001b[38;5;241m.\u001b[39mrandom\u001b[38;5;241m.\u001b[39muniform(\u001b[38;5;241m0\u001b[39m, \u001b[38;5;241m360\u001b[39m, \u001b[38;5;28mlen\u001b[39m(\u001b[38;5;28mself\u001b[39m\u001b[38;5;241m.\u001b[39mfiltered_catalog)),\n\u001b[1;32m     61\u001b[0m                               dec\u001b[38;5;241m=\u001b[39mnp\u001b[38;5;241m.\u001b[39mrandom\u001b[38;5;241m.\u001b[39muniform(\u001b[38;5;241m-\u001b[39m\u001b[38;5;241m90\u001b[39m, \u001b[38;5;241m90\u001b[39m, \u001b[38;5;28mlen\u001b[39m(\u001b[38;5;28mself\u001b[39m\u001b[38;5;241m.\u001b[39mfiltered_catalog)),\n\u001b[1;32m     62\u001b[0m                               ra_units\u001b[38;5;241m=\u001b[39m\u001b[38;5;124m'\u001b[39m\u001b[38;5;124mdegrees\u001b[39m\u001b[38;5;124m'\u001b[39m, dec_units\u001b[38;5;241m=\u001b[39m\u001b[38;5;124m'\u001b[39m\u001b[38;5;124mdegrees\u001b[39m\u001b[38;5;124m'\u001b[39m, npatch\u001b[38;5;241m=\u001b[39m\u001b[38;5;241m50\u001b[39m)\n",
      "File \u001b[0;32m~/.conda/envs/project/lib/python3.12/site-packages/treecorr/catalog.py:1002\u001b[0m, in \u001b[0;36mCatalog.__init__\u001b[0;34m(self, file_name, config, num, logger, is_rand, x, y, z, ra, dec, r, w, wpos, flag, k, z1, z2, v1, v2, g1, g2, t1, t2, q1, q2, patch, patch_centers, rng, **kwargs)\u001b[0m\n\u001b[1;32m   1000\u001b[0m         \u001b[38;5;28;01mraise\u001b[39;00m \u001b[38;5;167;01mValueError\u001b[39;00m(\u001b[38;5;124m\"\u001b[39m\u001b[38;5;124mpatch has the wrong numbers of elements\u001b[39m\u001b[38;5;124m\"\u001b[39m)\n\u001b[1;32m   1001\u001b[0m     \u001b[38;5;28;01mif\u001b[39;00m ntot \u001b[38;5;241m==\u001b[39m \u001b[38;5;241m0\u001b[39m:\n\u001b[0;32m-> 1002\u001b[0m         \u001b[38;5;28;01mraise\u001b[39;00m \u001b[38;5;167;01mValueError\u001b[39;00m(\u001b[38;5;124m\"\u001b[39m\u001b[38;5;124mInput arrays have zero length\u001b[39m\u001b[38;5;124m\"\u001b[39m)\n\u001b[1;32m   1004\u001b[0m \u001b[38;5;28;01mif\u001b[39;00m (x \u001b[38;5;129;01mis\u001b[39;00m \u001b[38;5;129;01mnot\u001b[39;00m \u001b[38;5;28;01mNone\u001b[39;00m \u001b[38;5;129;01mor\u001b[39;00m \u001b[38;5;28mself\u001b[39m\u001b[38;5;241m.\u001b[39mconfig\u001b[38;5;241m.\u001b[39mget(\u001b[38;5;124m'\u001b[39m\u001b[38;5;124mx_col\u001b[39m\u001b[38;5;124m'\u001b[39m,\u001b[38;5;124m'\u001b[39m\u001b[38;5;124m0\u001b[39m\u001b[38;5;124m'\u001b[39m) \u001b[38;5;129;01mnot\u001b[39;00m \u001b[38;5;129;01min\u001b[39;00m [\u001b[38;5;241m0\u001b[39m,\u001b[38;5;124m'\u001b[39m\u001b[38;5;124m0\u001b[39m\u001b[38;5;124m'\u001b[39m]\n\u001b[1;32m   1005\u001b[0m     \u001b[38;5;129;01mor\u001b[39;00m \u001b[38;5;28mself\u001b[39m\u001b[38;5;241m.\u001b[39mconfig\u001b[38;5;241m.\u001b[39mget(\u001b[38;5;124m'\u001b[39m\u001b[38;5;124mx_eval\u001b[39m\u001b[38;5;124m'\u001b[39m) \u001b[38;5;129;01mis\u001b[39;00m \u001b[38;5;129;01mnot\u001b[39;00m \u001b[38;5;28;01mNone\u001b[39;00m):\n\u001b[1;32m   1006\u001b[0m     \u001b[38;5;28;01mif\u001b[39;00m \u001b[38;5;124m'\u001b[39m\u001b[38;5;124mx_units\u001b[39m\u001b[38;5;124m'\u001b[39m \u001b[38;5;129;01min\u001b[39;00m \u001b[38;5;28mself\u001b[39m\u001b[38;5;241m.\u001b[39mconfig \u001b[38;5;129;01mand\u001b[39;00m \u001b[38;5;124m'\u001b[39m\u001b[38;5;124my_units\u001b[39m\u001b[38;5;124m'\u001b[39m \u001b[38;5;129;01mnot\u001b[39;00m \u001b[38;5;129;01min\u001b[39;00m \u001b[38;5;28mself\u001b[39m\u001b[38;5;241m.\u001b[39mconfig:\n",
      "\u001b[0;31mValueError\u001b[0m: Input arrays have zero length"
     ]
    }
   ],
   "source": [
    "\n",
    "# Define the home directory\n",
    "home_dir = os.path.expanduser('~')\n",
    "thesis_path = os.path.join(home_dir, 'Master_Thesis', 'DATA')\n",
    "\n",
    "# Load Catalog Data\n",
    "fits_file_path = os.path.join(thesis_path, \"Y3_deep_fields_DB_wKNN_cat_COSMOS_zm.fits\")  \n",
    "t = Table.read(fits_file_path)\n",
    "\n",
    "masked_file_path = os.path.join(thesis_path, \"COSMOS_masked_cat.fits\")  \n",
    "t3 = Table.read(masked_file_path)\n",
    "\n",
    "# Join tables on 'id'\n",
    "t = join(t, t3, keys='id')\n",
    "t.rename_column('ra_1', 'ra')\n",
    "t.rename_column('dec_1', 'dec')\n",
    "\n",
    "# Load Randoms\n",
    "fits_random = os.path.join(thesis_path, \"COSMOS_randoms_ugriz_trim_video.fits\") \n",
    "t2 = Table.read(fits_random)\n",
    "randoms = t2  # Random catalog\n",
    "\n",
    "# Define Correlation Function Configuration\n",
    "config = {\n",
    "    'min_sep': 0.003,\n",
    "    'max_sep': 1.78,\n",
    "    'bin_size': 0.1,\n",
    "    'sep_units': 'degrees',\n",
    "    'var_method': 'bootstrap'\n",
    "}\n",
    "\n",
    "# Define Redshift and Stellar Mass Limits\n",
    "z_min, z_max = 0.2, 0.4\n",
    "SM_min, SM_max = 1e10, 5e10\n",
    "\n",
    "# Apply Subsample\n",
    "subsample = dv.Subsample(catalog=t, z_min=z_min, z_max=z_max, SM_min=SM_min, SM_max=SM_max)\n",
    "\n",
    "# Get Results\n",
    "results = subsample.get_results()\n",
    "\n",
    "# Print Results\n",
    "print(f\"Power Law Parameters (A, gamma): {results['power_law_params']}\")\n",
    "print(f\"w_theta: {results['w_theta']}\")\n",
    "print(f\"DD counts: {results['dd_counts']}\")\n",
    "print(f\"DR counts: {results['dr_counts']}\")\n",
    "print(f\"RR counts: {results['rr_counts']}\")\n"
   ]
  },
  {
   "cell_type": "code",
   "execution_count": null,
   "id": "5ad3b4c6-87f2-4bea-b3c4-c2927356254f",
   "metadata": {},
   "outputs": [],
   "source": []
  }
 ],
 "metadata": {
  "kernelspec": {
   "display_name": "project",
   "language": "python",
   "name": "project"
  },
  "language_info": {
   "codemirror_mode": {
    "name": "ipython",
    "version": 3
   },
   "file_extension": ".py",
   "mimetype": "text/x-python",
   "name": "python",
   "nbconvert_exporter": "python",
   "pygments_lexer": "ipython3",
   "version": "3.12.7"
  }
 },
 "nbformat": 4,
 "nbformat_minor": 5
}
