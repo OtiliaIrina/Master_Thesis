{
 "cells": [
  {
   "cell_type": "code",
   "execution_count": 1,
   "id": "23037630-86dd-4ca7-a719-e441308a56bc",
   "metadata": {},
   "outputs": [],
   "source": [
    "import torch\n",
    "\n",
    "from sbi.inference import SNPE, SNPE_A, prepare_for_sbi, simulate_for_sbi\n",
    "from sbi.utils.get_nn_models import posterior_nn\n",
    "from sbi import utils as utils\n",
    "from sbi import analysis as analysis\n",
    "\n",
    "from astropy.table import Table\n",
    "\n",
    "import numpy as np\n",
    "\n",
    "import matplotlib.pyplot as plt\n",
    "\n",
    "%matplotlib inline\n",
    "plt.rc('font',**{'family':'serif','size':14})\n",
    "#plt.rc('text', usetex=True)"
   ]
  },
  {
   "cell_type": "code",
   "execution_count": 2,
   "id": "39e96557-a663-4d8b-b738-ab765f4d5e17",
   "metadata": {},
   "outputs": [],
   "source": [
    "def shift_cen(arr):    \n",
    "    return arr[:-1] + (arr[1]-arr[0])/2.\n",
    "\n",
    "def contour_plot(ax, xdata, ydata, limits, nbins=50, labels=[\"set1\",], colours=['k',], nlevel=4, zeropoint=2):\n",
    "    \n",
    "    #alpha = np.array([1,0.8,0.6,0.4,0.2]) # can't use alpha\n",
    "    lw = 1.5*np.arange(nlevel+1)/nlevel #[0.4, 0.8, 1.2, 1.6, 2]\n",
    "    if type(colours[0]) is str:\n",
    "        col = colours\n",
    "    elif type(colours[0]) is int:\n",
    "        col = np.array([BAND_COLORS['Y'], BAND_COLORS['g'], BAND_COLORS['r'], BAND_COLORS['u']])[colours]\n",
    "    else:\n",
    "        col = [BAND_COLORS['Y'], BAND_COLORS['g'], BAND_COLORS['r'], BAND_COLORS['u']]\n",
    "    \n",
    "    n_sets = len(xdata)\n",
    "    if n_sets > 4:\n",
    "        print(\"Error: can't plot more than four contour sets. {} requested\".format(n_sets))\n",
    "        return ax,[0,1]*2\n",
    "        \n",
    "    # find the axis limits, etc. (if not None, we assume they're fine)\n",
    "    if limits is None:\n",
    "        # find the 98%ile in each axis\n",
    "        x_tmp = np.sort(np.hstack(xdata))\n",
    "        y_tmp = np.sort(np.hstack(ydata))\n",
    "\n",
    "        limits = [1.2*sorted(x_tmp)[int(0.01*len(x_tmp))]]\n",
    "        limits.append(1.2*sorted(x_tmp)[int(0.99*len(x_tmp))])\n",
    "        limits.append(1.2*sorted(y_tmp)[int(0.01*len(y_tmp))])\n",
    "        limits.append(1.2*sorted(y_tmp)[int(0.99*len(y_tmp))])\n",
    "            \n",
    "    # 2d hist\n",
    "    x_edges = limits[0] + (limits[1] - limits[0]) * np.arange(nbins+1) / nbins\n",
    "    y_edges = limits[2] + (limits[3] - limits[2]) * np.arange(nbins+1) / nbins\n",
    "\n",
    "    # plot each in turn\n",
    "    for i in range(n_sets):\n",
    "        z = np.histogram2d(xdata[i], ydata[i], bins=[x_edges, y_edges], density=True)\n",
    "        if i==0:\n",
    "            zmax = np.max(z[0])*0.98\n",
    "            \n",
    "        # contour levels\n",
    "        levels = 10.**((np.arange(nlevel+1) * (np.log10(zmax)+zeropoint) / nlevel) - zeropoint)\n",
    "        print(levels, np.log10(zmax), zmax, np.min(z[0]))\n",
    "\n",
    "        X, Y = np.meshgrid(shift_cen(x_edges), shift_cen(y_edges))\n",
    "\n",
    "        # plot\n",
    "        ax.contour(X, Y, z[0].T, levels=levels, colors=col[i], linewidths=lw)\n",
    "        \n",
    "        ax_ranges = [ax.get_xlim()[1]-ax.get_xlim()[0], ax.get_ylim()[1]-ax.get_ylim()[0]]    \n",
    "        ax.plot([ax.get_xlim()[1]+0.3*ax_ranges[0], ax.get_xlim()[1]+0.35*ax_ranges[0]], \n",
    "            [ax.get_ylim()[0]-0.3*ax_ranges[1], ax.get_ylim()[0]-0.3*ax_ranges[1]], label=labels[i], \n",
    "            color=col[i])\n",
    "\n",
    "    ax.legend() #fontsize=22,loc=2 \n",
    "    return ax, limits\n",
    "\n"
   ]
  },
  {
   "cell_type": "code",
   "execution_count": 3,
   "id": "c5467ca9-a4bd-41a4-8d5e-ffaa00d6ba61",
   "metadata": {},
   "outputs": [
    {
     "name": "stdout",
     "output_type": "stream",
     "text": [
      "Posterior conditional density p(θ|x) of type DirectPosterior. It samples the posterior network and rejects samples that\n",
      "            lie outside of the prior bounds.\n"
     ]
    },
    {
     "name": "stderr",
     "output_type": "stream",
     "text": [
      "/home/will/anaconda3/envs/sbi/lib/python3.12/site-packages/torch/storage.py:414: FutureWarning: You are using `torch.load` with `weights_only=False` (the current default value), which uses the default pickle module implicitly. It is possible to construct malicious pickle data which will execute arbitrary code during unpickling (See https://github.com/pytorch/pytorch/blob/main/SECURITY.md#untrusted-models for more details). In a future release, the default value for `weights_only` will be flipped to `True`. This limits the functions that could be executed during unpickling. Arbitrary objects will no longer be allowed to be loaded via this mode unless they are explicitly allowlisted by the user via `torch.serialization.add_safe_globals`. We recommend you start setting `weights_only=True` for any use case where you don't have full control of the loaded file. Please open an issue on GitHub for any issues related to this experimental feature.\n",
      "  return torch.load(io.BytesIO(b))\n"
     ]
    }
   ],
   "source": [
    "#!pip install astropy\n",
    "\n",
    "# try to load the model\n",
    "# save the model\n",
    "import pickle\n",
    "#with open(\"SBI_DES_DF_posterior.pkl\", \"wb\") as handle:\n",
    "with open(\"SBI_DES_DF_posterior.pkl\", 'rb') as file:\n",
    "    posterior = pickle.load(file)\n",
    "print(posterior)\n"
   ]
  },
  {
   "cell_type": "code",
   "execution_count": 4,
   "id": "156d6133-225c-4266-beff-99e513f3c010",
   "metadata": {},
   "outputs": [
    {
     "name": "stdout",
     "output_type": "stream",
     "text": [
      "321638\n"
     ]
    },
    {
     "name": "stderr",
     "output_type": "stream",
     "text": [
      "WARNING: UnitsWarning: 'log(solMass)' did not parse as fits unit: 'log' is not a recognized function If this is meant to be a custom unit, define it with 'u.def_unit'. To have it recognized inside a file reader or other code, enable it with 'u.add_enabled_units'. For details, see https://docs.astropy.org/en/latest/units/combining_and_defining.html [astropy.units.core]\n",
      "WARNING: UnitsWarning: 'log(solMass/yr)' did not parse as fits unit: 'log' is not a recognized function If this is meant to be a custom unit, define it with 'u.def_unit'. To have it recognized inside a file reader or other code, enable it with 'u.add_enabled_units'. For details, see https://docs.astropy.org/en/latest/units/combining_and_defining.html [astropy.units.core]\n"
     ]
    }
   ],
   "source": [
    "cat = Table.read(\"Y3_deep_fields_DB_wKNN_cat_COSMOS_training_zm.fits\")\n",
    "print(len(cat))"
   ]
  },
  {
   "cell_type": "code",
   "execution_count": 5,
   "id": "80219506-bd88-493f-ba74-30efe3e7cec8",
   "metadata": {},
   "outputs": [
    {
     "name": "stdout",
     "output_type": "stream",
     "text": [
      "215058\n"
     ]
    }
   ],
   "source": [
    "# trim\n",
    "trim = np.where((cat['bdf_mag_dered_calib_i']<26.)&\n",
    "                #(cat['photoz']>0.02)&\n",
    "                #(cat['photoz']<7.)&\n",
    "                #(cat['lp_mass_best']>5.5)&\n",
    "                #(cat['lp_mass_best']<12.5)&\n",
    "                (cat['bdf_mag_dered_calib_Ks']>-99))[0]\n",
    "\n",
    "cat = cat[trim]\n",
    "print(len(cat))"
   ]
  },
  {
   "cell_type": "code",
   "execution_count": 6,
   "id": "c44a2575-205e-4f6c-b7e3-8d2b98980643",
   "metadata": {},
   "outputs": [],
   "source": [
    "# shuffle\n",
    "shuffle = np.random.choice(np.arange(len(cat)), len(cat), replace=False)\n",
    "cat = cat[shuffle]"
   ]
  },
  {
   "cell_type": "code",
   "execution_count": 7,
   "id": "03713d03-1333-44aa-9cad-ddbced04bdbe",
   "metadata": {},
   "outputs": [],
   "source": [
    "col_stem = 'bdf_flux_dered_calib_'\n",
    "\n",
    "bands = ['u', 'g', 'r', 'i', 'z', 'J', 'H', 'Ks']\n",
    "\n",
    "des_df_wav = np.array([3964.66514687, 4862.25686437, 6460.66067701, 7850.81307253,\n",
    "                    9199.25312957, 12555.24560401, 16497.51745108, 21577.4382854])\n"
   ]
  },
  {
   "cell_type": "code",
   "execution_count": 8,
   "id": "28cada47-960e-4abe-a304-74dee35716bd",
   "metadata": {},
   "outputs": [
    {
     "data": {
      "text/plain": [
       "(8, 215058)"
      ]
     },
     "execution_count": 8,
     "metadata": {},
     "output_type": "execute_result"
    }
   ],
   "source": [
    "flux = np.array([cat[col_stem+b] for b in bands])\n",
    "flux.shape"
   ]
  },
  {
   "cell_type": "code",
   "execution_count": 9,
   "id": "639e595a-2c60-4279-9683-8c5e2e44bd37",
   "metadata": {},
   "outputs": [],
   "source": [
    "def luptitudes(f,b=10):\n",
    "    lupt = 2.5/np.log(10) * (np.arcsinh(f/(2*b)) + np.log(b))\n",
    "    return lupt\n",
    "\n",
    "lupt = luptitudes(flux).T\n"
   ]
  },
  {
   "cell_type": "code",
   "execution_count": 10,
   "id": "30678837-2980-40e3-b398-70aaa15d2dcc",
   "metadata": {},
   "outputs": [],
   "source": [
    "# convert the data to pytorch tensors, float32\n",
    "#theta_tst_torch = torch.from_numpy(theta_test.astype(np.float32))\n",
    "x_tst_torch = torch.from_numpy(lupt.astype(np.float32))\n",
    "\n"
   ]
  },
  {
   "cell_type": "code",
   "execution_count": 11,
   "id": "37d2fe89-5fa4-4d01-873b-fa2559664d32",
   "metadata": {},
   "outputs": [],
   "source": [
    "prior = utils.BoxUniform(low=torch.from_numpy(np.array([0.02, 5.5])), #, -1, -1])), \n",
    "                          high=torch.from_numpy(np.array([7, 12.5]))) #, 4, 4])))\n"
   ]
  },
  {
   "cell_type": "code",
   "execution_count": 12,
   "id": "f73b591c-f69b-40a9-8b9c-c483607056ad",
   "metadata": {},
   "outputs": [
    {
     "name": "stdout",
     "output_type": "stream",
     "text": [
      "[3.50550119 3.82660988 4.7700608  5.16725652 5.15433218 5.52740445\n",
      " 5.6162943  5.71391742]\n"
     ]
    }
   ],
   "source": [
    "ob = 207\n",
    "print(lupt[ob,:])\n"
   ]
  },
  {
   "cell_type": "code",
   "execution_count": 13,
   "id": "4ecd9da1-d988-4a2b-a3a3-4264fe1be6d7",
   "metadata": {},
   "outputs": [
    {
     "data": {
      "application/vnd.jupyter.widget-view+json": {
       "model_id": "6b96edd59d8047578b4213e29d62bdd3",
       "version_major": 2,
       "version_minor": 0
      },
      "text/plain": [
       "Drawing 10 posterior samples:   0%|          | 0/10 [00:00<?, ?it/s]"
      ]
     },
     "metadata": {},
     "output_type": "display_data"
    },
    {
     "name": "stdout",
     "output_type": "stream",
     "text": [
      "tensor([[0.5409, 8.3891]])\n"
     ]
    }
   ],
   "source": [
    "posterior.set_default_x(x_tst_torch[ob,:])\n",
    "mode_val = posterior.map(num_iter=100, num_init_samples=10) # balanace of accruacy and speed\n",
    "print(mode_val)"
   ]
  },
  {
   "cell_type": "code",
   "execution_count": 14,
   "id": "3adbcf68-8559-4be0-9394-583ee7666b1b",
   "metadata": {},
   "outputs": [
    {
     "data": {
      "application/vnd.jupyter.widget-view+json": {
       "model_id": "a862ad2ea719441ba3877526b4d4b6e0",
       "version_major": 2,
       "version_minor": 0
      },
      "text/plain": [
       "Drawing 10000 posterior samples:   0%|          | 0/10000 [00:00<?, ?it/s]"
      ]
     },
     "metadata": {},
     "output_type": "display_data"
    },
    {
     "data": {
      "image/png": "[encoded data removed]",
      "text/plain": [
       "<Figure size 700x700 with 4 Axes>"
      ]
     },
     "metadata": {},
     "output_type": "display_data"
    }
   ],
   "source": [
    "posterior_samples = posterior.sample((10000,), x=x_tst_torch[ob,:])\n",
    "#posterior_samples = posterior.sample((100,), x=ob_x)\n",
    "#posterior_samples = posterior((100,), x=ob_x, sample_with_mcmc=True)\n",
    "\n",
    "# plot posterior samples\n",
    "_ = analysis.pairplot(\n",
    "    posterior_samples, figsize=(7, 7)\n",
    ")\n",
    "# limits=[[-2, 2], [-2, 2], [-2, 2]]\n",
    "plt.show()"
   ]
  },
  {
   "cell_type": "code",
   "execution_count": 15,
   "id": "bff03b79-0c94-4298-adc2-669dd3e5eaad",
   "metadata": {},
   "outputs": [
    {
     "name": "stdout",
     "output_type": "stream",
     "text": [
      "23.431855691323687 [5.87182584 6.03006846 6.23330575 6.56874804 6.75391021 7.24477131\n",
      " 7.17841143 7.33154718]\n"
     ]
    },
    {
     "data": {
      "application/vnd.jupyter.widget-view+json": {
       "model_id": "65b40b3e0d8b42519f1e3da7ee0c5761",
       "version_major": 2,
       "version_minor": 0
      },
      "text/plain": [
       "Drawing 10000 posterior samples:   0%|          | 0/10000 [00:00<?, ?it/s]"
      ]
     },
     "metadata": {},
     "output_type": "display_data"
    },
    {
     "data": {
      "application/vnd.jupyter.widget-view+json": {
       "model_id": "331131f57cb140faa2f47a224127c999",
       "version_major": 2,
       "version_minor": 0
      },
      "text/plain": [
       "Drawing 10 posterior samples:   0%|          | 0/10 [00:00<?, ?it/s]"
      ]
     },
     "metadata": {},
     "output_type": "display_data"
    },
    {
     "name": "stdout",
     "output_type": "stream",
     "text": [
      "tensor([[1.0326, 9.1776]])\n",
      "0.25835258 2.3277538 8.003635 10.007063\n",
      "[0.63095734 1.08434712 1.86353117 3.2026169  5.50393531 9.45892216] 0.9758416514645137 9.458922157989138 0.0\n"
     ]
    },
    {
     "data": {
      "image/png": "[encoded data removed]",
      "text/plain": [
       "<Figure size 600x500 with 1 Axes>"
      ]
     },
     "metadata": {},
     "output_type": "display_data"
    }
   ],
   "source": [
    "import matplotlib.colors as colors\n",
    "\n",
    "#ob = 102\n",
    "#ob = 58\n",
    "#ob = 2\n",
    "ob = 4\n",
    "print(cat['bdf_mag_dered_calib_i'][ob], lupt[ob,:]) #, theta_test[ob,:])\n",
    "posterior_samples = posterior.sample((10000,), x=x_tst_torch[ob,:])\n",
    "\n",
    "posterior.set_default_x(x_tst_torch[ob,:])\n",
    "mode_val = posterior.map(num_iter=100, num_init_samples=10) # balanace of accruacy and speed\n",
    "print(mode_val)\n",
    "\n",
    "# get the limits as the central 99%ile\n",
    "z_tmp = np.sort(posterior_samples[:,0].numpy())\n",
    "m_tmp = np.sort(posterior_samples[:,1].numpy())\n",
    "z_min = z_tmp[int(0.0005*len(z_tmp))]\n",
    "z_max = z_tmp[int(0.9995*len(z_tmp))]\n",
    "m_min = m_tmp[int(0.0005*len(m_tmp))]\n",
    "m_max = m_tmp[int(0.9995*len(m_tmp))]\n",
    "print(z_min, z_max, m_min, m_max)\n",
    "\n",
    "fig = plt.figure(figsize=(6,5))\n",
    "ax = fig.add_subplot(111)\n",
    "ax.hexbin(posterior_samples[:,0], posterior_samples[:,1],\n",
    "          bins=30, norm=colors.LogNorm(vmin=0.9,vmax=25), extent=(z_min,z_max,m_min,m_max))\n",
    "ax.scatter(mode_val.numpy()[0][0],mode_val.numpy()[0][1], marker='*', s=200, color='gold', edgecolors='purple', label='MAP')\n",
    "contour_plot(ax, [posterior_samples[:,0],], [posterior_samples[:,1],],\n",
    "             (z_min,z_max,m_min,m_max), nbins=30, labels=['SBI posterior',], colours=['k',], nlevel=5, zeropoint=0.2)\n",
    "ax.set_xlabel(r'redshift')\n",
    "ax.set_ylabel(r'stellar mass')\n",
    "ax.set_xlim([z_min,z_max])\n",
    "ax.set_ylim([m_min,m_max])\n",
    "plt.legend(loc=4)\n",
    "plt.show()"
   ]
  },
  {
   "cell_type": "code",
   "execution_count": 16,
   "id": "6e9bba06-20e3-4974-b9e3-cbc861444d5e",
   "metadata": {},
   "outputs": [
    {
     "data": {
      "image/png": "[encoded data removed]",
      "text/plain": [
       "<Figure size 1400x400 with 3 Axes>"
      ]
     },
     "metadata": {},
     "output_type": "display_data"
    }
   ],
   "source": [
    "fig = plt.figure(figsize=(14,4))\n",
    "ax = fig.add_subplot(131)\n",
    "ax.hist(posterior_samples[:,0], bins=np.arange(0,5.505,0.005), histtype='step', density=True)\n",
    "ax.set_xlabel(r'redshift')\n",
    "#ax.set_ylabel(r'stellar mass')\n",
    "ax.set_xlim([0,1.4])\n",
    "#ax.set_ylim([m_min,m_max])\n",
    "ax2 = fig.add_subplot(132)\n",
    "ax2.hist(posterior_samples[:,0], bins=np.arange(0,5.505,0.005), histtype='step', density=True)\n",
    "ax2.set_xlabel(r'redshift')\n",
    "ax3 = fig.add_subplot(133)\n",
    "h, _ = np.histogram(posterior_samples[:,0], bins=np.arange(0,5.505,0.005))\n",
    "h = np.cumsum(h) / np.cumsum(h)[-1]\n",
    "ax3.plot(np.arange(0.005,5.505,0.005), h, '-')\n",
    "ax3.plot([0.,1.4],[0.16,0.16],'k--')\n",
    "ax3.plot([0.,1.4],[0.84,0.84],'k--')\n",
    "ax3.set_xlim([0.,1.4])\n",
    "ax3.set_xlabel(r'redshift')\n",
    "ax3.set_ylabel(r'CDF')\n",
    "#plt.legend(loc=4)\n",
    "plt.show()"
   ]
  },
  {
   "cell_type": "code",
   "execution_count": 17,
   "id": "a221d8ed-4a75-4777-aa23-92782bc79b19",
   "metadata": {},
   "outputs": [
    {
     "name": "stdout",
     "output_type": "stream",
     "text": [
      "sigma: 0.11822660098522168\n",
      "0.905 1.145\n"
     ]
    }
   ],
   "source": [
    "print(\"sigma:\", (np.arange(0.005,5.505,0.005)[h>0.84][0]-np.arange(0.005,5.505,0.005)[h<0.16][-1])/(1+np.arange(0.005,5.505,0.005)[h>0.5][0]))\n",
    "print(np.arange(0.005,5.505,0.005)[h<0.16][-1],np.arange(0.005,5.505,0.005)[h>0.84][0])"
   ]
  },
  {
   "cell_type": "code",
   "execution_count": 18,
   "id": "58d04fc0-00f4-4f88-b18b-0366cab68b61",
   "metadata": {},
   "outputs": [
    {
     "ename": "NameError",
     "evalue": "name 'stop' is not defined",
     "output_type": "error",
     "traceback": [
      "\u001b[0;31m---------------------------------------------------------------------------\u001b[0m",
      "\u001b[0;31mNameError\u001b[0m                                 Traceback (most recent call last)",
      "Cell \u001b[0;32mIn[18], line 1\u001b[0m\n\u001b[0;32m----> 1\u001b[0m stop\n",
      "\u001b[0;31mNameError\u001b[0m: name 'stop' is not defined"
     ]
    }
   ],
   "source": [
    "stop"
   ]
  },
  {
   "cell_type": "code",
   "execution_count": null,
   "id": "c686473b-ab24-404c-80ac-c90a2029fc1e",
   "metadata": {
    "scrolled": true
   },
   "outputs": [],
   "source": [
    "# run them all! (takes too long, we'll split it)\n",
    "pdz = np.zeros((lupt.shape[0],1100))\n",
    "mode_vals = np.zeros((lupt.shape[0],2))\n",
    "pcntiles = np.zeros((lupt.shape[0],3))\n",
    "for ob in np.arange(lupt.shape[0]):\n",
    "    \n",
    "    posterior_samples = posterior.sample((10000,), x=x_tst_torch[ob,:])\n",
    "    h, _ = np.histogram(posterior_samples[:,0], bins=np.arange(0,5.505,0.005), density=True)\n",
    "    pdz[ob,:] = h\n",
    "    \n",
    "    posterior.set_default_x(x_tst_torch[ob,:])\n",
    "    mode_vals[ob,:] = posterior.map(num_iter=100, num_init_samples=10).numpy()\n",
    "    \n",
    "    cum = np.cumsum(h) / np.cumsum(h)[-1]\n",
    "    pcntiles[ob,0] = np.arange(0.005,5.505,0.005)[cum<0.16][-1]\n",
    "    pcntiles[ob,1] = np.arange(0.005,5.505,0.005)[cum>0.5][0]\n",
    "    pcntiles[ob,2] = np.arange(0.005,5.505,0.005)[cum>0.84][0]\n",
    "\n"
   ]
  },
  {
   "cell_type": "code",
   "execution_count": null,
   "id": "659a02e7-7655-4f3a-9d4b-96ab2ac27e88",
   "metadata": {},
   "outputs": [],
   "source": [
    "np.savez('DES_DF_COSMOS_SBI_zm.npz', mode=mode_vals, pdz=pdz, pcntiles=pcntiles)"
   ]
  },
  {
   "cell_type": "code",
   "execution_count": null,
   "id": "0c0d47c9-855e-4e77-8f92-3bcb14d7c04d",
   "metadata": {},
   "outputs": [],
   "source": [
    "cum"
   ]
  },
  {
   "cell_type": "code",
   "execution_count": null,
   "id": "62cd722d-989b-47f8-90c1-c2509dafc3f3",
   "metadata": {},
   "outputs": [],
   "source": []
  },
  {
   "cell_type": "code",
   "execution_count": null,
   "id": "03f5b2d1-9fd8-49a1-95de-32708575d6a5",
   "metadata": {},
   "outputs": [],
   "source": []
  },
  {
   "cell_type": "code",
   "execution_count": null,
   "id": "f526410e-5636-49c4-9fe3-36a4c6c1e46d",
   "metadata": {},
   "outputs": [],
   "source": []
  },
  {
   "cell_type": "code",
   "execution_count": null,
   "id": "d85dfdd5-eadf-4ad4-9c4e-d77c7253d8d3",
   "metadata": {},
   "outputs": [],
   "source": []
  },
  {
   "cell_type": "code",
   "execution_count": null,
   "id": "8df4ee9b-5d21-4c6a-9e93-d6620de3684f",
   "metadata": {},
   "outputs": [],
   "source": []
  },
  {
   "cell_type": "code",
   "execution_count": null,
   "id": "b4051af6-4503-4c14-bc27-47aee652cd72",
   "metadata": {},
   "outputs": [],
   "source": [
    "stop"
   ]
  },
  {
   "cell_type": "code",
   "execution_count": null,
   "id": "58c27b20-41f3-4183-8aff-cc44098e865b",
   "metadata": {},
   "outputs": [],
   "source": [
    "def shift_cen(arr):    \n",
    "    return arr[:-1] + (arr[1]-arr[0])/2.\n",
    "\n",
    "def contour_plot(ax, xdata, ydata, limits, nbins=50, labels=[\"set1\",], colours=['k',], nlevel=4, zeropoint=2):\n",
    "    \n",
    "    #alpha = np.array([1,0.8,0.6,0.4,0.2]) # can't use alpha\n",
    "    lw = 1.5*np.arange(nlevel+1)/nlevel #[0.4, 0.8, 1.2, 1.6, 2]\n",
    "    if type(colours[0]) is str:\n",
    "        col = colours\n",
    "    elif type(colours[0]) is int:\n",
    "        col = np.array([BAND_COLORS['Y'], BAND_COLORS['g'], BAND_COLORS['r'], BAND_COLORS['u']])[colours]\n",
    "    else:\n",
    "        col = [BAND_COLORS['Y'], BAND_COLORS['g'], BAND_COLORS['r'], BAND_COLORS['u']]\n",
    "    \n",
    "    n_sets = len(xdata)\n",
    "    if n_sets > 4:\n",
    "        print(\"Error: can't plot more than four contour sets. {} requested\".format(n_sets))\n",
    "        return ax,[0,1]*2\n",
    "        \n",
    "    # find the axis limits, etc. (if not None, we assume they're fine)\n",
    "    if limits is None:\n",
    "        # find the 98%ile in each axis\n",
    "        x_tmp = np.sort(np.hstack(xdata))\n",
    "        y_tmp = np.sort(np.hstack(ydata))\n",
    "\n",
    "        limits = [1.2*sorted(x_tmp)[int(0.01*len(x_tmp))]]\n",
    "        limits.append(1.2*sorted(x_tmp)[int(0.99*len(x_tmp))])\n",
    "        limits.append(1.2*sorted(y_tmp)[int(0.01*len(y_tmp))])\n",
    "        limits.append(1.2*sorted(y_tmp)[int(0.99*len(y_tmp))])\n",
    "            \n",
    "    # 2d hist\n",
    "    x_edges = limits[0] + (limits[1] - limits[0]) * np.arange(nbins+1) / nbins\n",
    "    y_edges = limits[2] + (limits[3] - limits[2]) * np.arange(nbins+1) / nbins\n",
    "\n",
    "    # plot each in turn\n",
    "    for i in range(n_sets):\n",
    "        z = np.histogram2d(xdata[i], ydata[i], bins=[x_edges, y_edges], density=True)\n",
    "        if i==0:\n",
    "            zmax = np.max(z[0])*0.98\n",
    "            \n",
    "        # contour levels\n",
    "        levels = 10.**((np.arange(nlevel+1) * (np.log10(zmax)+zeropoint) / nlevel) - zeropoint)\n",
    "        print(levels, np.log10(zmax), zmax, np.min(z[0]))\n",
    "\n",
    "        X, Y = np.meshgrid(shift_cen(x_edges), shift_cen(y_edges))\n",
    "\n",
    "        # plot\n",
    "        ax.contour(X, Y, z[0].T, levels=levels, colors=col[i], linewidths=lw)\n",
    "        \n",
    "        ax_ranges = [ax.get_xlim()[1]-ax.get_xlim()[0], ax.get_ylim()[1]-ax.get_ylim()[0]]    \n",
    "        ax.plot([ax.get_xlim()[1]+0.3*ax_ranges[0], ax.get_xlim()[1]+0.35*ax_ranges[0]], \n",
    "            [ax.get_ylim()[0]-0.3*ax_ranges[1], ax.get_ylim()[0]-0.3*ax_ranges[1]], label=labels[i], \n",
    "            color=col[i])\n",
    "\n",
    "    ax.legend() #fontsize=22,loc=2 \n",
    "    return ax, limits\n",
    "\n"
   ]
  },
  {
   "cell_type": "code",
   "execution_count": null,
   "id": "00f91ff3-5edd-4f4b-a051-f5d93ae6dd46",
   "metadata": {},
   "outputs": [],
   "source": [
    "cat = Table.read(\"Y3_deep_fields_DB_wKNN_cat_COSMOS_training_zm.fits\")\n",
    "print(len(cat))"
   ]
  },
  {
   "cell_type": "code",
   "execution_count": null,
   "id": "ef8b05cc-e94d-4b41-9286-a3058ca30e90",
   "metadata": {},
   "outputs": [],
   "source": [
    "# trim\n",
    "trim = np.where((cat['bdf_mag_dered_calib_i']<26.)&\n",
    "                (cat['photoz']>0.02)&\n",
    "                (cat['photoz']<7.)&\n",
    "                (cat['lp_mass_best']>5.5)&\n",
    "                (cat['lp_mass_best']<12.5)&\n",
    "                (cat['bdf_mag_dered_calib_Ks']>-99))[0]\n",
    "\n",
    "cat = cat[trim]\n",
    "print(len(cat))"
   ]
  },
  {
   "cell_type": "code",
   "execution_count": null,
   "id": "f60460c7-f7f0-4bbf-9dfa-7883c55bdd5b",
   "metadata": {},
   "outputs": [],
   "source": [
    "# shuffle\n",
    "shuffle = np.random.choice(np.arange(len(cat)), len(cat), replace=False)\n",
    "cat = cat[shuffle]"
   ]
  },
  {
   "cell_type": "code",
   "execution_count": null,
   "id": "abeb0d55-3a90-4d32-b237-88887dc0ae0e",
   "metadata": {},
   "outputs": [],
   "source": [
    "col_stem = 'bdf_flux_dered_calib_'\n",
    "\n",
    "bands = ['u', 'g', 'r', 'i', 'z', 'J', 'H', 'Ks']\n",
    "\n",
    "des_df_wav = np.array([3964.66514687, 4862.25686437, 6460.66067701, 7850.81307253,\n",
    "                    9199.25312957, 12555.24560401, 16497.51745108, 21577.4382854])\n"
   ]
  },
  {
   "cell_type": "code",
   "execution_count": null,
   "id": "a679f502-a75f-4411-ac48-a2935b49a107",
   "metadata": {},
   "outputs": [],
   "source": [
    "flux = np.array([cat[col_stem+b] for b in bands])\n",
    "zm = np.array([cat['photoz'], cat['lp_mass_best']])\n"
   ]
  },
  {
   "cell_type": "code",
   "execution_count": null,
   "id": "0d643612-fd09-4691-a326-e842977caafa",
   "metadata": {},
   "outputs": [],
   "source": [
    "flux.shape"
   ]
  },
  {
   "cell_type": "code",
   "execution_count": null,
   "id": "6d999722-95d5-4025-9a1c-42375dfd2405",
   "metadata": {},
   "outputs": [],
   "source": [
    "def luptitudes(f,b=10):\n",
    "    lupt = 2.5/np.log(10) * (np.arcsinh(f/(2*b)) + np.log(b))\n",
    "    return lupt\n",
    "\n",
    "lupt = luptitudes(flux)\n"
   ]
  },
  {
   "cell_type": "code",
   "execution_count": null,
   "id": "6dced82d-d468-44e6-8c4a-c6af588ca72d",
   "metadata": {},
   "outputs": [],
   "source": [
    "# # use lupticolurs instead, plus an amplitude\n",
    "# lupti_col = x_sim[:,:-1]-x_sim[:,1:]\n",
    "# # put amplitude (i-band) at the end\n",
    "# x_sim[:,-1] = x_sim[:,3]\n",
    "# # fill in the colours into the rest\n",
    "# x_sim[:,:-1] = lupti_col"
   ]
  },
  {
   "cell_type": "code",
   "execution_count": null,
   "id": "c608f38c-c8f7-4320-858e-36aec615ec15",
   "metadata": {},
   "outputs": [],
   "source": [
    "test_indx = int(0.8*len(cat))\n",
    "\n",
    "theta_train = zm[:,:test_indx].T\n",
    "x_train = lupt[:,:test_indx].T\n",
    "\n",
    "theta_test = zm[:,test_indx:].T\n",
    "x_test = lupt[:,test_indx:].T"
   ]
  },
  {
   "cell_type": "code",
   "execution_count": null,
   "id": "c1febac7-b977-43c7-a319-b3139aa39447",
   "metadata": {},
   "outputs": [],
   "source": [
    "fig = plt.figure(figsize=(8,6))\n",
    "ax = fig.add_subplot(111)\n",
    "ax.plot(theta_train[:,0], theta_train[:,1], '.', alpha=0.03)\n",
    "ax.set_xlabel(r'redshift')\n",
    "ax.set_ylabel(r'stellar mass')\n",
    "#fig.colorbar(s, label=r'sSFR')\n",
    "ax.set_xlim([0,6])\n",
    "ax.set_ylim([5,12])\n",
    "plt.show()"
   ]
  },
  {
   "cell_type": "code",
   "execution_count": null,
   "id": "d7b66cc5-1482-4da9-9349-0f49bde04484",
   "metadata": {},
   "outputs": [],
   "source": [
    "# convert the data to pytorch tensors, float32\n",
    "theta_trn_torch = torch.from_numpy(theta_train.astype(np.float32))\n",
    "x_trn_torch = torch.from_numpy(x_train.astype(np.float32))\n",
    "\n",
    "theta_tst_torch = torch.from_numpy(theta_test.astype(np.float32))\n",
    "x_tst_torch = torch.from_numpy(x_test.astype(np.float32))\n",
    "\n"
   ]
  },
  {
   "cell_type": "code",
   "execution_count": null,
   "id": "e441003c-7b8d-412d-b6d7-fe55e8dc61c8",
   "metadata": {},
   "outputs": [],
   "source": [
    "prior = utils.BoxUniform(low=torch.from_numpy(np.array([0.02, 5.5])), #, -1, -1])), \n",
    "                          high=torch.from_numpy(np.array([7, 12.5]))) #, 4, 4])))\n"
   ]
  },
  {
   "cell_type": "code",
   "execution_count": null,
   "id": "506fd065-4d0b-4d58-aa10-0f22930b884f",
   "metadata": {},
   "outputs": [],
   "source": []
  },
  {
   "cell_type": "code",
   "execution_count": null,
   "id": "bcbd155f-cd87-4d76-8bdb-47390cf8cb20",
   "metadata": {},
   "outputs": [],
   "source": []
  },
  {
   "cell_type": "code",
   "execution_count": null,
   "id": "a5b902b5-e036-4fdf-9409-1bc1fc169e3a",
   "metadata": {},
   "outputs": [],
   "source": []
  },
  {
   "cell_type": "code",
   "execution_count": null,
   "id": "ed8046b0-6870-42e8-a341-cb4473829046",
   "metadata": {},
   "outputs": [],
   "source": []
  },
  {
   "cell_type": "code",
   "execution_count": null,
   "id": "64605bd2-b543-436a-93b2-dd6d00b1858c",
   "metadata": {},
   "outputs": [],
   "source": []
  },
  {
   "cell_type": "code",
   "execution_count": null,
   "id": "fa77aed9-b70c-4f2d-89fc-d940e2b481e3",
   "metadata": {},
   "outputs": [],
   "source": []
  },
  {
   "cell_type": "code",
   "execution_count": null,
   "id": "f6d60e70-1836-4878-bde5-f29f3e1dbbd8",
   "metadata": {},
   "outputs": [],
   "source": [
    "stop"
   ]
  },
  {
   "cell_type": "code",
   "execution_count": null,
   "id": "c1800e35-0adf-4337-8744-4af560084365",
   "metadata": {},
   "outputs": [],
   "source": [
    "# build the density\n",
    "inference = SNPE(prior=prior) # z_score_x='none' (where does this thing go?) \n",
    "inference = inference.append_simulations(theta_trn_torch, x_trn_torch)\n",
    "density_estimator = inference.train()\n",
    "#density_estimator = "
   ]
  },
  {
   "cell_type": "code",
   "execution_count": null,
   "id": "cdc575d6-efa7-44ef-a29e-ad583a6cc279",
   "metadata": {},
   "outputs": [],
   "source": [
    "posterior = inference.build_posterior(density_estimator)\n"
   ]
  },
  {
   "cell_type": "code",
   "execution_count": null,
   "id": "b22adac0-ad80-4b30-8b6f-e03f81807fc2",
   "metadata": {},
   "outputs": [],
   "source": [
    "#ob = 158\n",
    "#ob = 200\n",
    "#ob = 201\n",
    "#ob = 202\n",
    "#ob = 206\n",
    "ob = 207\n",
    "print(x_test[ob,:], theta_test[ob,:])\n",
    "\n",
    "#ob_x = np.array([-2.87335175, -2.25362532, -0.61331612, -0.41159564, -0.63459093, -0.63265751, -0.54153502, 9.58833485])\n",
    "#ob_x = torch.from_numpy(ob_x.astype(np.float32))"
   ]
  },
  {
   "cell_type": "code",
   "execution_count": null,
   "id": "2cd4d625-3eae-42ea-bc7c-548f941be669",
   "metadata": {},
   "outputs": [],
   "source": [
    "posterior_samples = posterior.sample((10000,), x=x_tst_torch[ob,:])\n",
    "#posterior_samples = posterior.sample((100,), x=ob_x)\n",
    "#posterior_samples = posterior((100,), x=ob_x, sample_with_mcmc=True)\n",
    "\n",
    "# plot posterior samples\n",
    "_ = analysis.pairplot(\n",
    "    posterior_samples, figsize=(7, 7)\n",
    ")\n",
    "# limits=[[-2, 2], [-2, 2], [-2, 2]]\n",
    "plt.show()"
   ]
  },
  {
   "cell_type": "code",
   "execution_count": null,
   "id": "65cf09db-477c-4f18-89cb-9348608f28cc",
   "metadata": {},
   "outputs": [],
   "source": [
    "\n",
    "fig = plt.figure(figsize=(8,6))\n",
    "ax = fig.add_subplot(111)\n",
    "ax.plot(posterior_samples[:,0], posterior_samples[:,1], '.', alpha=0.03)\n",
    "ax.set_xlabel(r'redshift')\n",
    "ax.set_ylabel(r'stellar mass')\n",
    "#fig.colorbar(s, label=r'sSFR')\n",
    "#ax.set_xlim([0,4])\n",
    "plt.show()"
   ]
  },
  {
   "cell_type": "code",
   "execution_count": null,
   "id": "be632eec-10ae-484f-a894-8ce7ca5a7213",
   "metadata": {},
   "outputs": [],
   "source": [
    "import matplotlib.colors as colors\n",
    "\n",
    "ob = 208\n",
    "print(x_test[ob,:], theta_test[ob,:])\n",
    "posterior_samples = posterior.sample((10000,), x=x_tst_torch[ob,:])\n",
    "\n",
    "posterior.set_default_x(x_tst_torch[ob,:])\n",
    "mode_val = posterior.map(num_iter=100, num_init_samples=10) # balanace of accruacy and speed\n",
    "print(mode_val)\n",
    "\n",
    "# get the limits as the central 99%ile\n",
    "z_tmp = np.sort(posterior_samples[:,0].numpy())\n",
    "m_tmp = np.sort(posterior_samples[:,1].numpy())\n",
    "z_min = z_tmp[int(0.0005*len(z_tmp))]\n",
    "z_max = z_tmp[int(0.9995*len(z_tmp))]\n",
    "m_min = m_tmp[int(0.0005*len(m_tmp))]\n",
    "m_max = m_tmp[int(0.9995*len(m_tmp))]\n",
    "print(z_min, z_max, m_min, m_max)\n",
    "\n",
    "fig = plt.figure(figsize=(6,5))\n",
    "ax = fig.add_subplot(111)\n",
    "ax.hexbin(posterior_samples[:,0], posterior_samples[:,1],\n",
    "          bins=30, norm=colors.LogNorm(vmin=0.9,vmax=25), extent=(z_min,z_max,m_min,m_max))\n",
    "ax.scatter(mode_val.numpy()[0][0],mode_val.numpy()[0][1], marker='*', s=200, color='gold', edgecolors='purple', label='MAP')\n",
    "contour_plot(ax, [posterior_samples[:,0],], [posterior_samples[:,1],],\n",
    "             (z_min,z_max,m_min,m_max), nbins=30, labels=['SBI posterior',], colours=['k',], nlevel=5, zeropoint=0.2)\n",
    "ax.set_xlabel(r'redshift')\n",
    "ax.set_ylabel(r'stellar mass')\n",
    "ax.set_xlim([z_min,z_max])\n",
    "ax.set_ylim([m_min,m_max])\n",
    "plt.legend(loc=4)\n",
    "plt.show()\n"
   ]
  },
  {
   "cell_type": "code",
   "execution_count": null,
   "id": "466b288d-cac5-4dc0-8497-eecc9b32c397",
   "metadata": {},
   "outputs": [],
   "source": [
    "posterior.set_default_x(x_tst_torch[ob,:])\n",
    "mode_val = posterior.map(num_iter=100, num_init_samples=10) # balanace of accruacy and speed\n",
    "print(mode_val)"
   ]
  },
  {
   "cell_type": "code",
   "execution_count": null,
   "id": "f3c70f1e-6b12-40a0-bcf9-0a6fb57b164e",
   "metadata": {},
   "outputs": [],
   "source": [
    "# save the model\n",
    "import pickle\n",
    "with open(\"SBI_DES_DF_posterior.pkl\", \"wb\") as handle:\n",
    "    pickle.dump(posterior, handle)"
   ]
  },
  {
   "cell_type": "code",
   "execution_count": null,
   "id": "0c14e566-7b55-4f1d-bee1-67846ab2f965",
   "metadata": {
    "scrolled": true
   },
   "outputs": [],
   "source": [
    "mode_vals = np.zeros((x_test.shape[0],2))\n",
    "for ob in np.arange(x_test.shape[0]):\n",
    "    posterior.set_default_x(x_tst_torch[ob,:])\n",
    "    mode_vals[ob,:] = posterior.map(num_iter=100, num_init_samples=10).numpy()\n",
    "\n",
    "\n"
   ]
  },
  {
   "cell_type": "code",
   "execution_count": null,
   "id": "2c66c9b9-7e04-427c-abc9-365b6d7df790",
   "metadata": {},
   "outputs": [],
   "source": [
    "mode_val.numpy()"
   ]
  },
  {
   "cell_type": "code",
   "execution_count": null,
   "id": "bd679e38-732a-47b2-a39d-e6303f911ae1",
   "metadata": {},
   "outputs": [],
   "source": [
    "import matplotlib.colors as colors\n",
    "\n",
    "\n",
    "fig = plt.figure(figsize=(6.5,6))\n",
    "ax = fig.add_subplot(111)\n",
    "ax.hexbin(theta_test[:,0], mode_vals[:,0], extent=(0,5,0,5), bins=50,\n",
    "         norm=colors.LogNorm(vmin=0.8, vmax=50))\n",
    "ax.set_xlabel(r'true redshift (COSMOS2020)')\n",
    "ax.set_ylabel(r'photo-z')\n",
    "#fig.colorbar(s, label=r'sSFR')\n",
    "ax.set_xlim([0,5])\n",
    "ax.set_ylim([0,5])\n",
    "plt.show()"
   ]
  },
  {
   "cell_type": "code",
   "execution_count": null,
   "id": "7abba890-9ee7-4892-b689-56d657362de6",
   "metadata": {},
   "outputs": [],
   "source": [
    "fig = plt.figure(figsize=(10,5.3))\n",
    "ax = fig.add_subplot(121)\n",
    "ax.hexbin(theta_test[:,0], mode_vals[:,0], extent=(0,1.6,0,1.6), bins=50,\n",
    "         norm=colors.LogNorm(vmin=0.8, vmax=50))\n",
    "ax.plot([0,1.6],[0,1.6],'-',c='r')\n",
    "ax.plot([0,1.6],[0+0.15,1.6+(0.15*2.6)],'--',c='r', alpha=0.4)\n",
    "ax.plot([0,1.6],[0-0.15,1.6-(0.15*2.6)],'--',c='r', alpha=0.4)\n",
    "ax.set_xlabel(r'z-spec')\n",
    "ax.set_ylabel(r'z-phot')\n",
    "ax.set_xlim([0,1.6])\n",
    "ax.set_ylim([0,1.6])\n",
    "ax = fig.add_subplot(122)\n",
    "ax.hexbin(theta_test[:,0], mode_vals[:,0], extent=(0,6,0,6), bins=50,\n",
    "         norm=colors.LogNorm(vmin=1, vmax=50))\n",
    "ax.plot([0,6],[0,6],'-',c='r')\n",
    "ax.plot([0,6],[0+0.15,6+(0.15*7)],'--',c='r', alpha=0.4)\n",
    "ax.plot([0,6],[0-0.15,6-(0.15*7)],'--',c='r', alpha=0.4)\n",
    "ax.set_xlabel(r'z-spec')\n",
    "ax.set_ylabel(r'z-phot')\n",
    "ax.set_xlim([0,6])\n",
    "ax.set_ylim([0,6])\n",
    "#plt.savefig(\"new_PP_median_z.png\")\n",
    "plt.tight_layout()\n",
    "plt.show()"
   ]
  },
  {
   "cell_type": "code",
   "execution_count": null,
   "id": "0eb5bc36-5d8f-4127-b1bf-2842bc752a4b",
   "metadata": {},
   "outputs": [],
   "source": [
    "def compute_stats(zspec, zphot, pdz=None):\n",
    "    dz = (zspec-zphot)/(1+zspec)\n",
    "    not_out = (np.abs(dz)<0.15)\n",
    "    print(\"N spec, {}\".format(len(zspec)))\n",
    "    print(\"Outlier fraction, {0:.4f}%\".format(100*len(dz[np.abs(dz)>0.15])/len(zspec)))\n",
    "    print(\"NMAD, {0:.4f}\".format(1.4826*np.median(np.abs(dz-np.median(dz)))))\n",
    "    print(\"mean (normalised) bias, {0:.4f}\".format(np.mean(dz)))\n",
    "    sig68 = np.percentile(dz,(16,84))\n",
    "    print(\"Sigma-68, {0:.4f}\".format((sig68[1]-sig68[0])/2))\n",
    "    print(\"Outlier removed stats,\")\n",
    "    print(\"NMAD, {0:.4f}\".format(1.4826*np.median(np.abs(dz-np.median(dz))[not_out])))\n",
    "    print(\"mean (normalised) bias, {0:.4f}\".format(np.mean(dz[not_out])))\n",
    "    sig68 = np.percentile(dz[not_out],(16,84))\n",
    "    print(\"Sigma-68, {0:.4f}\".format((sig68[1]-sig68[0])/2))\n",
    "\n",
    "compute_stats(theta_test[:,0], mode_vals[:,0])"
   ]
  },
  {
   "cell_type": "code",
   "execution_count": null,
   "id": "c838e764-af42-4b77-8b28-d9e2eee888c8",
   "metadata": {},
   "outputs": [],
   "source": [
    "bright = np.where((30-2.5*np.log10(flux[3,test_indx:])<25.))[0]"
   ]
  },
  {
   "cell_type": "code",
   "execution_count": null,
   "id": "782030c8-89f6-42fa-8936-1d2e1e817075",
   "metadata": {},
   "outputs": [],
   "source": [
    "fig = plt.figure(figsize=(10,5.3))\n",
    "ax = fig.add_subplot(121)\n",
    "ax.hexbin(theta_test[bright,0], mode_vals[bright,0], extent=(0,1.6,0,1.6), bins=50,\n",
    "         norm=colors.LogNorm(vmin=0.8, vmax=50))\n",
    "ax.plot([0,1.6],[0,1.6],'-',c='r')\n",
    "ax.plot([0,1.6],[0+0.15,1.6+(0.15*2.6)],'--',c='r', alpha=0.4)\n",
    "ax.plot([0,1.6],[0-0.15,1.6-(0.15*2.6)],'--',c='r', alpha=0.4)\n",
    "ax.set_xlabel(r'z-spec')\n",
    "ax.set_ylabel(r'z-phot')\n",
    "ax.set_xlim([0,1.6])\n",
    "ax.set_ylim([0,1.6])\n",
    "ax = fig.add_subplot(122)\n",
    "ax.hexbin(theta_test[bright,0], mode_vals[bright,0], extent=(0,6,0,6), bins=50,\n",
    "         norm=colors.LogNorm(vmin=1, vmax=50))\n",
    "ax.plot([0,6],[0,6],'-',c='r')\n",
    "ax.plot([0,6],[0+0.15,6+(0.15*7)],'--',c='r', alpha=0.4)\n",
    "ax.plot([0,6],[0-0.15,6-(0.15*7)],'--',c='r', alpha=0.4)\n",
    "ax.set_xlabel(r'z-spec')\n",
    "ax.set_ylabel(r'z-phot')\n",
    "ax.set_xlim([0,6])\n",
    "ax.set_ylim([0,6])\n",
    "#plt.savefig(\"new_PP_median_z.png\")\n",
    "plt.tight_layout()\n",
    "plt.show()"
   ]
  },
  {
   "cell_type": "code",
   "execution_count": null,
   "id": "66b6d658-2297-4b46-8f0c-d4684d1b2018",
   "metadata": {},
   "outputs": [],
   "source": [
    "compute_stats(theta_test[bright,0], mode_vals[bright,0])"
   ]
  },
  {
   "cell_type": "code",
   "execution_count": null,
   "id": "2cb32d5e-480e-403a-8320-0268fde818b5",
   "metadata": {},
   "outputs": [],
   "source": [
    "fig = plt.figure(figsize=(8,6))\n",
    "ax = fig.add_subplot(111)\n",
    "ax.hexbin(mode_vals[bright,0], mode_vals[bright,1], bins=50)\n",
    "ax.set_xlabel(r'redshift')\n",
    "ax.set_ylabel(r'stellar mass')\n",
    "#fig.colorbar(s, label=r'sSFR')\n",
    "ax.set_xlim([0,6])\n",
    "ax.set_ylim([6,12])\n",
    "plt.show()"
   ]
  },
  {
   "cell_type": "code",
   "execution_count": null,
   "id": "3c9827c4-88f6-44c0-b9a3-bc7220687533",
   "metadata": {},
   "outputs": [],
   "source": [
    "mode_vals[23,0]"
   ]
  },
  {
   "cell_type": "code",
   "execution_count": null,
   "id": "b448fb69-6493-494d-b8c6-de4469dfb97f",
   "metadata": {},
   "outputs": [],
   "source": []
  },
  {
   "cell_type": "code",
   "execution_count": null,
   "id": "9c9c1085-8807-49c9-979a-8d311e091ded",
   "metadata": {},
   "outputs": [],
   "source": []
  },
  {
   "cell_type": "code",
   "execution_count": null,
   "id": "7aef5126-9b9a-4a3d-a160-12d29dbf6821",
   "metadata": {},
   "outputs": [],
   "source": [
    "stop_here"
   ]
  },
  {
   "cell_type": "code",
   "execution_count": null,
   "id": "d6414307-c750-450d-be95-5f854127376c",
   "metadata": {},
   "outputs": [],
   "source": [
    "#tensor([[2.5784, 9.3111]])"
   ]
  },
  {
   "cell_type": "code",
   "execution_count": null,
   "id": "f7d7d90a-d007-47a9-8fba-53a633c62758",
   "metadata": {},
   "outputs": [],
   "source": []
  },
  {
   "cell_type": "code",
   "execution_count": null,
   "id": "756f5966-5b88-47ec-a773-7b3f906178d5",
   "metadata": {},
   "outputs": [],
   "source": []
  },
  {
   "cell_type": "code",
   "execution_count": null,
   "id": "9f7e8558-b4e2-44c0-96ef-e81f4afcb998",
   "metadata": {},
   "outputs": [],
   "source": []
  },
  {
   "cell_type": "code",
   "execution_count": null,
   "id": "d1a35467-dc20-4f6e-827c-b0dd6949f06e",
   "metadata": {},
   "outputs": [],
   "source": []
  },
  {
   "cell_type": "code",
   "execution_count": null,
   "id": "e481e584-9645-46de-88f6-27112f2e819a",
   "metadata": {},
   "outputs": [],
   "source": []
  },
  {
   "cell_type": "code",
   "execution_count": null,
   "id": "3811c587-79be-45dd-9258-7acbcc5f5333",
   "metadata": {},
   "outputs": [],
   "source": [
    "# load data - might need to scale the data a bit, with lupts etc.\n",
    "theta = np.load(\"galaxy_pp.npz\")['arr_0']\n",
    "x_sim = np.load(\"photometry_obs.npz\")['arr_0']"
   ]
  },
  {
   "cell_type": "code",
   "execution_count": null,
   "id": "01c67a37-60b0-4d8b-94c1-1484b25d5bad",
   "metadata": {},
   "outputs": [],
   "source": [
    "# let's cut at i~26\n",
    "icut = (30-2.5*np.log10(x_sim[:,3])<26)\n",
    "\n",
    "theta = theta[icut,:]\n",
    "x_sim = x_sim[icut,:]"
   ]
  },
  {
   "cell_type": "code",
   "execution_count": null,
   "id": "a18959dd-30f4-4a4a-af44-31c05a84564f",
   "metadata": {},
   "outputs": [],
   "source": [
    "# drop the Y-bands for Y3 DF\n",
    "keep_bands = np.array([0, 1, 2, 3, 4, 7, 8, 9])\n",
    "x_sim = x_sim[:,keep_bands]"
   ]
  },
  {
   "cell_type": "code",
   "execution_count": null,
   "id": "d62b6f3c-9ec6-46fc-af62-bfbed6666755",
   "metadata": {},
   "outputs": [],
   "source": [
    "def lupt(im, b=2.5):\n",
    "    lupt_im = 2.5/np.log(10) * (np.arcsinh(im/(2*b)) + np.log(b))\n",
    "    return lupt_im\n",
    "\n",
    "# transform fluxes to lupts\n",
    "x_sim = lupt(x_sim)"
   ]
  },
  {
   "cell_type": "code",
   "execution_count": null,
   "id": "5c3f7a29-a230-4b69-9fb5-7fb7a2472014",
   "metadata": {},
   "outputs": [],
   "source": [
    "# use lupticolurs instead, plus an amplitude\n",
    "lupti_col = x_sim[:,:-1]-x_sim[:,1:]\n",
    "# put amplitude (i-band) at the end\n",
    "x_sim[:,-1] = x_sim[:,3]\n",
    "# fill in the colours into the rest\n",
    "x_sim[:,:-1] = lupti_col"
   ]
  },
  {
   "cell_type": "code",
   "execution_count": null,
   "id": "57df9bf5-db05-4e28-9839-502ce651801e",
   "metadata": {},
   "outputs": [],
   "source": [
    "\n",
    "fig = plt.figure(figsize=(8,6))\n",
    "ax = fig.add_subplot(111)\n",
    "ax.plot(theta[:,0], theta[:,1], '.', alpha=0.03)\n",
    "ax.set_xlabel(r'redshift')\n",
    "ax.set_ylabel(r'stellar mass')\n",
    "#fig.colorbar(s, label=r'sSFR')\n",
    "#ax.set_xlim([0,4])\n",
    "plt.show()"
   ]
  },
  {
   "cell_type": "code",
   "execution_count": null,
   "id": "4a37bab3-7155-4736-a17c-c23ee3350f6c",
   "metadata": {},
   "outputs": [],
   "source": [
    "# random order\n",
    "reorder = np.random.choice(np.arange(theta.shape[0]), theta.shape[0], replace=False)\n",
    "\n",
    "theta = theta[reorder,:]\n",
    "x_sim = x_sim[reorder,:]"
   ]
  },
  {
   "cell_type": "code",
   "execution_count": null,
   "id": "5eb94841-aacd-4853-8b84-d618f49642e0",
   "metadata": {},
   "outputs": [],
   "source": [
    "subsamp = 1\n",
    "if subsamp > 1:\n",
    "    theta = theta[::subsamp,:]\n",
    "    x_sim = x_sim[::subsamp,:]"
   ]
  },
  {
   "cell_type": "code",
   "execution_count": null,
   "id": "e90af8d1-605d-4c98-b031-e7238f148eb4",
   "metadata": {},
   "outputs": [],
   "source": [
    "# focus on redshift, mass, sfr, mean age and UVJ, Av\n",
    "#pp_select = np.array([0,1,2,3,4,5,9])\n",
    "pp_select = np.array([0,1,4,5])\n",
    "theta = theta[:,pp_select]"
   ]
  },
  {
   "cell_type": "code",
   "execution_count": null,
   "id": "4c3e325d-d0a1-4b93-9c7e-9ec13eb07947",
   "metadata": {},
   "outputs": [],
   "source": [
    "# change sfr, mean age to log values\n",
    "#theta[:,2:4] = np.log10(theta[:,2:4])"
   ]
  },
  {
   "cell_type": "code",
   "execution_count": null,
   "id": "2ed873a1-b820-41f2-8a11-90a977d0e30f",
   "metadata": {},
   "outputs": [],
   "source": [
    "theta"
   ]
  },
  {
   "cell_type": "code",
   "execution_count": null,
   "id": "60a79efc-b9a6-4d8c-bc1f-a70c3a22b2fb",
   "metadata": {},
   "outputs": [],
   "source": [
    "good = np.isfinite(np.sum(theta, axis=1))\n",
    "\n",
    "theta = theta[good,:]\n",
    "x_sim = x_sim[good,:]"
   ]
  },
  {
   "cell_type": "code",
   "execution_count": null,
   "id": "15e89d23-dc4d-4a08-9747-18fcf510f672",
   "metadata": {},
   "outputs": [],
   "source": [
    "fig = plt.figure(figsize=(8,6))\n",
    "ax = fig.add_subplot(111)\n",
    "ax.plot(theta[:,0], theta[:,1], '.', alpha=0.03)\n",
    "ax.set_xlabel(r'redshift')\n",
    "ax.set_ylabel(r'stellar mass')\n",
    "#fig.colorbar(s, label=r'sSFR')\n",
    "#ax.set_xlim([0,4])\n",
    "plt.show()"
   ]
  },
  {
   "cell_type": "code",
   "execution_count": null,
   "id": "1f96b0bf-74a8-409e-a484-e1f86fe090f3",
   "metadata": {},
   "outputs": [],
   "source": [
    "plt.hist(theta[:,1], bins=100)"
   ]
  },
  {
   "cell_type": "code",
   "execution_count": null,
   "id": "258c1723-ee5b-4f2b-a0d8-5124c44a9f3a",
   "metadata": {},
   "outputs": [],
   "source": []
  },
  {
   "cell_type": "code",
   "execution_count": null,
   "id": "3807d7d4-3042-4257-8810-dc39e1282237",
   "metadata": {},
   "outputs": [],
   "source": [
    "x_sim"
   ]
  },
  {
   "cell_type": "code",
   "execution_count": null,
   "id": "d1089c62-43c3-4477-bfdd-59fb17465b67",
   "metadata": {},
   "outputs": [],
   "source": [
    "# convert the data to pytorch tensors, float32\n",
    "theta_torch = torch.from_numpy(theta.astype(np.float32))\n",
    "x_torch = torch.from_numpy(x_sim.astype(np.float32))"
   ]
  },
  {
   "cell_type": "code",
   "execution_count": null,
   "id": "7079b760-f2ee-44c2-af3c-fced395e1841",
   "metadata": {},
   "outputs": [],
   "source": [
    "x_sim.shape"
   ]
  },
  {
   "cell_type": "code",
   "execution_count": null,
   "id": "a9d1709a-2461-4a43-b80c-bf56a2cb2a19",
   "metadata": {},
   "outputs": [],
   "source": [
    "theta_torch"
   ]
  },
  {
   "cell_type": "code",
   "execution_count": null,
   "id": "01f6be75-3bd1-4e28-a8a2-f70d3e7c0f6a",
   "metadata": {},
   "outputs": [],
   "source": [
    "print(x_sim[2,:])\n",
    "print(theta[2,:])"
   ]
  },
  {
   "cell_type": "code",
   "execution_count": null,
   "id": "a770d6a9-6c84-440a-a227-aac0b08695b5",
   "metadata": {},
   "outputs": [],
   "source": [
    "x_torch"
   ]
  },
  {
   "cell_type": "code",
   "execution_count": null,
   "id": "c4eaa7ad-2f8f-4261-b260-0c1eff0b822f",
   "metadata": {},
   "outputs": [],
   "source": [
    "# prior = utils.BoxUniform(low=torch.from_numpy(np.array([0.02, 5.5, -5, -2, -1,-1,0])), \n",
    "#                           high=torch.from_numpy(np.array([7, 12.5, 3, 1.3, 4,4,3])))\n",
    "prior = utils.BoxUniform(low=torch.from_numpy(np.array([0.02, 5.5, -1, -1])), \n",
    "                          high=torch.from_numpy(np.array([7, 12.5, 4, 4])))\n"
   ]
  },
  {
   "cell_type": "code",
   "execution_count": null,
   "id": "724bd8af-bd4a-4530-acfa-d0d1a55f41da",
   "metadata": {},
   "outputs": [],
   "source": [
    "# build the density\n",
    "inference = SNPE(prior=prior) # z_score_x='none' (where does this thing go?) \n",
    "inference = inference.append_simulations(theta_torch, x_torch)\n",
    "density_estimator = inference.train()\n",
    "#density_estimator = "
   ]
  },
  {
   "cell_type": "code",
   "execution_count": null,
   "id": "40eb1ee9-da7f-4d83-b1c9-63973d13ca42",
   "metadata": {},
   "outputs": [],
   "source": [
    "posterior = inference.build_posterior(density_estimator)\n"
   ]
  },
  {
   "cell_type": "code",
   "execution_count": null,
   "id": "215784b7-7a29-494f-b6fb-8949fcfe9a1f",
   "metadata": {},
   "outputs": [],
   "source": [
    "# example object\n",
    "#ob_x = np.array([228.675, 234.417, 276.868, 486.681, 649.263, 536.633, 583.217, 654.117])\n",
    "#ob_x = np.array([188.26, 222.95, 265.76, 289.00, 329.41, 732.76, 874.98, 1079.78])\n",
    "#ob_x = np.array([100,150,500,600,1000,1200,1300,1500])\n",
    "#ob_x = np.array([1453., 2264., 6198., 9067., 11586., 17695., 26503., 34032.])\n",
    "#ob_x = np.array([33.3, 87.3, 278., 450., 552.1, 964., 1334.6, 1646.5])\n",
    "#ob_x = np.array([-19.45, 65.88, 283.07, 633.95, 855.48, 1358.57, 1820.13, 2161.53])\n",
    "\n",
    "des_df_wav = np.array([3964.66514687, 4862.25686437, 6460.66067701, 7850.81307253,\n",
    "                    9199.25312957, 12555.24560401, 16497.51745108, 21577.4382854])\n",
    "\n",
    "print(30-2.5*np.log10(ob_x))"
   ]
  },
  {
   "cell_type": "code",
   "execution_count": null,
   "id": "0ff6b861-d72b-485a-beb6-2114f5a088d3",
   "metadata": {},
   "outputs": [],
   "source": [
    "# plot SED, so we know what to expect\n",
    "fig = plt.figure(figsize=(10,6))\n",
    "ax = fig.add_subplot(111)\n",
    "ax.plot(des_df_wav, ob_x/des_df_wav, 'o', alpha=0.6)\n",
    "ax.set_xlabel(r'wavelen')\n",
    "ax.set_ylabel(r'$\\nu$f$_{\\nu}$')\n",
    "#fig.colorbar(s, label=r'sSFR')\n",
    "#ax.set_xlim([0,4])\n",
    "plt.show()\n",
    "\n",
    "fig = plt.figure(figsize=(10,6))\n",
    "ax = fig.add_subplot(111)\n",
    "ax.plot(des_df_wav, ob_x, 'o', alpha=0.6)\n",
    "ax.set_xlabel(r'wavelen')\n",
    "ax.set_ylabel(r'f$_{\\nu}$')\n",
    "#fig.colorbar(s, label=r'sSFR')\n",
    "#ax.set_xlim([0,4])\n",
    "plt.show()"
   ]
  },
  {
   "cell_type": "code",
   "execution_count": null,
   "id": "9ed56c8d-db33-4223-b328-512864d70e76",
   "metadata": {},
   "outputs": [],
   "source": [
    "# use lupticolurs instead, plus an amplitude\n",
    "ob_x = lupt(ob_x)\n",
    "print(ob_x)\n",
    "lupti_col = ob_x[:-1]-ob_x[1:]\n",
    "# put amplitude (i-band) at the end\n",
    "ob_x[-1] = ob_x[3]\n",
    "# fill in the colours into the rest\n",
    "ob_x[:-1] = lupti_col\n",
    "print(ob_x)"
   ]
  },
  {
   "cell_type": "code",
   "execution_count": null,
   "id": "1e1961a1-d411-4953-9979-85533211918f",
   "metadata": {},
   "outputs": [],
   "source": [
    "# plot SED, so we know what to expect\n",
    "fig = plt.figure(figsize=(10,6))\n",
    "ax = fig.add_subplot(111)\n",
    "ax.plot(des_df_wav[:-1], ob_x[:-1], 'o', alpha=0.6)\n",
    "ax.set_xlabel(r'wavelen')\n",
    "ax.set_ylabel(r'Lupti-colour')\n",
    "#fig.colorbar(s, label=r'sSFR')\n",
    "#ax.set_xlim([0,4])\n",
    "plt.show()"
   ]
  },
  {
   "cell_type": "code",
   "execution_count": null,
   "id": "cdcd6897-67ff-4b89-aaec-d167c10d9467",
   "metadata": {},
   "outputs": [],
   "source": [
    "#ob_x = np.array([-1.10344085, -0.30636154, -0.07680047, -0.0337393, -0.41660926, -0.30227358, 0.06104289, 5.59999046])\n",
    "#ob_x = np.array([-6.56646888, -1.62230179, -0.25945062, -0.15442817, -0.2822111, -0.46721021, -0.40470592, 8.42329511])\n",
    "ob_x = np.array([-2.87335175, -2.25362532, -0.61331612, -0.41159564, -0.63459093, -0.63265751, -0.54153502, 9.58833485])\n",
    "\n",
    "ob_x = torch.from_numpy(ob_x.astype(np.float32))"
   ]
  },
  {
   "cell_type": "code",
   "execution_count": null,
   "id": "e1f59e9b-b34e-4d95-b386-364337b3fc8d",
   "metadata": {},
   "outputs": [],
   "source": [
    "# doesn't work, the warning in the following cell is stupid\n",
    "#posterior = inference.build_posterior(sample_with='mcmc')"
   ]
  },
  {
   "cell_type": "code",
   "execution_count": null,
   "id": "de4873b5-b5f3-4dea-a485-dc08951f0e2c",
   "metadata": {},
   "outputs": [],
   "source": [
    "ob_x"
   ]
  },
  {
   "cell_type": "code",
   "execution_count": null,
   "id": "fda56640-fe4a-4ec3-b640-fbdb2f47c902",
   "metadata": {},
   "outputs": [],
   "source": [
    "posterior_samples = posterior.sample((10000,), x=ob_x)\n",
    "#posterior_samples = posterior.sample((100,), x=ob_x)\n",
    "#posterior_samples = posterior((100,), x=ob_x, sample_with_mcmc=True)\n",
    "\n",
    "# plot posterior samples\n",
    "_ = analysis.pairplot(\n",
    "    posterior_samples, figsize=(13, 13)\n",
    ")\n",
    "# limits=[[-2, 2], [-2, 2], [-2, 2]]\n",
    "plt.show()\n",
    "\n",
    "# [2.87224758 9.146033   0.01837601 0.39677599]\n",
    "# [ 3.63128284 11.19292029  0.45862937  0.86052902]\n",
    "# [ 3.912932   12.215409    0.61148523  1.38010781]"
   ]
  },
  {
   "cell_type": "code",
   "execution_count": null,
   "id": "005d9e32-698e-47fd-a26e-83830ca3cfea",
   "metadata": {},
   "outputs": [],
   "source": [
    "posterior_samples"
   ]
  },
  {
   "cell_type": "code",
   "execution_count": null,
   "id": "1ef00c64-3215-44af-bd32-7e1a4f6d7f20",
   "metadata": {},
   "outputs": [],
   "source": [
    "fig = plt.figure(figsize=(8,6))\n",
    "ax = fig.add_subplot(111)\n",
    "ax.plot(posterior_samples[:,0], posterior_samples[:,1], '.', alpha=0.03)\n",
    "ax.set_xlabel(r'redshift')\n",
    "ax.set_ylabel(r'stellar mass')\n",
    "#fig.colorbar(s, label=r'sSFR')\n",
    "#ax.set_xlim([0,4])\n",
    "plt.show()"
   ]
  },
  {
   "cell_type": "code",
   "execution_count": null,
   "id": "f5315f92-5759-49ea-9b30-1ac83cc12fb1",
   "metadata": {},
   "outputs": [],
   "source": [
    "fig = plt.figure(figsize=(10,9))\n",
    "ax = fig.add_subplot(111)\n",
    "#ax.plot(posterior_samples[:,0], posterior_samples[:,1], '.', alpha=0.03)\n",
    "ax.hexbin(posterior_samples[:,0], posterior_samples[:,1], extent=(0,1.5,8,11.5)) #, alpha=0.03)\n",
    "ax.set_xlabel(r'redshift')\n",
    "ax.set_ylabel(r'stellar mass')\n",
    "#fig.colorbar(s, label=r'sSFR')\n",
    "#ax.set_xlim([0,4])\n",
    "#plt.savefig(\"SBI_example.png\")\n",
    "plt.show()"
   ]
  },
  {
   "cell_type": "code",
   "execution_count": null,
   "id": "96a4beed-a093-47ce-b2b4-a8cbe54c0047",
   "metadata": {},
   "outputs": [],
   "source": [
    "fig = plt.figure(figsize=(10,6))\n",
    "ax = fig.add_subplot(111)\n",
    "ax.hist(posterior_samples[:,0], bins=np.arange(400)/100, histtype='step')\n",
    "ax.set_xlabel(r'redshift')\n",
    "ax.set_ylabel(r'p(z)')\n",
    "#fig.colorbar(s, label=r'sSFR')\n",
    "ax.set_xlim([0,4])\n",
    "plt.show()\n",
    "\n",
    "print(np.percentile(posterior_samples[:,0], (16, 50, 84)))"
   ]
  },
  {
   "cell_type": "code",
   "execution_count": null,
   "id": "5c5e72b1-ac95-4362-85a2-851c3a9ac9d5",
   "metadata": {},
   "outputs": [],
   "source": [
    "fig = plt.figure(figsize=(7,6))\n",
    "ax = fig.add_subplot(111)\n",
    "ax.hexbin(theta[:,3], theta[:,2], extent=(-1,4,-1,4), bins='log')\n",
    "# because I accidentally logged the UVJ, I need to raise to power here.\n",
    "ax.scatter(np.mean(posterior_samples[:,3].numpy()), \n",
    "           np.mean(posterior_samples[:,2].numpy()), \n",
    "           marker='*', s=400, alpha=0.8, c='red')\n",
    "ax.set_xlabel(r'V - J $_{{\\rm rest}}$')\n",
    "ax.set_ylabel(r'U - V $_{{\\rm rest}}$')\n",
    "#ax.set_xlim([-1.4,0.4])\n",
    "#ax.set_ylim([-1,0.5])\n",
    "\n",
    "plt.show()"
   ]
  },
  {
   "cell_type": "code",
   "execution_count": null,
   "id": "84d22b5e-b9a1-4bc3-b364-9a7e29e666de",
   "metadata": {},
   "outputs": [],
   "source": []
  },
  {
   "cell_type": "code",
   "execution_count": null,
   "id": "dba83b2b-e08f-4ce7-b521-9e16be46280c",
   "metadata": {},
   "outputs": [],
   "source": []
  },
  {
   "cell_type": "code",
   "execution_count": null,
   "id": "a094ec3d-84f8-44a6-8525-7483ca42f528",
   "metadata": {},
   "outputs": [],
   "source": []
  },
  {
   "cell_type": "code",
   "execution_count": null,
   "id": "8f06e1ee-1388-495d-8d61-7235bd10498b",
   "metadata": {},
   "outputs": [],
   "source": [
    "fig = plt.figure(figsize=(8,6))\n",
    "ax = fig.add_subplot(111)\n",
    "s=ax.scatter(x_sim[:,1], x_sim[:,4], marker='.', alpha=0.3, c=theta[:,0], vmax=2.5)\n",
    "ax.scatter(ob_x[1], ob_x[4], marker='*', s=120, alpha=0.8, c='k')\n",
    "ax.set_xlabel(r'g - r $_{lupt}$')\n",
    "ax.set_ylabel(r'z - Y $_{lupt}$')\n",
    "ax.set_xlim([-1.4,0.4])\n",
    "ax.set_ylim([-1,0.5])\n",
    "fig.colorbar(s, label=r'redshift')\n",
    "\n",
    "plt.show()"
   ]
  },
  {
   "cell_type": "code",
   "execution_count": null,
   "id": "31fc5366-9a17-4030-bdbd-ee4b7154b50b",
   "metadata": {},
   "outputs": [],
   "source": []
  },
  {
   "cell_type": "code",
   "execution_count": null,
   "id": "bf52013f-c778-4375-b754-023cc9a173d3",
   "metadata": {},
   "outputs": [],
   "source": []
  },
  {
   "cell_type": "code",
   "execution_count": null,
   "id": "eb4d7526-c3ed-41d8-a99f-0dfbf61d7670",
   "metadata": {},
   "outputs": [],
   "source": []
  }
 ],
 "metadata": {
  "kernelspec": {
   "display_name": "Python 3 (ipykernel)",
   "language": "python",
   "name": "python3"
  },
  "language_info": {
   "codemirror_mode": {
    "name": "ipython",
    "version": 3
   },
   "file_extension": ".py",
   "mimetype": "text/x-python",
   "name": "python",
   "nbconvert_exporter": "python",
   "pygments_lexer": "ipython3",
   "version": "3.11.7"
  }
 },
 "nbformat": 4,
 "nbformat_minor": 5
}
