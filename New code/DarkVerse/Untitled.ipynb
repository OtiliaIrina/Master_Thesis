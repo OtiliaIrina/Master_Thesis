{
 "cells": [
  {
   "cell_type": "code",
   "execution_count": 1,
   "id": "42c594ba-12cc-4b98-b20b-e857407f5d9f",
   "metadata": {},
   "outputs": [
    {
     "name": "stderr",
     "output_type": "stream",
     "text": [
      "/home/astro/manasoi7/.conda/envs/project/lib/python3.12/site-packages/halomod/halo_model.py:32: UserWarning: Warning: Some Halo-Exclusion models have significant speedup when using Numba\n",
      "  from .halo_exclusion import NoExclusion\n"
     ]
    }
   ],
   "source": [
    "import astropy.io.fits as fits\n",
    "import numpy as np\n",
    "from scipy.integrate import quad\n",
    "import scipy.integrate as integrate\n",
    "from scipy.optimize import curve_fit\n",
    "from astropy.coordinates import SkyCoord\n",
    "from astropy import units as u\n",
    "from astropy.table import Table, join\n",
    "import os\n",
    "import matplotlib.pyplot as plt\n",
    "from astropy.cosmology import FlatLambdaCDM\n",
    "import halomod as hm\n",
    "import hmf\n",
    "import treecorr"
   ]
  },
  {
   "cell_type": "code",
   "execution_count": 2,
   "id": "44ffac90-0401-42e1-8cde-94709f75e851",
   "metadata": {},
   "outputs": [
    {
     "ename": "ModuleNotFoundError",
     "evalue": "No module named 'DarkVerse'",
     "output_type": "error",
     "traceback": [
      "\u001b[0;31m---------------------------------------------------------------------------\u001b[0m",
      "\u001b[0;31mModuleNotFoundError\u001b[0m                       Traceback (most recent call last)",
      "Cell \u001b[0;32mIn[2], line 1\u001b[0m\n\u001b[0;32m----> 1\u001b[0m \u001b[38;5;28;01mimport\u001b[39;00m \u001b[38;5;21;01mDarkVerse\u001b[39;00m \u001b[38;5;28;01mas\u001b[39;00m \u001b[38;5;21;01mdv\u001b[39;00m\n",
      "\u001b[0;31mModuleNotFoundError\u001b[0m: No module named 'DarkVerse'"
     ]
    }
   ],
   "source": [
    "import DarkVerse as dv\n"
   ]
  },
  {
   "cell_type": "code",
   "execution_count": null,
   "id": "9905bca1-a139-4b96-8e03-8bbdc58f12ed",
   "metadata": {},
   "outputs": [],
   "source": [
    "home_dir = os.path.expanduser('~')\n",
    "directory_SN_X3 = \"/home/astro/manasoi7/Master_Thesis/Results/SN-X3\"\n",
    "directory_SN_C3 = \"/home/astro/manasoi7/Master_Thesis/Results/SN-C3\"\n",
    "directory_SN_E2 = \"/home/astro/manasoi7/Master_Thesis/Results/SN-E2\" \n",
    "directory_COSMOS = \"/home/astro/manasoi7/Master_Thesis/Results/COSMOS\" \n",
    "res = os.path.join(home_dir, 'Master_Thesis', 'Results')"
   ]
  },
  {
   "cell_type": "code",
   "execution_count": null,
   "id": "8dae8ab0-189c-463d-b77d-3f6ea428e726",
   "metadata": {},
   "outputs": [],
   "source": [
    "# Initialize\n",
    "sub = dv.Selection(catalog, randoms, 0.4, 0.6, 10.5, 11.0, config)\n",
    "\n",
    "# Fit HOD with custom bounds\n",
    "hod_params, pcov = sub.fit_hod(\n",
    "    p0=[12.5, 13.5, 1.0],\n",
    "    bounds=([12.0, 13.0, 0.5], [13.0, 14.0, 1.5])\n",
    ")\n",
    "\n",
    "results = sub.get_results()\n",
    "\n",
    "logM_min, logM_1, alpha = results['hod_params']\n",
    "print(f\"HOD fit results: M_min = 10^{logM_min:.2f}, \"\n",
    "      f\"M_1 = 10^{logM_1:.2f}, alpha = {alpha:.2f}\")"
   ]
  },
  {
   "cell_type": "code",
   "execution_count": null,
   "id": "74ebab66-6576-4af7-8e24-3929b1a2a8a1",
   "metadata": {},
   "outputs": [],
   "source": []
  }
 ],
 "metadata": {
  "kernelspec": {
   "display_name": "project",
   "language": "python",
   "name": "project"
  },
  "language_info": {
   "codemirror_mode": {
    "name": "ipython",
    "version": 3
   },
   "file_extension": ".py",
   "mimetype": "text/x-python",
   "name": "python",
   "nbconvert_exporter": "python",
   "pygments_lexer": "ipython3",
   "version": "3.12.7"
  }
 },
 "nbformat": 4,
 "nbformat_minor": 5
}
