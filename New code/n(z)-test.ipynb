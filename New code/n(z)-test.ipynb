{
 "cells": [
  {
   "cell_type": "code",
   "execution_count": 71,
   "id": "e476e6b3-556c-44c9-8b88-174ca14507b1",
   "metadata": {},
   "outputs": [],
   "source": [
    "from scipy.interpolate import interp1d\n",
    "import astropy.io.fits as fits\n",
    "import numpy as np\n",
    "from scipy.integrate import quad\n",
    "import scipy.integrate as integrate\n",
    "from scipy.optimize import curve_fit\n",
    "from astropy.coordinates import SkyCoord\n",
    "from astropy import units as u\n",
    "from astropy.table import Table, join\n",
    "import os\n",
    "import matplotlib.pyplot as plt\n",
    "from astropy.cosmology import FlatLambdaCDM\n",
    "import halomod as hm\n",
    "import hmf\n",
    "import treecorr\n",
    "import DarkVerse as dv\n",
    "\n"
   ]
  },
  {
   "cell_type": "code",
   "execution_count": 72,
   "id": "4cbba233-d096-45a3-bc37-057efa0ef35e",
   "metadata": {},
   "outputs": [],
   "source": [
    "%matplotlib inline\n",
    "plt.rc('font',**{'family':'serif','size':20})\n",
    "#plt.rc('text', usetex=True)\n",
    "home_dir = os.path.expanduser('~')\n",
    "directory_SN_X3 = \"/home/astro/manasoi7/Master_Thesis/Results/SN-X3\"\n",
    "directory_SN_C3 = \"/home/astro/manasoi7/Master_Thesis/Results/SN-C3\"\n",
    "directory_SN_E2 = \"/home/astro/manasoi7/Master_Thesis/Results/SN-E2\" \n",
    "directory_COSMOS = \"/home/astro/manasoi7/Master_Thesis/Results/COSMOS\" \n",
    "res = os.path.join(home_dir, 'Master_Thesis', 'Results')"
   ]
  },
  {
   "cell_type": "code",
   "execution_count": null,
   "id": "01617f76-7952-4f77-9f96-9305c86151b2",
   "metadata": {},
   "outputs": [],
   "source": [
    "\n",
    "\n",
    "home_dir = os.path.expanduser('~')\n",
    "data_sbi_path = os.path.join(home_dir, 'Master_Thesis', 'DATA', 'DES_DF_SBI')\n",
    "data_path = os.path.join(home_dir, 'Master_Thesis', 'DATA')\n",
    "\n",
    "\n",
    "sbi_file_path = os.path.join(data_sbi_path, \"DES_DF_COSMOS_sbi_output.fits\")  \n",
    "t= Table.read(sbi_file_path)\n",
    "t2 = Table.read(os.path.join(data_path, \"COSMOS_masked_cat.fits\") )\n",
    "t = join(t,t2,keys='id')\n",
    "\n",
    "t.rename_column('mode_z','z')\n",
    "t.rename_column('mode_mass','SM')\n",
    "\n",
    "# Load Randoms\n",
    "fits_random = os.path.join(data_path, \"COSMOS_randoms_ugriz_trim_video.fits\") \n",
    "t3 = Table.read(fits_random)\n",
    "randoms = t3  # Random catalog\n",
    "\n",
    "# Define Correlation Function Configuration\n",
    "config = {\n",
    "    'min_sep': 0.003, \n",
    "    'max_sep': 1.78,\n",
    "    'bin_size': 0.1,\n",
    "    'sep_units': 'degrees',\n",
    "    'var_method': 'shot'   # if using the internal 'var_method': 'bootstrap' of treecrorr, but then it takes a long time to run\n",
    "}\n",
    "\n"
   ]
  },
  {
   "cell_type": "code",
   "execution_count": null,
   "id": "8937c1bd-072f-4f5e-9b6b-1ee33b9c26b2",
   "metadata": {},
   "outputs": [],
   "source": [
    "\n",
    "z_min, z_max = 0.4, 0.6\n",
    "SM_min, SM_max = 10, 12.5\n",
    "\n",
    "\n"
   ]
  },
  {
   "cell_type": "code",
   "execution_count": null,
   "id": "20531d22-633d-4285-bbec-f1eb11a75f75",
   "metadata": {},
   "outputs": [],
   "source": [
    "z_edges = np.arange(0,5.505,0.005)\n",
    "# for the n(z), we will use the mid-point of each bin,\n",
    "z_mid = (z_edges[:-1] + z_edges[1:])/2.\n",
    "# Let's pick a sample\n",
    "#subsample = np.where((t['mode_z']>=z_min)&(t['mode_z']<z_max)&(t['mode_mass']>=SM_min)&(t['mode_mass']<SM_max))[0]\n",
    "subsample = np.where((t['z']>=z_min)&(t['z']<z_max)&(t['SM']>=SM_min)&(t['SM']<SM_max))[0]\n",
    "\n",
    "# we build the n(z) from the z_pdf column\n",
    "nz_arr = np.average(t['z_pdf'][subsample,:], axis=0)\n",
    "\n",
    "# using the average should ensure that the output n(z) is correctly normalised, but we can make sure\n",
    "nz_arr = nz_arr / np.trapz(nz_arr, x=z_mid)"
   ]
  },
  {
   "cell_type": "code",
   "execution_count": null,
   "id": "ace3eb92-6e97-4d5f-a347-634db536dab6",
   "metadata": {},
   "outputs": [],
   "source": [
    "from scipy.interpolate import interp1d\n",
    "# we don't want it to crash if we try to access a value outside of our redshift range, instead we'll set such values to 0.\n",
    "nz = interp1d(z_mid, nz_arr, bounds_error=False, fill_value=0)\n",
    "\n",
    "# so now we can give it any value that halomod might like to use when performing its integration,\n",
    "print(nz(0.52752))"
   ]
  },
  {
   "cell_type": "code",
   "execution_count": null,
   "id": "eddf5830-1a79-4cbd-b737-008354dc2985",
   "metadata": {},
   "outputs": [],
   "source": [
    "\n",
    "\n",
    "# Use it in the Selection class\n",
    "subsample = dv.Selection(t, randoms, z_min, z_max, SM_min, SM_max, config, nz=nz)"
   ]
  },
  {
   "cell_type": "code",
   "execution_count": null,
   "id": "7d240f80-2fcf-450d-817c-8f1c8aac910c",
   "metadata": {},
   "outputs": [],
   "source": [
    "\n",
    "# Fit HOD with custom bounds\n",
    "hod_params, pcov = subsample.fit_hod()  \n",
    "\n",
    "results = subsample.get_results()\n",
    "\n",
    "logM_min, logM_1, alpha = results['hod_params']\n",
    "print(f\"HOD fit results: M_min = 10^{logM_min*1e7:.2f}, \"\n",
    "      f\"M_1 = 10^{logM_1:.2f}, alpha = {alpha:.2f}\")"
   ]
  },
  {
   "cell_type": "code",
   "execution_count": null,
   "id": "d99d9efb-7e62-4fb6-90f3-7b58c37f0449",
   "metadata": {},
   "outputs": [],
   "source": [
    "theta = results['theta']\n",
    "w_obs = results['w_theta']\n",
    "var_w_obs= results['var_w_theta_bootstrap']\n",
    "w_err = np.sqrt(var_w_obs)\n",
    "xi_m_values = results['xi_m']\n",
    "xi_g_values = results['xi_g']\n",
    "\n",
    "w_model = subsample.hod_model(logM_min *1e7, logM_1, alpha) \n",
    "\n",
    "\n",
    "\n",
    "plt.figure(figsize=(10, 8))\n",
    "\n",
    "plt.errorbar(theta, w_obs, yerr= w_err, fmt='o', label= 'COMOS')\n",
    "plt.plot(theta, w_model, label='Best-fit HOD Model', color='red')\n",
    "#plt.plot(sub1.theta, sub1.gg.angular_corr_gal - sub1.IC, color='purple')\n",
    "\n",
    "#plt.plot(theta, xi_m_values, label=r'$\\w_{dm}(\\theta)$ (Matter-Matter)', linestyle='dashed', color='black')\n",
    "#plt.plot(theta, xi_g_values, label=r'(Galaxy-Galaxy) corr. function', linestyle='dashed', color='blueviolet')\n",
    "\n",
    "\n",
    "plt.xscale('log')\n",
    "plt.yscale('log')\n",
    "#plt.ylim([1e-4,10.])\n",
    "\n",
    "plt.xlabel('θ [degrees]', fontsize=12)\n",
    "plt.ylabel('w(θ)', fontsize=12)\n",
    "plt.title(f'$w(\\\\theta)$ with better n(z) for $10^{{{SM_min}}} < M_* < 10^{{{SM_max}}}$, $z \\in [{z_min},{z_max}]$', fontsize=14)\n",
    "\n",
    "plt.legend(fontsize=10, framealpha=0.8)\n",
    "plt.grid(True, which=\"both\", ls=\"--\", alpha=0.3)\n",
    "\n",
    "# Add annotations\n",
    "plt.text(0.2, 0.9, \"1-halo region\", transform=plt.gca().transAxes, color='gray')\n",
    "plt.text(0.6, 0.9, \"2-halo region\", transform=plt.gca().transAxes, color='gray')\n",
    "\n",
    "\n",
    "plt.tight_layout()\n",
    "plt.show()"
   ]
  },
  {
   "cell_type": "code",
   "execution_count": null,
   "id": "60b7dcca-526f-440a-9ee2-9263409fd34e",
   "metadata": {},
   "outputs": [],
   "source": [
    "s = dv.Selection(t, randoms, z_min, z_max, SM_min, SM_max, config, nz=None)"
   ]
  },
  {
   "cell_type": "code",
   "execution_count": null,
   "id": "464f6dbd-abef-450b-ab9b-5847b27ab5a5",
   "metadata": {},
   "outputs": [],
   "source": [
    "\n",
    "# Fit HOD with custom bounds\n",
    "hod_params, pcov = s.fit_hod()  \n",
    "\n",
    "r = s.get_results()\n",
    "\n",
    "logM_min, logM_1, alpha = r['hod_params']\n",
    "print(f\"HOD fit results: M_min = 10^{logM_min*1e7:.2f}, \"\n",
    "      f\"M_1 = 10^{logM_1:.2f}, alpha = {alpha:.2f}\")"
   ]
  },
  {
   "cell_type": "code",
   "execution_count": null,
   "id": "47da302f-4623-48f4-8b06-d44441181171",
   "metadata": {},
   "outputs": [],
   "source": [
    "theta = results['theta']\n",
    "w_obs = results['w_theta']\n",
    "var_w_obs= results['var_w_theta_bootstrap']\n",
    "w_err = np.sqrt(var_w_obs)\n",
    "\n",
    "\n",
    "w_m = s.hod_model(logM_min *1e7, logM_1, alpha) \n",
    "\n",
    "\n",
    "\n",
    "plt.figure(figsize=(10, 8))\n",
    "\n",
    "plt.errorbar(theta, w_obs, yerr= w_err, fmt='o', label= 'COMOS')\n",
    "plt.plot(theta, w_model, label='Model', color='red')\n",
    "plt.plot(theta, w_m,label='Tophat', color='purple')\n",
    "\n",
    "\n",
    "\n",
    "plt.xscale('log')\n",
    "plt.yscale('log')\n",
    "#plt.ylim([1e-4,10.])\n",
    "\n",
    "plt.xlabel('θ [degrees]', fontsize=14)\n",
    "plt.ylabel('w(θ)', fontsize=14)\n",
    "plt.title(f'$w(\\\\theta)$ with better n(z) for $10^{{{SM_min}}} < M_* < 10^{{{SM_max}}}$, $z \\in [{z_min},{z_max}]$', fontsize=14)\n",
    "\n",
    "plt.legend(fontsize=10, framealpha=0.8)\n",
    "plt.grid(True, which=\"both\", ls=\"--\", alpha=0.3)\n",
    "\n",
    "# Add annotations\n",
    "plt.text(0.2, 0.9, \"1-halo region\", transform=plt.gca().transAxes, color='gray')\n",
    "plt.text(0.6, 0.9, \"2-halo region\", transform=plt.gca().transAxes, color='gray')\n",
    "\n",
    "\n",
    "plt.tight_layout()\n",
    "plt.show()"
   ]
  },
  {
   "cell_type": "code",
   "execution_count": null,
   "id": "6f5f46db-b3c2-440a-bbd1-4f3f10883a5a",
   "metadata": {},
   "outputs": [],
   "source": []
  },
  {
   "cell_type": "code",
   "execution_count": null,
   "id": "d94969f3-8265-4b9e-8570-b66b41c1a487",
   "metadata": {},
   "outputs": [],
   "source": []
  }
 ],
 "metadata": {
  "kernelspec": {
   "display_name": "project",
   "language": "python",
   "name": "project"
  },
  "language_info": {
   "codemirror_mode": {
    "name": "ipython",
    "version": 3
   },
   "file_extension": ".py",
   "mimetype": "text/x-python",
   "name": "python",
   "nbconvert_exporter": "python",
   "pygments_lexer": "ipython3",
   "version": "3.12.7"
  }
 },
 "nbformat": 4,
 "nbformat_minor": 5
}
