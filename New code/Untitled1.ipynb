{
 "cells": [
  {
   "cell_type": "markdown",
   "id": "02b60861-9b7a-4bbc-bd97-3c06e5568951",
   "metadata": {},
   "source": [
    "# Stellar Mass Completeness Limits\n",
    " using the method described in Pozzetti et al. (2010)"
   ]
  },
  {
   "cell_type": "code",
   "execution_count": 3,
   "id": "c8477602-a34b-4550-8ac2-86e94d194786",
   "metadata": {},
   "outputs": [],
   "source": [
    "import os\n",
    "import numpy as np\n",
    "import pandas as pd\n",
    "import matplotlib.pyplot as plt\n",
    "from astropy.table import Table, join\n",
    "\n"
   ]
  },
  {
   "cell_type": "code",
   "execution_count": 4,
   "id": "6e90b2cf-4ec1-45c7-a44e-342269200ee3",
   "metadata": {},
   "outputs": [],
   "source": [
    "home_dir = os.path.expanduser('~')\n",
    "directory_SN_X3 = \"/home/astro/manasoi7/Master_Thesis/Results/SN-X3\"\n",
    "directory_SN_C3 = \"/home/astro/manasoi7/Master_Thesis/Results/SN-C3\"\n",
    "directory_SN_E2 = \"/home/astro/manasoi7/Master_Thesis/Results/SN-E2\" \n",
    "directory_COSMOS = \"/home/astro/manasoi7/Master_Thesis/Results/COSMOS\" \n",
    "res = os.path.join(home_dir, 'Master_Thesis', 'Results')"
   ]
  },
  {
   "cell_type": "code",
   "execution_count": 9,
   "id": "4887c244-349b-47d0-b7ca-0c07cf529f89",
   "metadata": {},
   "outputs": [
    {
     "name": "stdout",
     "output_type": "stream",
     "text": [
      "['id', 'ra', 'dec', 'fof_id_1', 'fof_size_1', 'mask_flags_1', 'flags_1', 'flagstr_1', 'badpix_frac_1', 'psf_g_0_1', 'psf_g_1_1', 'psf_T_1', 'bdf_T_1', 'bdf_T_err_1', 'bdf_T_ratio_1', 'bdf_g_0_1', 'bdf_g_1_1', 'bdf_fracdev_1', 'bdf_fracdev_err_1', 'tilename_1', 'EBV_SFD98_1', 'mask_flags_nir_1', 'flags_nir_1', 'flagstr_nir_1', 'badpix_frac_nir_1', 'psf_flux_u_1', 'psf_flux_g_1', 'psf_flux_r_1', 'psf_flux_i_1', 'psf_flux_z_1', 'psf_flux_J_1', 'psf_flux_H_1', 'psf_flux_Ks_1', 'psf_flux_err_u_1', 'psf_flux_err_g_1', 'psf_flux_err_r_1', 'psf_flux_err_i_1', 'psf_flux_err_z_1', 'psf_flux_err_J_1', 'psf_flux_err_H_1', 'psf_flux_err_Ks_1', 'bdf_flux_u_1', 'bdf_flux_g_1', 'bdf_flux_r_1', 'bdf_flux_i_1', 'bdf_flux_z_1', 'bdf_flux_J_1', 'bdf_flux_H_1', 'bdf_flux_Ks_1', 'bdf_flux_err_u_1', 'bdf_flux_err_g_1', 'bdf_flux_err_r_1', 'bdf_flux_err_i_1', 'bdf_flux_err_z_1', 'bdf_flux_err_J_1', 'bdf_flux_err_H_1', 'bdf_flux_err_Ks_1', 'gap_flux_u_1', 'gap_flux_g_1', 'gap_flux_r_1', 'gap_flux_i_1', 'gap_flux_z_1', 'gap_flux_J_1', 'gap_flux_H_1', 'gap_flux_Ks_1', 'gap_flux_err_u_1', 'gap_flux_err_g_1', 'gap_flux_err_r_1', 'gap_flux_err_i_1', 'gap_flux_err_z_1', 'gap_flux_err_J_1', 'gap_flux_err_H_1', 'gap_flux_err_Ks_1', 'psf_flux_calib_u_1', 'psf_flux_calib_g_1', 'psf_flux_calib_r_1', 'psf_flux_calib_i_1', 'psf_flux_calib_z_1', 'psf_flux_calib_J_1', 'psf_flux_calib_H_1', 'psf_flux_calib_Ks_1', 'psf_flux_err_calib_u_1', 'psf_flux_err_calib_g_1', 'psf_flux_err_calib_r_1', 'psf_flux_err_calib_i_1', 'psf_flux_err_calib_z_1', 'psf_flux_err_calib_J_1', 'psf_flux_err_calib_H_1', 'psf_flux_err_calib_Ks_1', 'bdf_flux_calib_u_1', 'bdf_flux_calib_g_1', 'bdf_flux_calib_r_1', 'bdf_flux_calib_i_1', 'bdf_flux_calib_z_1', 'bdf_flux_calib_J_1', 'bdf_flux_calib_H_1', 'bdf_flux_calib_Ks_1', 'bdf_flux_err_calib_u_1', 'bdf_flux_err_calib_g_1', 'bdf_flux_err_calib_r_1', 'bdf_flux_err_calib_i_1', 'bdf_flux_err_calib_z_1', 'bdf_flux_err_calib_J_1', 'bdf_flux_err_calib_H_1', 'bdf_flux_err_calib_Ks_1', 'psf_flux_dered_u_1', 'psf_flux_dered_g_1', 'psf_flux_dered_r_1', 'psf_flux_dered_i_1', 'psf_flux_dered_z_1', 'psf_flux_dered_J_1', 'psf_flux_dered_H_1', 'psf_flux_dered_Ks_1', 'psf_flux_err_dered_u_1', 'psf_flux_err_dered_g_1', 'psf_flux_err_dered_r_1', 'psf_flux_err_dered_i_1', 'psf_flux_err_dered_z_1', 'psf_flux_err_dered_J_1', 'psf_flux_err_dered_H_1', 'psf_flux_err_dered_Ks_1', 'bdf_flux_dered_u_1', 'bdf_flux_dered_g_1', 'bdf_flux_dered_r_1', 'bdf_flux_dered_i_1', 'bdf_flux_dered_z_1', 'bdf_flux_dered_J_1', 'bdf_flux_dered_H_1', 'bdf_flux_dered_Ks_1', 'bdf_flux_err_dered_u_1', 'bdf_flux_err_dered_g_1', 'bdf_flux_err_dered_r_1', 'bdf_flux_err_dered_i_1', 'bdf_flux_err_dered_z_1', 'bdf_flux_err_dered_J_1', 'bdf_flux_err_dered_H_1', 'bdf_flux_err_dered_Ks_1', 'psf_flux_dered_calib_u_1', 'psf_flux_dered_calib_g_1', 'psf_flux_dered_calib_r_1', 'psf_flux_dered_calib_i_1', 'psf_flux_dered_calib_z_1', 'psf_flux_dered_calib_J_1', 'psf_flux_dered_calib_H_1', 'psf_flux_dered_calib_Ks_1', 'psf_flux_err_dered_calib_u_1', 'psf_flux_err_dered_calib_g_1', 'psf_flux_err_dered_calib_r_1', 'psf_flux_err_dered_calib_i_1', 'psf_flux_err_dered_calib_z_1', 'psf_flux_err_dered_calib_J_1', 'psf_flux_err_dered_calib_H_1', 'psf_flux_err_dered_calib_Ks_1', 'bdf_flux_dered_calib_u_1', 'bdf_flux_dered_calib_g_1', 'bdf_flux_dered_calib_r_1', 'bdf_flux_dered_calib_i_1', 'bdf_flux_dered_calib_z_1', 'bdf_flux_dered_calib_J_1', 'bdf_flux_dered_calib_H_1', 'bdf_flux_dered_calib_Ks_1', 'bdf_flux_err_dered_calib_u_1', 'bdf_flux_err_dered_calib_g_1', 'bdf_flux_err_dered_calib_r_1', 'bdf_flux_err_dered_calib_i_1', 'bdf_flux_err_dered_calib_z_1', 'bdf_flux_err_dered_calib_J_1', 'bdf_flux_err_dered_calib_H_1', 'bdf_flux_err_dered_calib_Ks_1', 'psf_mag_u_1', 'psf_mag_g_1', 'psf_mag_r_1', 'psf_mag_i_1', 'psf_mag_z_1', 'psf_mag_J_1', 'psf_mag_H_1', 'psf_mag_Ks_1', 'psf_mag_dered_u_1', 'psf_mag_dered_g_1', 'psf_mag_dered_r_1', 'psf_mag_dered_i_1', 'psf_mag_dered_z_1', 'psf_mag_dered_J_1', 'psf_mag_dered_H_1', 'psf_mag_dered_Ks_1', 'psf_mag_err_dered_u_1', 'psf_mag_err_dered_g_1', 'psf_mag_err_dered_r_1', 'psf_mag_err_dered_i_1', 'psf_mag_err_dered_z_1', 'psf_mag_err_dered_J_1', 'psf_mag_err_dered_H_1', 'psf_mag_err_dered_Ks_1', 'psf_mag_dered_calib_u_1', 'psf_mag_dered_calib_g_1', 'psf_mag_dered_calib_r_1', 'psf_mag_dered_calib_i_1', 'psf_mag_dered_calib_z_1', 'psf_mag_dered_calib_J_1', 'psf_mag_dered_calib_H_1', 'psf_mag_dered_calib_Ks_1', 'bdf_mag_u_1', 'bdf_mag_g_1', 'bdf_mag_r_1', 'bdf_mag_i_1', 'bdf_mag_z_1', 'bdf_mag_J_1', 'bdf_mag_H_1', 'bdf_mag_Ks_1', 'bdf_mag_dered_u_1', 'bdf_mag_dered_g_1', 'bdf_mag_dered_r_1', 'bdf_mag_dered_i_1', 'bdf_mag_dered_z_1', 'bdf_mag_dered_J_1', 'bdf_mag_dered_H_1', 'bdf_mag_dered_Ks_1', 'bdf_mag_err_dered_u_1', 'bdf_mag_err_dered_g_1', 'bdf_mag_err_dered_r_1', 'bdf_mag_err_dered_i_1', 'bdf_mag_err_dered_z_1', 'bdf_mag_err_dered_J_1', 'bdf_mag_err_dered_H_1', 'bdf_mag_err_dered_Ks_1', 'bdf_mag_dered_calib_u_1', 'bdf_mag_dered_calib_g_1', 'bdf_mag_dered_calib_r_1', 'bdf_mag_dered_calib_i_1', 'bdf_mag_dered_calib_z_1', 'bdf_mag_dered_calib_J_1', 'bdf_mag_dered_calib_H_1', 'bdf_mag_dered_calib_Ks_1', 'kNN_class_1', 'z', 'SM', 'ra_2', 'dec_2', 'fof_id_2', 'fof_size_2', 'mask_flags_2', 'flags_2', 'flagstr_2', 'badpix_frac_2', 'psf_g_0_2', 'psf_g_1_2', 'psf_T_2', 'bdf_T_2', 'bdf_T_err_2', 'bdf_T_ratio_2', 'bdf_g_0_2', 'bdf_g_1_2', 'bdf_fracdev_2', 'bdf_fracdev_err_2', 'tilename_2', 'EBV_SFD98_2', 'mask_flags_nir_2', 'flags_nir_2', 'flagstr_nir_2', 'badpix_frac_nir_2', 'psf_flux_u_2', 'psf_flux_g_2', 'psf_flux_r_2', 'psf_flux_i_2', 'psf_flux_z_2', 'psf_flux_J_2', 'psf_flux_H_2', 'psf_flux_Ks_2', 'psf_flux_err_u_2', 'psf_flux_err_g_2', 'psf_flux_err_r_2', 'psf_flux_err_i_2', 'psf_flux_err_z_2', 'psf_flux_err_J_2', 'psf_flux_err_H_2', 'psf_flux_err_Ks_2', 'bdf_flux_u_2', 'bdf_flux_g_2', 'bdf_flux_r_2', 'bdf_flux_i_2', 'bdf_flux_z_2', 'bdf_flux_J_2', 'bdf_flux_H_2', 'bdf_flux_Ks_2', 'bdf_flux_err_u_2', 'bdf_flux_err_g_2', 'bdf_flux_err_r_2', 'bdf_flux_err_i_2', 'bdf_flux_err_z_2', 'bdf_flux_err_J_2', 'bdf_flux_err_H_2', 'bdf_flux_err_Ks_2', 'gap_flux_u_2', 'gap_flux_g_2', 'gap_flux_r_2', 'gap_flux_i_2', 'gap_flux_z_2', 'gap_flux_J_2', 'gap_flux_H_2', 'gap_flux_Ks_2', 'gap_flux_err_u_2', 'gap_flux_err_g_2', 'gap_flux_err_r_2', 'gap_flux_err_i_2', 'gap_flux_err_z_2', 'gap_flux_err_J_2', 'gap_flux_err_H_2', 'gap_flux_err_Ks_2', 'psf_flux_calib_u_2', 'psf_flux_calib_g_2', 'psf_flux_calib_r_2', 'psf_flux_calib_i_2', 'psf_flux_calib_z_2', 'psf_flux_calib_J_2', 'psf_flux_calib_H_2', 'psf_flux_calib_Ks_2', 'psf_flux_err_calib_u_2', 'psf_flux_err_calib_g_2', 'psf_flux_err_calib_r_2', 'psf_flux_err_calib_i_2', 'psf_flux_err_calib_z_2', 'psf_flux_err_calib_J_2', 'psf_flux_err_calib_H_2', 'psf_flux_err_calib_Ks_2', 'bdf_flux_calib_u_2', 'bdf_flux_calib_g_2', 'bdf_flux_calib_r_2', 'bdf_flux_calib_i_2', 'bdf_flux_calib_z_2', 'bdf_flux_calib_J_2', 'bdf_flux_calib_H_2', 'bdf_flux_calib_Ks_2', 'bdf_flux_err_calib_u_2', 'bdf_flux_err_calib_g_2', 'bdf_flux_err_calib_r_2', 'bdf_flux_err_calib_i_2', 'bdf_flux_err_calib_z_2', 'bdf_flux_err_calib_J_2', 'bdf_flux_err_calib_H_2', 'bdf_flux_err_calib_Ks_2', 'psf_flux_dered_u_2', 'psf_flux_dered_g_2', 'psf_flux_dered_r_2', 'psf_flux_dered_i_2', 'psf_flux_dered_z_2', 'psf_flux_dered_J_2', 'psf_flux_dered_H_2', 'psf_flux_dered_Ks_2', 'psf_flux_err_dered_u_2', 'psf_flux_err_dered_g_2', 'psf_flux_err_dered_r_2', 'psf_flux_err_dered_i_2', 'psf_flux_err_dered_z_2', 'psf_flux_err_dered_J_2', 'psf_flux_err_dered_H_2', 'psf_flux_err_dered_Ks_2', 'bdf_flux_dered_u_2', 'bdf_flux_dered_g_2', 'bdf_flux_dered_r_2', 'bdf_flux_dered_i_2', 'bdf_flux_dered_z_2', 'bdf_flux_dered_J_2', 'bdf_flux_dered_H_2', 'bdf_flux_dered_Ks_2', 'bdf_flux_err_dered_u_2', 'bdf_flux_err_dered_g_2', 'bdf_flux_err_dered_r_2', 'bdf_flux_err_dered_i_2', 'bdf_flux_err_dered_z_2', 'bdf_flux_err_dered_J_2', 'bdf_flux_err_dered_H_2', 'bdf_flux_err_dered_Ks_2', 'psf_flux_dered_calib_u_2', 'psf_flux_dered_calib_g_2', 'psf_flux_dered_calib_r_2', 'psf_flux_dered_calib_i_2', 'psf_flux_dered_calib_z_2', 'psf_flux_dered_calib_J_2', 'psf_flux_dered_calib_H_2', 'psf_flux_dered_calib_Ks_2', 'psf_flux_err_dered_calib_u_2', 'psf_flux_err_dered_calib_g_2', 'psf_flux_err_dered_calib_r_2', 'psf_flux_err_dered_calib_i_2', 'psf_flux_err_dered_calib_z_2', 'psf_flux_err_dered_calib_J_2', 'psf_flux_err_dered_calib_H_2', 'psf_flux_err_dered_calib_Ks_2', 'bdf_flux_dered_calib_u_2', 'bdf_flux_dered_calib_g_2', 'bdf_flux_dered_calib_r_2', 'bdf_flux_dered_calib_i_2', 'bdf_flux_dered_calib_z_2', 'bdf_flux_dered_calib_J_2', 'bdf_flux_dered_calib_H_2', 'bdf_flux_dered_calib_Ks_2', 'bdf_flux_err_dered_calib_u_2', 'bdf_flux_err_dered_calib_g_2', 'bdf_flux_err_dered_calib_r_2', 'bdf_flux_err_dered_calib_i_2', 'bdf_flux_err_dered_calib_z_2', 'bdf_flux_err_dered_calib_J_2', 'bdf_flux_err_dered_calib_H_2', 'bdf_flux_err_dered_calib_Ks_2', 'psf_mag_u_2', 'psf_mag_g_2', 'psf_mag_r_2', 'psf_mag_i_2', 'psf_mag_z_2', 'psf_mag_J_2', 'psf_mag_H_2', 'psf_mag_Ks_2', 'psf_mag_dered_u_2', 'psf_mag_dered_g_2', 'psf_mag_dered_r_2', 'psf_mag_dered_i_2', 'psf_mag_dered_z_2', 'psf_mag_dered_J_2', 'psf_mag_dered_H_2', 'psf_mag_dered_Ks_2', 'psf_mag_err_dered_u_2', 'psf_mag_err_dered_g_2', 'psf_mag_err_dered_r_2', 'psf_mag_err_dered_i_2', 'psf_mag_err_dered_z_2', 'psf_mag_err_dered_J_2', 'psf_mag_err_dered_H_2', 'psf_mag_err_dered_Ks_2', 'psf_mag_dered_calib_u_2', 'psf_mag_dered_calib_g_2', 'psf_mag_dered_calib_r_2', 'psf_mag_dered_calib_i_2', 'psf_mag_dered_calib_z_2', 'psf_mag_dered_calib_J_2', 'psf_mag_dered_calib_H_2', 'psf_mag_dered_calib_Ks_2', 'bdf_mag_u_2', 'bdf_mag_g_2', 'bdf_mag_r_2', 'bdf_mag_i_2', 'bdf_mag_z_2', 'bdf_mag_J_2', 'bdf_mag_H_2', 'bdf_mag_Ks_2', 'bdf_mag_dered_u_2', 'bdf_mag_dered_g_2', 'bdf_mag_dered_r_2', 'bdf_mag_dered_i_2', 'bdf_mag_dered_z_2', 'bdf_mag_dered_J_2', 'bdf_mag_dered_H_2', 'bdf_mag_dered_Ks_2', 'bdf_mag_err_dered_u_2', 'bdf_mag_err_dered_g_2', 'bdf_mag_err_dered_r_2', 'bdf_mag_err_dered_i_2', 'bdf_mag_err_dered_z_2', 'bdf_mag_err_dered_J_2', 'bdf_mag_err_dered_H_2', 'bdf_mag_err_dered_Ks_2', 'bdf_mag_dered_calib_u_2', 'bdf_mag_dered_calib_g_2', 'bdf_mag_dered_calib_r_2', 'bdf_mag_dered_calib_i_2', 'bdf_mag_dered_calib_z_2', 'bdf_mag_dered_calib_J_2', 'bdf_mag_dered_calib_H_2', 'bdf_mag_dered_calib_Ks_2', 'kNN_class_2']\n"
     ]
    }
   ],
   "source": [
    "\n",
    "home_dir = os.path.expanduser('~')\n",
    "thesis_path = os.path.join(home_dir, 'Master_Thesis', 'DATA')\n",
    "\n",
    "\n",
    "\n",
    "# Catalog\n",
    "fits_file_path = os.path.join(thesis_path, \"Y3_deep_fields_DB_wKNN_cat_SN-C3_zm.fits\")  \n",
    "t= Table.read(fits_file_path)\n",
    "masked = os.path.join(thesis_path, \"SN-C3_masked_cat.fits\")  \n",
    "t3= Table.read(masked)\n",
    "\n",
    "# Join in one table\n",
    "\n",
    "t=join(t,t3,keys='id') \n",
    "t.rename_column('ra_1','ra')\n",
    "t.rename_column('dec_1','dec')\n",
    "print(t.colnames)"
   ]
  },
  {
   "cell_type": "code",
   "execution_count": 12,
   "id": "9f2630bb-e527-4350-b4dd-c84db8d142c8",
   "metadata": {},
   "outputs": [
    {
     "name": "stdout",
     "output_type": "stream",
     "text": [
      "  🔹 bdf_mag_u_1\n",
      "  🔹 bdf_mag_g_1\n",
      "  🔹 bdf_mag_r_1\n",
      "  🔹 bdf_mag_i_1\n",
      "  🔹 bdf_mag_z_1\n",
      "  🔹 bdf_mag_J_1\n",
      "  🔹 bdf_mag_H_1\n",
      "  🔹 bdf_mag_Ks_1\n",
      "  🔹 bdf_mag_dered_u_1\n",
      "  🔹 bdf_mag_dered_g_1\n",
      "  🔹 bdf_mag_dered_r_1\n",
      "  🔹 bdf_mag_dered_i_1\n",
      "  🔹 bdf_mag_dered_z_1\n",
      "  🔹 bdf_mag_dered_J_1\n",
      "  🔹 bdf_mag_dered_H_1\n",
      "  🔹 bdf_mag_dered_Ks_1\n",
      "  🔹 bdf_mag_err_dered_u_1\n",
      "  🔹 bdf_mag_err_dered_g_1\n",
      "  🔹 bdf_mag_err_dered_r_1\n",
      "  🔹 bdf_mag_err_dered_i_1\n",
      "  🔹 bdf_mag_err_dered_z_1\n",
      "  🔹 bdf_mag_err_dered_J_1\n",
      "  🔹 bdf_mag_err_dered_H_1\n",
      "  🔹 bdf_mag_err_dered_Ks_1\n",
      "  🔹 bdf_mag_dered_calib_u_1\n",
      "  🔹 bdf_mag_dered_calib_g_1\n",
      "  🔹 bdf_mag_dered_calib_r_1\n",
      "  🔹 bdf_mag_dered_calib_i_1\n",
      "  🔹 bdf_mag_dered_calib_z_1\n",
      "  🔹 bdf_mag_dered_calib_J_1\n",
      "  🔹 bdf_mag_dered_calib_H_1\n",
      "  🔹 bdf_mag_dered_calib_Ks_1\n",
      "  🔹 bdf_mag_u_2\n",
      "  🔹 bdf_mag_g_2\n",
      "  🔹 bdf_mag_r_2\n",
      "  🔹 bdf_mag_i_2\n",
      "  🔹 bdf_mag_z_2\n",
      "  🔹 bdf_mag_J_2\n",
      "  🔹 bdf_mag_H_2\n",
      "  🔹 bdf_mag_Ks_2\n",
      "  🔹 bdf_mag_dered_u_2\n",
      "  🔹 bdf_mag_dered_g_2\n",
      "  🔹 bdf_mag_dered_r_2\n",
      "  🔹 bdf_mag_dered_i_2\n",
      "  🔹 bdf_mag_dered_z_2\n",
      "  🔹 bdf_mag_dered_J_2\n",
      "  🔹 bdf_mag_dered_H_2\n",
      "  🔹 bdf_mag_dered_Ks_2\n",
      "  🔹 bdf_mag_err_dered_u_2\n",
      "  🔹 bdf_mag_err_dered_g_2\n",
      "  🔹 bdf_mag_err_dered_r_2\n",
      "  🔹 bdf_mag_err_dered_i_2\n",
      "  🔹 bdf_mag_err_dered_z_2\n",
      "  🔹 bdf_mag_err_dered_J_2\n",
      "  🔹 bdf_mag_err_dered_H_2\n",
      "  🔹 bdf_mag_err_dered_Ks_2\n",
      "  🔹 bdf_mag_dered_calib_u_2\n",
      "  🔹 bdf_mag_dered_calib_g_2\n",
      "  🔹 bdf_mag_dered_calib_r_2\n",
      "  🔹 bdf_mag_dered_calib_i_2\n",
      "  🔹 bdf_mag_dered_calib_z_2\n",
      "  🔹 bdf_mag_dered_calib_J_2\n",
      "  🔹 bdf_mag_dered_calib_H_2\n",
      "  🔹 bdf_mag_dered_calib_Ks_2\n"
     ]
    }
   ],
   "source": [
    "matching_cols = [col for col in t.colnames if 'bdf_mag' in col.lower()]\n",
    "if matching_cols:\n",
    "    for col in matching_cols:\n",
    "        print(f\"  🔹 {col}\")"
   ]
  },
  {
   "cell_type": "code",
   "execution_count": null,
   "id": "17c345bc-bc18-4763-8fe4-10a9fcbf76da",
   "metadata": {},
   "outputs": [],
   "source": [
    "\n",
    "def compute_mass_limit(df, mag_limit, z_bins, faint_fraction=0.2, percentile=95):\n",
    "    z_centers = []\n",
    "    mass_limits = []\n",
    "    for zmin, zmax in zip(z_bins[:-1], z_bins[1:]):\n",
    "        bin_df = df[(df['z'] >= zmin) & (df['z'] < zmax)]\n",
    "        if len(bin_df) < 10:\n",
    "            mass_limits.append(np.nan)\n",
    "            z_centers.append((zmin + zmax) / 2)\n",
    "            continue\n",
    "        # Compute Mlim\n",
    "        mlim = bin_df['logM'] + 0.4 * (bin_df['mag'] - mag_limit)\n",
    "        faintest = bin_df.nlargest(int(faint_fraction * len(bin_df)), 'mag')\n",
    "        faint_mlim = faintest['logM'] + 0.4 * (faintest['mag'] - mag_limit)\n",
    "        limit = np.percentile(faint_mlim, percentile)\n",
    "        z_centers.append((zmin + zmax) / 2)\n",
    "        mass_limits.append(limit)\n",
    "    return np.array(z_centers), np.array(mass_limits)"
   ]
  },
  {
   "cell_type": "code",
   "execution_count": null,
   "id": "7cb04fad-c5da-40ff-8846-a0feabb80338",
   "metadata": {},
   "outputs": [
    {
     "name": "stdout",
     "output_type": "stream",
     "text": [
      "Reading SN-X3...\n",
      "Reading SN-C3...\n",
      "Reading SN-E2...\n",
      "Reading COSMOS...\n"
     ]
    }
   ],
   "source": [
    "home_dir = os.path.expanduser('~')\n",
    "thesis_path = os.path.join(home_dir, 'Master_Thesis', 'DATA')\n",
    "\n",
    "fields = {\n",
    "    \"SN-X3\": {\n",
    "        \"catalog\": \"Y3_deep_fields_DB_wKNN_cat_SN-X3_zm.fits\",\n",
    "        \"masked\": \"SN-X3_masked_cat.fits\",\n",
    "        \"randoms\": \"SN-X3_randoms_ugriz_trim_video.fits\"\n",
    "    },\n",
    "    \"SN-C3\": {\n",
    "        \"catalog\": \"Y3_deep_fields_DB_wKNN_cat_SN-C3_zm.fits\",\n",
    "        \"masked\": \"SN-C3_masked_cat.fits\",\n",
    "        \"randoms\": \"SN-C3_randoms_ugriz_trim_video.fits\"\n",
    "    },\n",
    "    \"SN-E2\": {\n",
    "        \"catalog\": \"Y3_deep_fields_DB_wKNN_cat_SN-E2_zm.fits\",\n",
    "        \"masked\": \"SN-E2_masked_cat.fits\",\n",
    "        \"randoms\": \"SN-E2_randoms_ugriz_trim_video.fits\"\n",
    "    },\n",
    "    \"COSMOS\": {\n",
    "        \"catalog\": \"Y3_deep_fields_DB_wKNN_cat_COSMOS_zm.fits\",\n",
    "        \"masked\": \"COSMOS_masked_cat.fits\",\n",
    "        \"randoms\": \"COSMOS_randoms_ugriz_trim_video.fits\"\n",
    "    }\n",
    "}\n",
    "\n",
    "z_min, z_max = 0.5, 0.8\n",
    "SM_bins = [(10.5, 12.5)]\n",
    "mag_limit = 25.0  # i-band magnitude limit\n",
    "z_bins = np.arange(z_min, z_max + 0.01, 0.1)\n",
    "\n",
    "\n",
    "all_data = []\n",
    "\n",
    "for field_name, paths in fields.items():\n",
    "    print(f\"Reading {field_name}...\")\n",
    "    catalog = Table.read(os.path.join(thesis_path, paths[\"catalog\"]))\n",
    "    masked = Table.read(os.path.join(thesis_path, paths[\"masked\"]))\n",
    "    catalog = join(catalog, masked, keys='id')\n",
    "    catalog.rename_columns(['ra_1', 'dec_1'], ['ra', 'dec'])\n",
    "    \n",
    "    df = catalog.to_pandas()\n",
    "    df = df.rename(columns={\n",
    "        'SM': 'logM',\n",
    "        'bdf_mag_dered_calib_i_1': 'mag',\n",
    "        'z': 'z'\n",
    "    })\n",
    "    df = df[['z', 'logM', 'mag']].dropna()\n",
    "    \n",
    "    # Filter redshift and mass bin\n",
    "    df = df[(df['z'] >= z_min) & (df['z'] <= z_max)]\n",
    "    \n",
    "    for sm_min, sm_max in SM_bins:\n",
    "        df_bin = df[(df['logM'] >= sm_min) & (df['logM'] < sm_max)]\n",
    "        if len(df_bin) == 0:\n",
    "            continue\n",
    "        zc, ml = compute_mass_limit(df_bin, mag_limit, z_bins)\n",
    "        all_data.append((field_name, zc, ml))\n",
    "\n"
   ]
  },
  {
   "cell_type": "code",
   "execution_count": null,
   "id": "2cd04b60-70ca-4c93-81b5-cd10098e650b",
   "metadata": {},
   "outputs": [],
   "source": [
    "plt.figure(figsize=(8, 5))\n",
    "for field_name, zc, ml in all_data:\n",
    "    plt.plot(zc, ml, marker='o', label=field_name)\n",
    "plt.xlabel(\"Redshift\")\n",
    "plt.ylabel(\"log10(Stellar Mass Limit)\")\n",
    "plt.title(\"Stellar Mass Completeness Limits (Pozzetti+2010)\")\n",
    "plt.legend()\n",
    "plt.grid(True)\n",
    "plt.tight_layout()\n",
    "plt.show()\n"
   ]
  }
 ],
 "metadata": {
  "kernelspec": {
   "display_name": "project",
   "language": "python",
   "name": "project"
  },
  "language_info": {
   "codemirror_mode": {
    "name": "ipython",
    "version": 3
   },
   "file_extension": ".py",
   "mimetype": "text/x-python",
   "name": "python",
   "nbconvert_exporter": "python",
   "pygments_lexer": "ipython3",
   "version": "3.12.7"
  }
 },
 "nbformat": 4,
 "nbformat_minor": 5
}
