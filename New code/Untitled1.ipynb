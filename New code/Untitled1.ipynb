{
 "cells": [
  {
   "cell_type": "code",
   "execution_count": 1,
   "id": "1aff8cd3-8a99-48de-8289-74e52b6eb525",
   "metadata": {},
   "outputs": [
    {
     "ename": "AttributeError",
     "evalue": "module 'numpy' has no attribute 'erf'",
     "output_type": "error",
     "traceback": [
      "\u001b[0;31m---------------------------------------------------------------------------\u001b[0m",
      "\u001b[0;31mAttributeError\u001b[0m                            Traceback (most recent call last)",
      "Cell \u001b[0;32mIn[1], line 24\u001b[0m\n\u001b[1;32m     22\u001b[0m Mmin \u001b[38;5;241m=\u001b[39m \u001b[38;5;241m10\u001b[39m\u001b[38;5;241m*\u001b[39m\u001b[38;5;241m*\u001b[39mlog10_Mmin\n\u001b[1;32m     23\u001b[0m M1_val \u001b[38;5;241m=\u001b[39m \u001b[38;5;241m10\u001b[39m\u001b[38;5;241m*\u001b[39m\u001b[38;5;241m*\u001b[39mlog10_M1\n\u001b[0;32m---> 24\u001b[0m N_cen \u001b[38;5;241m=\u001b[39m N_central(M, Mmin, sigma_logM)\n\u001b[1;32m     25\u001b[0m N_sat \u001b[38;5;241m=\u001b[39m N_satellite(M, M1_val, alpha, N_cen)\n\u001b[1;32m     26\u001b[0m N_total \u001b[38;5;241m=\u001b[39m N_cen \u001b[38;5;241m+\u001b[39m N_sat\n",
      "Cell \u001b[0;32mIn[1], line 16\u001b[0m, in \u001b[0;36mN_central\u001b[0;34m(M, Mmin, sigma_logM)\u001b[0m\n\u001b[1;32m     15\u001b[0m \u001b[38;5;28;01mdef\u001b[39;00m \u001b[38;5;21mN_central\u001b[39m(M, Mmin, sigma_logM):\n\u001b[0;32m---> 16\u001b[0m     \u001b[38;5;28;01mreturn\u001b[39;00m \u001b[38;5;241m0.5\u001b[39m \u001b[38;5;241m*\u001b[39m (\u001b[38;5;241m1\u001b[39m \u001b[38;5;241m+\u001b[39m np\u001b[38;5;241m.\u001b[39merf((np\u001b[38;5;241m.\u001b[39mlog10(M) \u001b[38;5;241m-\u001b[39m np\u001b[38;5;241m.\u001b[39mlog10(Mmin)) \u001b[38;5;241m/\u001b[39m sigma_logM))\n",
      "File \u001b[0;32m~/.conda/envs/project/lib/python3.12/site-packages/numpy/__init__.py:333\u001b[0m, in \u001b[0;36m__getattr__\u001b[0;34m(attr)\u001b[0m\n\u001b[1;32m    330\u001b[0m     \u001b[38;5;124m\"\u001b[39m\u001b[38;5;124mRemoved in NumPy 1.25.0\u001b[39m\u001b[38;5;124m\"\u001b[39m\n\u001b[1;32m    331\u001b[0m     \u001b[38;5;28;01mraise\u001b[39;00m \u001b[38;5;167;01mRuntimeError\u001b[39;00m(\u001b[38;5;124m\"\u001b[39m\u001b[38;5;124mTester was removed in NumPy 1.25.\u001b[39m\u001b[38;5;124m\"\u001b[39m)\n\u001b[0;32m--> 333\u001b[0m \u001b[38;5;28;01mraise\u001b[39;00m \u001b[38;5;167;01mAttributeError\u001b[39;00m(\u001b[38;5;124m\"\u001b[39m\u001b[38;5;124mmodule \u001b[39m\u001b[38;5;132;01m{!r}\u001b[39;00m\u001b[38;5;124m has no attribute \u001b[39m\u001b[38;5;124m\"\u001b[39m\n\u001b[1;32m    334\u001b[0m                      \u001b[38;5;124m\"\u001b[39m\u001b[38;5;132;01m{!r}\u001b[39;00m\u001b[38;5;124m\"\u001b[39m\u001b[38;5;241m.\u001b[39mformat(\u001b[38;5;18m__name__\u001b[39m, attr))\n",
      "\u001b[0;31mAttributeError\u001b[0m: module 'numpy' has no attribute 'erf'"
     ]
    }
   ],
   "source": [
    "import numpy as np\n",
    "import matplotlib.pyplot as plt\n",
    "\n",
    "# HOD parameters\n",
    "log10_Mmin = 13.05\n",
    "log10_M1 = 14.58\n",
    "alpha = 1.67\n",
    "sigma_logM = 0.2  # typical value for the width of the central galaxy transition\n",
    "\n",
    "# Mass array\n",
    "log10_M = np.linspace(11, 15.5, 500)\n",
    "M = 10**log10_M\n",
    "\n",
    "# HOD components\n",
    "def N_central(M, Mmin, sigma_logM):\n",
    "    return 0.5 * (1 + np.erf((np.log10(M) - np.log10(Mmin)) / sigma_logM))\n",
    "\n",
    "def N_satellite(M, M1, alpha, N_cen):\n",
    "    return N_cen * (M / M1)**alpha * (M > M1)\n",
    "\n",
    "# Calculate HOD\n",
    "Mmin = 10**log10_Mmin\n",
    "M1_val = 10**log10_M1\n",
    "N_cen = N_central(M, Mmin, sigma_logM)\n",
    "N_sat = N_satellite(M, M1_val, alpha, N_cen)\n",
    "N_total = N_cen + N_sat\n",
    "\n",
    "# Plotting\n",
    "plt.figure(figsize=(8, 6))\n",
    "plt.plot(log10_M, N_cen, label=r'Central galaxies', color='blue')\n",
    "plt.plot(log10_M, N_sat, label=r'Satellite galaxies', color='green')\n",
    "plt.plot(log10_M, N_total, label=r'Total $\\langle N_{\\mathrm{gal}} \\rangle$', color='black', linestyle='--')\n",
    "\n",
    "plt.xlabel(r'$\\log_{10}(M_{\\mathrm{halo}}/M_\\odot)$')\n",
    "plt.ylabel(r'$\\langle N_{\\mathrm{gal}} \\rangle$')\n",
    "plt.title('Halo Occupation Distribution (HOD)')\n",
    "plt.legend()\n",
    "plt.grid(True)\n",
    "plt.tight_layout()\n",
    "plt.show()\n"
   ]
  },
  {
   "cell_type": "code",
   "execution_count": null,
   "id": "5abcd021-158c-4262-8ec1-71ad8e6fb272",
   "metadata": {},
   "outputs": [],
   "source": [
    "import scipy.special as sp\n",
    "\n",
    "# Redefine N_central using scipy's erf\n",
    "def N_central(M, Mmin, sigma_logM):\n",
    "    return 0.5 * (1 + sp.erf((np.log10(M) - np.log10(Mmin)) / sigma_logM))\n",
    "\n",
    "# Recalculate HOD\n",
    "N_cen = N_central(M, Mmin, sigma_logM)\n",
    "N_sat = N_satellite(M, M1_val, alpha, N_cen)\n",
    "N_total = N_cen + N_sat\n",
    "\n",
    "# Plotting\n",
    "plt.figure(figsize=(8, 6))\n",
    "plt.plot(log10_M, N_cen, label=r'Central galaxies', color='blue')\n",
    "plt.plot(log10_M, N_sat, label=r'Satellite galaxies', color='green')\n",
    "plt.plot(log10_M, N_total, label=r'Total $\\langle N_{\\mathrm{gal}} \\rangle$', color='black', linestyle='--')\n",
    "\n",
    "plt.xlabel(r'$\\log_{10}(M_{\\mathrm{halo}}/M_\\odot)$')\n",
    "plt.ylabel(r'$\\langle N_{\\mathrm{gal}} \\rangle$')\n",
    "plt.title('Halo Occupation Distribution (HOD)')\n",
    "plt.legend()\n",
    "plt.grid(True)\n",
    "plt.tight_layout()\n",
    "plt.show()\n"
   ]
  },
  {
   "cell_type": "code",
   "execution_count": null,
   "id": "8dc8d5db-c3d3-4165-9c92-08ff34ab9ddc",
   "metadata": {},
   "outputs": [],
   "source": []
  }
 ],
 "metadata": {
  "kernelspec": {
   "display_name": "project",
   "language": "python",
   "name": "project"
  },
  "language_info": {
   "codemirror_mode": {
    "name": "ipython",
    "version": 3
   },
   "file_extension": ".py",
   "mimetype": "text/x-python",
   "name": "python",
   "nbconvert_exporter": "python",
   "pygments_lexer": "ipython3",
   "version": "3.12.7"
  }
 },
 "nbformat": 4,
 "nbformat_minor": 5
}
