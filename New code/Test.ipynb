{
 "cells": [
  {
   "cell_type": "code",
   "execution_count": null,
   "id": "0109e746-d2b6-49d6-bba1-31ff29db55cb",
   "metadata": {},
   "outputs": [],
   "source": [
    "import astropy.io.fits as fits\n",
    "import numpy as np\n",
    "from scipy.integrate import quad\n",
    "import scipy.integrate as integrate\n",
    "from scipy.optimize import curve_fit\n",
    "from astropy.coordinates import SkyCoord\n",
    "from astropy import units as u\n",
    "from astropy.table import Table, join\n",
    "import os\n",
    "import matplotlib.pyplot as plt\n",
    "from astropy.cosmology import FlatLambdaCDM\n",
    "import halomod as hm\n",
    "import hmf\n",
    "import treecorr\n",
    "import DarkVerse as dv\n",
    "\n",
    "\n",
    "%matplotlib inline\n",
    "plt.rc('font',**{'family':'serif','size':14})\n",
    "#plt.rc('text', usetex=True)"
   ]
  },
  {
   "cell_type": "code",
   "execution_count": null,
   "id": "5ab59b9d-c227-4958-9da4-ab1136b10e4a",
   "metadata": {},
   "outputs": [],
   "source": [
    "home_dir = os.path.expanduser('~')\n",
    "directory_SN_X3 = \"/home/astro/manasoi7/Master_Thesis/Results/SN-X3\"\n",
    "directory_SN_C3 = \"/home/astro/manasoi7/Master_Thesis/Results/SN-C3\"\n",
    "directory_SN_E2 = \"/home/astro/manasoi7/Master_Thesis/Results/SN-E2\" \n",
    "directory_COSMOS = \"/home/astro/manasoi7/Master_Thesis/Results/COSMOS\" \n",
    "res = os.path.join(home_dir, 'Master_Thesis', 'Results')"
   ]
  },
  {
   "cell_type": "code",
   "execution_count": null,
   "id": "6045fc9c-4649-42e9-92ce-c358474b2773",
   "metadata": {},
   "outputs": [],
   "source": []
  }
 ],
 "metadata": {
  "kernelspec": {
   "display_name": "project",
   "language": "python",
   "name": "project"
  },
  "language_info": {
   "codemirror_mode": {
    "name": "ipython",
    "version": 3
   },
   "file_extension": ".py",
   "mimetype": "text/x-python",
   "name": "python",
   "nbconvert_exporter": "python",
   "pygments_lexer": "ipython3",
   "version": "3.12.7"
  }
 },
 "nbformat": 4,
 "nbformat_minor": 5
}
