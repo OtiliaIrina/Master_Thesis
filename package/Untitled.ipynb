{
 "cells": [
  {
   "cell_type": "markdown",
   "id": "603ecef8-273a-4771-9b02-a76bf60afe08",
   "metadata": {},
   "source": [
    "# COSMOS "
   ]
  },
  {
   "cell_type": "code",
   "execution_count": null,
   "id": "58076282-2051-4784-aee4-16cb12383485",
   "metadata": {},
   "outputs": [],
   "source": []
  },
  {
   "cell_type": "code",
   "execution_count": null,
   "id": "c54de9b4-c88d-41fb-a597-dcd109b2319b",
   "metadata": {},
   "outputs": [],
   "source": []
  },
  {
   "cell_type": "code",
   "execution_count": null,
   "id": "04afea47-e050-4f80-a813-fee01bdb43bc",
   "metadata": {},
   "outputs": [],
   "source": []
  },
  {
   "cell_type": "code",
   "execution_count": null,
   "id": "b770f7a7-e0ca-435d-b956-9cacd8b93e13",
   "metadata": {},
   "outputs": [],
   "source": []
  },
  {
   "cell_type": "code",
   "execution_count": null,
   "id": "d8c14969-0cdb-48cd-963c-d6521b35efdc",
   "metadata": {},
   "outputs": [],
   "source": []
  }
 ],
 "metadata": {
  "kernelspec": {
   "display_name": "project",
   "language": "python",
   "name": "project"
  },
  "language_info": {
   "codemirror_mode": {
    "name": "ipython",
    "version": 3
   },
   "file_extension": ".py",
   "mimetype": "text/x-python",
   "name": "python",
   "nbconvert_exporter": "python",
   "pygments_lexer": "ipython3",
   "version": "3.12.7"
  }
 },
 "nbformat": 4,
 "nbformat_minor": 5
}
