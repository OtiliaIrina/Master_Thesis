{
 "cells": [
  {
   "cell_type": "code",
   "execution_count": null,
   "id": "dfa682a3-ff9b-4bec-b2df-1a782e354e4d",
   "metadata": {},
   "outputs": [],
   "source": []
  }
 ],
 "metadata": {
  "kernelspec": {
   "display_name": "project",
   "language": "python",
   "name": "project"
  },
  "language_info": {
   "name": ""
  }
 },
 "nbformat": 4,
 "nbformat_minor": 5
}
