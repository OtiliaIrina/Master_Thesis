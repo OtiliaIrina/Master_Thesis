{
 "cells": [
  {
   "cell_type": "markdown",
   "id": "1ee05128-15ba-4876-8c45-8b37804a5487",
   "metadata": {},
   "source": [
    "# SN-E2"
   ]
  },
  {
   "cell_type": "code",
   "execution_count": 1,
   "id": "b470e88d-1d8f-42ca-be9e-d76b76231b43",
   "metadata": {
    "tags": []
   },
   "outputs": [
    {
     "name": "stderr",
     "output_type": "stream",
     "text": [
      "/home/astro/manasoi7/.conda/envs/project/lib/python3.12/site-packages/halomod/halo_model.py:32: UserWarning: Warning: Some Halo-Exclusion models have significant speedup when using Numba\n",
      "  from .halo_exclusion import NoExclusion\n"
     ]
    }
   ],
   "source": [
    "import astropy.io.fits as fits\n",
    "import numpy as np\n",
    "from scipy.integrate import quad\n",
    "import scipy.integrate as integrate\n",
    "from scipy.optimize import curve_fit\n",
    "from astropy.coordinates import SkyCoord\n",
    "from astropy import units as u\n",
    "from astropy.table import Table,join\n",
    "import os\n",
    "import matplotlib.pyplot as plt\n",
    "from astropy.cosmology import FlatLambdaCDM\n",
    "import treecorr\n",
    "#import arviz as az\n",
    "#import pandas as pd\n",
    "#import pymc as pm\n",
    "%matplotlib inline\n",
    "\n",
    "import halomod as hm\n",
    "import hmf\n",
    "\n",
    "\n",
    "#%matplotlib inline\n",
    "#plt.rc('font',**{'family':'sans-serif','sans-serif':['Helvetica'],'size':64})\n",
    "## for Palatino and other serif fonts use:\n",
    "#plt.rc('font',**{'family':'serif','size':18})\n",
    "#plt.rc('text', usetex=True)"
   ]
  },
  {
   "cell_type": "code",
   "execution_count": 2,
   "id": "6dbecbe9-68e5-4986-8bad-6f1e811bb075",
   "metadata": {
    "tags": []
   },
   "outputs": [
    {
     "name": "stdout",
     "output_type": "stream",
     "text": [
      "Filename: /home/astro/manasoi7/Master_Thesis/DATA/SN-E2_randoms_ugriz_trim_video.fits\n",
      "No.    Name      Ver    Type      Cards   Dimensions   Format\n",
      "  0  PRIMARY       1 PrimaryHDU       4   ()      \n",
      "  1  SN-E2_C01_randoms_raw.fits    1 BinTableHDU     18   11025433R x 3C   [E, E, 9A]   \n"
     ]
    }
   ],
   "source": [
    "\n",
    "home_dir = os.path.expanduser('~')\n",
    "thesis_path = os.path.join(home_dir, 'Master_Thesis', 'DATA')\n",
    "\n",
    "\n",
    "\n",
    "# My catalog\n",
    "fits_file_path = os.path.join(thesis_path, \"Y3_deep_fields_DB_wKNN_cat_SN-E2_zm.fits\")  \n",
    "t= Table.read(fits_file_path)\n",
    "masked = os.path.join(thesis_path, \"SN-E2_masked_cat.fits\")  \n",
    "\n",
    "t3= Table.read(masked)\n",
    "\n",
    "\n",
    "t=join(t,t3,keys='id')\n",
    "\n",
    "\n",
    "t.rename_column('ra_1','ra')\n",
    "t.rename_column('dec_1','dec')\n",
    "\n",
    "\n",
    "\n",
    "#Randoms\n",
    "fits_random = os.path.join(thesis_path, \"SN-E2_randoms_ugriz_trim_video.fits\") \n",
    "\n",
    "# Open the FITS file using astropy.io.fits\n",
    "hdulist = fits.open(fits_random)\n",
    "hdulist.info()\n",
    "\n",
    "t2= Table.read(fits_random)\n"
   ]
  },
  {
   "cell_type": "code",
   "execution_count": null,
   "id": "60b12e37-99c0-4d68-a28e-9e1a05772adb",
   "metadata": {},
   "outputs": [],
   "source": []
  },
  {
   "cell_type": "code",
   "execution_count": null,
   "id": "2324e116-435d-4292-9d17-7ac68cf5bd8f",
   "metadata": {},
   "outputs": [],
   "source": []
  }
 ],
 "metadata": {
  "kernelspec": {
   "display_name": "project",
   "language": "python",
   "name": "project"
  },
  "language_info": {
   "codemirror_mode": {
    "name": "ipython",
    "version": 3
   },
   "file_extension": ".py",
   "mimetype": "text/x-python",
   "name": "python",
   "nbconvert_exporter": "python",
   "pygments_lexer": "ipython3",
   "version": "3.12.7"
  }
 },
 "nbformat": 4,
 "nbformat_minor": 5
}
