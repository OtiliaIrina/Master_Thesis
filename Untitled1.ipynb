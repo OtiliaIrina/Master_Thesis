{
 "cells": [
  {
   "cell_type": "code",
   "execution_count": 3,
   "id": "2766b256-93e2-4af9-91be-e640653548aa",
   "metadata": {
    "tags": []
   },
   "outputs": [
    {
     "name": "stdout",
     "output_type": "stream",
     "text": [
      "Fruit(name=apple, colour=red)\n"
     ]
    }
   ],
   "source": [
    "class Fruit:\n",
    "    def __init__(self):\n",
    "        self.name = \"apple\"\n",
    "        self.colour = \"red\"\n",
    "    \n",
    "    def __str__(self):\n",
    "        return f\"Fruit(name={self.name}, colour={self.colour})\"\n",
    "\n",
    "my_fruit = Fruit()\n",
    "print(my_fruit)  # Output: Fruit(name=apple, colour=red)\n"
   ]
  },
  {
   "cell_type": "code",
   "execution_count": 4,
   "id": "1b158290-2910-49ab-8f62-5ce0b8fdb03c",
   "metadata": {
    "tags": []
   },
   "outputs": [
    {
     "name": "stdout",
     "output_type": "stream",
     "text": [
      "Fruit(name=apple, colour=green)\n"
     ]
    }
   ],
   "source": [
    "my_fruit.colour= \"green\"\n",
    "print(my_fruit)  # Output: Fruit(name=apple, colour=red)\n"
   ]
  },
  {
   "cell_type": "code",
   "execution_count": null,
   "id": "d078a69a-4286-4a7d-8e04-47c56643b35d",
   "metadata": {},
   "outputs": [],
   "source": []
  }
 ],
 "metadata": {
  "kernelspec": {
   "display_name": "project",
   "language": "python",
   "name": "project"
  },
  "language_info": {
   "codemirror_mode": {
    "name": "ipython",
    "version": 3
   },
   "file_extension": ".py",
   "mimetype": "text/x-python",
   "name": "python",
   "nbconvert_exporter": "python",
   "pygments_lexer": "ipython3",
   "version": "3.12.7"
  }
 },
 "nbformat": 4,
 "nbformat_minor": 5
}
