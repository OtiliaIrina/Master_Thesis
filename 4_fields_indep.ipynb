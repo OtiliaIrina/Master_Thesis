{
 "cells": [
  {
   "cell_type": "code",
   "execution_count": null,
   "id": "54d5e4fe-d9a9-4a3e-9415-bfc992c869c7",
   "metadata": {},
   "outputs": [],
   "source": [
    "import astropy.io.fits as fits\n",
    "import numpy as np\n",
    "from numpy import array\n",
    "\n",
    "from scipy.integrate import quad\n",
    "import scipy.integrate as integrate\n",
    "from scipy.optimize import curve_fit\n",
    "from scipy import stats\n",
    "\n",
    "from astropy.coordinates import SkyCoord, match_coordinates_sky\n",
    "from astropy import units as u\n",
    "from astropy.table import Table,join\n",
    "import os\n",
    "import matplotlib.pyplot as plt\n",
    "from astropy.cosmology import FlatLambdaCDM\n",
    "from astropy.cosmology import Planck15\n",
    "import treecorr\n",
    "\n",
    "\n",
    "#import arviz as az\n",
    "#import pandas as pd\n",
    "import pymc as pm\n",
    "from pymc import HalfCauchy, Model, Normal, sample\n",
    "\n",
    "%matplotlib inline\n",
    "\n",
    "import halomod as hm\n",
    "import hmf\n",
    "\n",
    "import astropy.io.fits as pyfits\n",
    "import copy\n",
    "import sys"
   ]
  }
 ],
 "metadata": {
  "kernelspec": {
   "display_name": "project",
   "language": "python",
   "name": "project"
  },
  "language_info": {
   "codemirror_mode": {
    "name": "ipython",
    "version": 3
   },
   "file_extension": ".py",
   "mimetype": "text/x-python",
   "name": "python",
   "nbconvert_exporter": "python",
   "pygments_lexer": "ipython3",
   "version": "3.12.7"
  }
 },
 "nbformat": 4,
 "nbformat_minor": 5
}
